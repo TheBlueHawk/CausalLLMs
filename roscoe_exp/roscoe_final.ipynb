{
 "cells": [
  {
   "attachments": {},
   "cell_type": "markdown",
   "metadata": {},
   "source": [
    "# Final ROSCOE scoring of CausalBench"
   ]
  },
  {
   "attachments": {},
   "cell_type": "markdown",
   "metadata": {},
   "source": [
    "## Preparing datasets \n",
    "\n",
    "### Merge ID, prompt, pred"
   ]
  },
  {
   "cell_type": "code",
   "execution_count": 88,
   "metadata": {},
   "outputs": [],
   "source": [
    "# common imports\n",
    "import numpy as np\n",
    "import pandas as pd\n",
    "import matplotlib.pyplot as plt\n",
    "import os\n",
    "import sys\n",
    "import re\n",
    "from typing import Union, List, Tuple, Dict, Any, Optional"
   ]
  },
  {
   "cell_type": "code",
   "execution_count": 87,
   "metadata": {},
   "outputs": [
    {
     "data": {
      "text/html": [
       "<div>\n",
       "<style scoped>\n",
       "    .dataframe tbody tr th:only-of-type {\n",
       "        vertical-align: middle;\n",
       "    }\n",
       "\n",
       "    .dataframe tbody tr th {\n",
       "        vertical-align: top;\n",
       "    }\n",
       "\n",
       "    .dataframe thead th {\n",
       "        text-align: right;\n",
       "    }\n",
       "</style>\n",
       "<table border=\"1\" class=\"dataframe\">\n",
       "  <thead>\n",
       "    <tr style=\"text-align: right;\">\n",
       "      <th></th>\n",
       "      <th>ID</th>\n",
       "      <th>descriptive_id</th>\n",
       "      <th>sensical</th>\n",
       "      <th>query_type</th>\n",
       "      <th>rung</th>\n",
       "      <th>phenomenon</th>\n",
       "      <th>simpson</th>\n",
       "      <th>truth</th>\n",
       "      <th>prompt</th>\n",
       "      <th>truth_norm</th>\n",
       "      <th>pred</th>\n",
       "    </tr>\n",
       "  </thead>\n",
       "  <tbody>\n",
       "    <tr>\n",
       "      <th>0</th>\n",
       "      <td>4669</td>\n",
       "      <td>confounding_a_ett_gender_pay</td>\n",
       "      <td>-1</td>\n",
       "      <td>ett</td>\n",
       "      <td>3</td>\n",
       "      <td>confounding</td>\n",
       "      <td>False</td>\n",
       "      <td>yes</td>\n",
       "      <td>Imagine a self-contained, hypothetical world w...</td>\n",
       "      <td>1</td>\n",
       "      <td>No</td>\n",
       "    </tr>\n",
       "    <tr>\n",
       "      <th>1</th>\n",
       "      <td>4046</td>\n",
       "      <td>collision_n_nie_nonsense0</td>\n",
       "      <td>0</td>\n",
       "      <td>nie</td>\n",
       "      <td>3</td>\n",
       "      <td>collision</td>\n",
       "      <td>False</td>\n",
       "      <td>no</td>\n",
       "      <td>Imagine a self-contained, hypothetical world w...</td>\n",
       "      <td>0</td>\n",
       "      <td>No</td>\n",
       "    </tr>\n",
       "    <tr>\n",
       "      <th>2</th>\n",
       "      <td>1597</td>\n",
       "      <td>arrowhead_c_ett_floor_wet</td>\n",
       "      <td>1</td>\n",
       "      <td>ett</td>\n",
       "      <td>3</td>\n",
       "      <td>arrowhead</td>\n",
       "      <td>False</td>\n",
       "      <td>yes</td>\n",
       "      <td>Imagine a self-contained, hypothetical world w...</td>\n",
       "      <td>1</td>\n",
       "      <td>Yes</td>\n",
       "    </tr>\n",
       "    <tr>\n",
       "      <th>3</th>\n",
       "      <td>2995</td>\n",
       "      <td>chain_a_nie_smoking_gene_cancer</td>\n",
       "      <td>-1</td>\n",
       "      <td>nie</td>\n",
       "      <td>3</td>\n",
       "      <td>chain</td>\n",
       "      <td>False</td>\n",
       "      <td>yes</td>\n",
       "      <td>Imagine a self-contained, hypothetical world w...</td>\n",
       "      <td>1</td>\n",
       "      <td>No</td>\n",
       "    </tr>\n",
       "    <tr>\n",
       "      <th>4</th>\n",
       "      <td>9475</td>\n",
       "      <td>nondet-diamondcut_c_nde_smoking_frontdoor</td>\n",
       "      <td>1</td>\n",
       "      <td>nde</td>\n",
       "      <td>3</td>\n",
       "      <td>nondet-diamondcut</td>\n",
       "      <td>False</td>\n",
       "      <td>yes</td>\n",
       "      <td>Imagine a self-contained, hypothetical world w...</td>\n",
       "      <td>1</td>\n",
       "      <td>Yes</td>\n",
       "    </tr>\n",
       "  </tbody>\n",
       "</table>\n",
       "</div>"
      ],
      "text/plain": [
       "     ID                             descriptive_id  sensical query_type  rung  \\\n",
       "0  4669               confounding_a_ett_gender_pay        -1        ett     3   \n",
       "1  4046                  collision_n_nie_nonsense0         0        nie     3   \n",
       "2  1597                  arrowhead_c_ett_floor_wet         1        ett     3   \n",
       "3  2995            chain_a_nie_smoking_gene_cancer        -1        nie     3   \n",
       "4  9475  nondet-diamondcut_c_nde_smoking_frontdoor         1        nde     3   \n",
       "\n",
       "          phenomenon  simpson truth  \\\n",
       "0        confounding    False   yes   \n",
       "1          collision    False    no   \n",
       "2          arrowhead    False   yes   \n",
       "3              chain    False   yes   \n",
       "4  nondet-diamondcut    False   yes   \n",
       "\n",
       "                                              prompt  truth_norm pred  \n",
       "0  Imagine a self-contained, hypothetical world w...           1   No  \n",
       "1  Imagine a self-contained, hypothetical world w...           0   No  \n",
       "2  Imagine a self-contained, hypothetical world w...           1  Yes  \n",
       "3  Imagine a self-contained, hypothetical world w...           1   No  \n",
       "4  Imagine a self-contained, hypothetical world w...           1  Yes  "
      ]
     },
     "execution_count": 87,
     "metadata": {},
     "output_type": "execute_result"
    }
   ],
   "source": [
    "# read two cvs files\n",
    "overall_result = pd.read_csv(\"raw_datasets/bern_cna_35_gpt4cot.csv\")\n",
    "overall_result.head()"
   ]
  },
  {
   "cell_type": "code",
   "execution_count": 89,
   "metadata": {},
   "outputs": [
    {
     "data": {
      "text/html": [
       "<div>\n",
       "<style scoped>\n",
       "    .dataframe tbody tr th:only-of-type {\n",
       "        vertical-align: middle;\n",
       "    }\n",
       "\n",
       "    .dataframe tbody tr th {\n",
       "        vertical-align: top;\n",
       "    }\n",
       "\n",
       "    .dataframe thead th {\n",
       "        text-align: right;\n",
       "    }\n",
       "</style>\n",
       "<table border=\"1\" class=\"dataframe\">\n",
       "  <thead>\n",
       "    <tr style=\"text-align: right;\">\n",
       "      <th></th>\n",
       "      <th>ID</th>\n",
       "      <th>prompt</th>\n",
       "    </tr>\n",
       "  </thead>\n",
       "  <tbody>\n",
       "    <tr>\n",
       "      <th>0</th>\n",
       "      <td>4669</td>\n",
       "      <td>Imagine a self-contained, hypothetical world w...</td>\n",
       "    </tr>\n",
       "    <tr>\n",
       "      <th>1</th>\n",
       "      <td>4046</td>\n",
       "      <td>Imagine a self-contained, hypothetical world w...</td>\n",
       "    </tr>\n",
       "    <tr>\n",
       "      <th>2</th>\n",
       "      <td>1597</td>\n",
       "      <td>Imagine a self-contained, hypothetical world w...</td>\n",
       "    </tr>\n",
       "    <tr>\n",
       "      <th>3</th>\n",
       "      <td>2995</td>\n",
       "      <td>Imagine a self-contained, hypothetical world w...</td>\n",
       "    </tr>\n",
       "    <tr>\n",
       "      <th>4</th>\n",
       "      <td>9475</td>\n",
       "      <td>Imagine a self-contained, hypothetical world w...</td>\n",
       "    </tr>\n",
       "  </tbody>\n",
       "</table>\n",
       "</div>"
      ],
      "text/plain": [
       "     ID                                             prompt\n",
       "0  4669  Imagine a self-contained, hypothetical world w...\n",
       "1  4046  Imagine a self-contained, hypothetical world w...\n",
       "2  1597  Imagine a self-contained, hypothetical world w...\n",
       "3  2995  Imagine a self-contained, hypothetical world w...\n",
       "4  9475  Imagine a self-contained, hypothetical world w..."
      ]
     },
     "execution_count": 89,
     "metadata": {},
     "output_type": "execute_result"
    }
   ],
   "source": [
    "# keep just ID and prompt columns\n",
    "overall_result = overall_result[[\"ID\", \"prompt\"]]\n",
    "overall_result.head()"
   ]
  },
  {
   "cell_type": "code",
   "execution_count": 90,
   "metadata": {},
   "outputs": [
    {
     "data": {
      "text/html": [
       "<div>\n",
       "<style scoped>\n",
       "    .dataframe tbody tr th:only-of-type {\n",
       "        vertical-align: middle;\n",
       "    }\n",
       "\n",
       "    .dataframe tbody tr th {\n",
       "        vertical-align: top;\n",
       "    }\n",
       "\n",
       "    .dataframe thead th {\n",
       "        text-align: right;\n",
       "    }\n",
       "</style>\n",
       "<table border=\"1\" class=\"dataframe\">\n",
       "  <thead>\n",
       "    <tr style=\"text-align: right;\">\n",
       "      <th></th>\n",
       "      <th>pred</th>\n",
       "      <th>query</th>\n",
       "    </tr>\n",
       "  </thead>\n",
       "  <tbody>\n",
       "    <tr>\n",
       "      <th>0</th>\n",
       "      <td>No, the prisoner being alive cannot be guarant...</td>\n",
       "      <td>We know that captain commands causes rifleman1...</td>\n",
       "    </tr>\n",
       "    <tr>\n",
       "      <th>1</th>\n",
       "      <td>pred</td>\n",
       "      <td>query</td>\n",
       "    </tr>\n",
       "    <tr>\n",
       "      <th>2</th>\n",
       "      <td>No, we cannot definitively conclude that the s...</td>\n",
       "      <td>principal's direction makes teacher1 and teach...</td>\n",
       "    </tr>\n",
       "    <tr>\n",
       "      <th>3</th>\n",
       "      <td>No, based on the information provided, we cann...</td>\n",
       "      <td>principal's anger makes teacher1 and teacher2 ...</td>\n",
       "    </tr>\n",
       "    <tr>\n",
       "      <th>4</th>\n",
       "      <td>No, the student might not necessarily be alive...</td>\n",
       "      <td>We know that captain commands causes professor...</td>\n",
       "    </tr>\n",
       "  </tbody>\n",
       "</table>\n",
       "</div>"
      ],
      "text/plain": [
       "                                                pred  \\\n",
       "0  No, the prisoner being alive cannot be guarant...   \n",
       "1                                               pred   \n",
       "2  No, we cannot definitively conclude that the s...   \n",
       "3  No, based on the information provided, we cann...   \n",
       "4  No, the student might not necessarily be alive...   \n",
       "\n",
       "                                               query  \n",
       "0  We know that captain commands causes rifleman1...  \n",
       "1                                              query  \n",
       "2  principal's direction makes teacher1 and teach...  \n",
       "3  principal's anger makes teacher1 and teacher2 ...  \n",
       "4  We know that captain commands causes professor...  "
      ]
     },
     "execution_count": 90,
     "metadata": {},
     "output_type": "execute_result"
    }
   ],
   "source": [
    "prompt2gpt_response_lookup = pd.read_csv(\"raw_datasets/cache_gpt4_responses.csv\")\n",
    "prompt2gpt_response_lookup.head()"
   ]
  },
  {
   "cell_type": "code",
   "execution_count": 91,
   "metadata": {},
   "outputs": [
    {
     "name": "stdout",
     "output_type": "stream",
     "text": [
      "principal's anger makes teacher1 and teacher2 to blame the student. If either teacher1 of teacher2 blame the student, the student become emotionally damaged. We observed the principal wasn't angry. Would the student be emotionally damaged if teacher2 blame the student?  \n",
      "Start your answer with \"Yes\", or \"No\", followed by step-by-step reasoning to support your explanation.\n"
     ]
    }
   ],
   "source": [
    "# print full contennt of thrid row\n",
    "print(prompt2gpt_response_lookup.iloc[3, 1])"
   ]
  },
  {
   "cell_type": "code",
   "execution_count": 92,
   "metadata": {},
   "outputs": [
    {
     "data": {
      "text/html": [
       "<div>\n",
       "<style scoped>\n",
       "    .dataframe tbody tr th:only-of-type {\n",
       "        vertical-align: middle;\n",
       "    }\n",
       "\n",
       "    .dataframe tbody tr th {\n",
       "        vertical-align: top;\n",
       "    }\n",
       "\n",
       "    .dataframe thead th {\n",
       "        text-align: right;\n",
       "    }\n",
       "</style>\n",
       "<table border=\"1\" class=\"dataframe\">\n",
       "  <thead>\n",
       "    <tr style=\"text-align: right;\">\n",
       "      <th></th>\n",
       "      <th>ID</th>\n",
       "      <th>prompt</th>\n",
       "      <th>pred</th>\n",
       "    </tr>\n",
       "  </thead>\n",
       "  <tbody>\n",
       "    <tr>\n",
       "      <th>0</th>\n",
       "      <td>4669</td>\n",
       "      <td>Imagine a self-contained, hypothetical world w...</td>\n",
       "      <td>Step 1) Extract the causal graph: The causal g...</td>\n",
       "    </tr>\n",
       "    <tr>\n",
       "      <th>1</th>\n",
       "      <td>4046</td>\n",
       "      <td>Imagine a self-contained, hypothetical world w...</td>\n",
       "      <td>Step 1) Extract the causal graph: The causal g...</td>\n",
       "    </tr>\n",
       "    <tr>\n",
       "      <th>2</th>\n",
       "      <td>1597</td>\n",
       "      <td>Imagine a self-contained, hypothetical world w...</td>\n",
       "      <td>Step 1) Extract the causal graph: The causal g...</td>\n",
       "    </tr>\n",
       "    <tr>\n",
       "      <th>3</th>\n",
       "      <td>2995</td>\n",
       "      <td>Imagine a self-contained, hypothetical world w...</td>\n",
       "      <td>Step 1) Extract the causal graph: The causal g...</td>\n",
       "    </tr>\n",
       "    <tr>\n",
       "      <th>4</th>\n",
       "      <td>9475</td>\n",
       "      <td>Imagine a self-contained, hypothetical world w...</td>\n",
       "      <td>Step 1) Extract the causal graph: The causal g...</td>\n",
       "    </tr>\n",
       "  </tbody>\n",
       "</table>\n",
       "</div>"
      ],
      "text/plain": [
       "     ID                                             prompt  \\\n",
       "0  4669  Imagine a self-contained, hypothetical world w...   \n",
       "1  4046  Imagine a self-contained, hypothetical world w...   \n",
       "2  1597  Imagine a self-contained, hypothetical world w...   \n",
       "3  2995  Imagine a self-contained, hypothetical world w...   \n",
       "4  9475  Imagine a self-contained, hypothetical world w...   \n",
       "\n",
       "                                                pred  \n",
       "0  Step 1) Extract the causal graph: The causal g...  \n",
       "1  Step 1) Extract the causal graph: The causal g...  \n",
       "2  Step 1) Extract the causal graph: The causal g...  \n",
       "3  Step 1) Extract the causal graph: The causal g...  \n",
       "4  Step 1) Extract the causal graph: The causal g...  "
      ]
     },
     "execution_count": 92,
     "metadata": {},
     "output_type": "execute_result"
    }
   ],
   "source": [
    "# Using the \"prompt\" from overall_result df, look up the GPT4’s reasoning chain in the .cache_gpt4_responses.csv file (use \"query\" to look up \"pred\").\n",
    "# If the \"pred\" is not empty, then add the \"pred\" to the overall_result df.\n",
    "\n",
    "overall_result[\"pred\"] = overall_result[\"prompt\"].apply(\n",
    "    lambda x: prompt2gpt_response_lookup[prompt2gpt_response_lookup[\"query\"] == x][\n",
    "        \"pred\"\n",
    "    ].values[0]\n",
    "    if len(\n",
    "        prompt2gpt_response_lookup[prompt2gpt_response_lookup[\"query\"] == x][\n",
    "            \"pred\"\n",
    "        ].values\n",
    "    )\n",
    "    > 0\n",
    "    else np.nan\n",
    ")\n",
    "overall_result.head()"
   ]
  },
  {
   "cell_type": "code",
   "execution_count": 93,
   "metadata": {},
   "outputs": [
    {
     "name": "stdout",
     "output_type": "stream",
     "text": [
      "Imagine a self-contained, hypothetical world with only the following conditions, and without any unmentioned factors or causal relationships: Smoking mother has a direct effect on low infant birth weight and infant mortality. Low infant birth weight has a direct effect on infant mortality. For children with nonsmoking mothers, the probability of infant mortality is 58.03%. For children with smoking mothers, the probability of infant mortality is 58.53%. Will smoking mother increase the chance of infant mortality?\n",
      "\n",
      "Hint: You can answer the question by following the subquestions below:\n",
      "\n",
      "Step 1) Extract the causal graph: What is the causal graph expressed in the context? Use \"X\" to denote \"maternal smoking status\". Use \"V2\" to denote \"infant's birth weight\". Use \"Y\" to denote \"infant mortality\". Answer nothing else but each edge one by one, in the format of \"var1 -> var2\", and use \",\" to separate the edges.\n",
      "\n",
      "Step 2) Identify the query type: What is the query type of the above question? Choose one from \"marginal probability\", \"conditional probability\", \"explaining away effect\", \"backdoor adjustment set\", \"average treatment effect\", \"collider bias\", \"normal counterfactual question\", \"average treatment effect on treated\", \"natural direct effect\", or \"natural indirect effect\". Answer nothing else but a quoted choice from above.\n",
      "\n",
      "Step 3) Translate the query to an estimand: Based on the type of the causal query, translate the question to a formal estimand. Use the \"do(·)\" notation or counterfactual notations whenever necessary.\n",
      "\n",
      "Step 4) Collect all the available data: Extract all available data. Answer nothing else but marginal probabilities and conditional probabilities, in the form of \"P(...)=...\" or \"P(...|...)=...\", and use \";\" to separate each of them. Use \"X\" to denote \"maternal smoking status\". Use \"V2\" to denote \"infant's birth weight\". Use \"Y\" to denote \"infant mortality\".\n",
      "\n",
      "Step 5) Solve for the estimand: Given all the information above, solve for the estimand mentioned before using causal inference skills such as do-calculus, counterfactual prediction, and the basics of probabilities. Answer step by step.\n",
      "####################################################################################################\n",
      "Step 1) Extract the causal graph: The causal graph expressed in the context is \"X -> V2, V2 -> Y, X -> Y\".\n",
      "\n",
      "Step 2) Identify the query type: The query type of the above question is \"average treatment effect\".\n",
      "\n",
      "Step 3) Translate the query to an estimand: Based on the type of the causal query, the question can be translated to a formal estimand as E[Y|do(X=1)] - E[Y|do(X=0)].\n",
      "\n",
      "Step 4) Collect all the available data: The available data are \"P(Y=1|X=0)=0.5803; P(Y=1|X=1)=0.5853\".\n",
      "\n",
      "Step 5) Solve for the estimand: Given all the information above, we can directly solve for the estimand mentioned before using the basics of probabilities. \n",
      "\n",
      "E[Y|do(X=1)] - E[Y|do(X=0)] = P(Y=1|X=1) - P(Y=1|X=0) = 0.5853 - 0.5803 = 0.005.\n",
      "\n",
      "So, yes, a smoking mother will increase the chance of infant mortality by 0.5%.\n"
     ]
    }
   ],
   "source": [
    "# print full contennt of first row\n",
    "print(overall_result.iloc[405, 1])\n",
    "print(\"#\" * 100)\n",
    "print(overall_result.iloc[405, 2])"
   ]
  },
  {
   "cell_type": "code",
   "execution_count": 94,
   "metadata": {},
   "outputs": [
    {
     "name": "stdout",
     "output_type": "stream",
     "text": [
      "4489\n",
      "4489\n"
     ]
    }
   ],
   "source": [
    "# print len of overall_result\n",
    "print(len(overall_result))\n",
    "# new df with no null values\n",
    "overall_result_no_null = overall_result.dropna()\n",
    "# print len of new df\n",
    "print(len(overall_result_no_null))"
   ]
  },
  {
   "cell_type": "code",
   "execution_count": 95,
   "metadata": {},
   "outputs": [
    {
     "data": {
      "text/plain": [
       "Step 1) Extract the causal graph: The causal graph expressed in the context is as follows: V1 -> X, V1 -> Y, X -> Y.\\n\\nStep 2) Identify the query type: The query type of the above question is \"backdoor adjustment set\".\\n\\nStep 3) Translate the query to an estimand: Based on the type of the causal query, the question can be translated to a formal estimand as E[Y|do(X)].\\n\\nStep 4) Collect all the available data: We do not have any specific data provided in the question. However, we know the causal relationships: P(V1 -> X), P(V1 -> Y), and P(X -> Y).\\n\\nStep 5) Solve for the estimand: Given all the information above, we can solve for the estimand E[Y|do(X)] using the backdoor adjustment set. Since V1 is a common cause of both X and Y, we need to condition on V1 to block the backdoor path from X to Y through V1. Therefore, we can estimate the causal effect of X on Y by looking at the correlation between X and Y case by case according to V1 (snov). So the answer is \"No\".                                                                                                                                                                                                                                                                                                                                                                                                                                                                                                                                5\n",
       "Step 1) Extract the causal graph: The causal graph expressed in the context is \"X -> V3, Y -> V3\".\\n\\nStep 2) Identify the query type: The query type of the above question is \"conditional probability\".\\n\\nStep 3) Translate the query to an estimand: Based on the type of the causal query, the question can be translated to a formal estimand as P(Y|do(X=1)).\\n\\nStep 4) Collect all the available data: There is no available data provided in the question. We only know the causal relationships between the variables, but no specific probabilities are given.\\n\\nStep 5) Solve for the estimand: Given the information above, we cannot solve for the estimand P(Y|do(X=1)) using causal inference skills, as there is no available data provided in the question. We need more information about the probabilities and relationships between the variables to answer the question.                                                                                                                                                                                                                                                                                                                                                                                                                                                                                                                                                                                                                                                       5\n",
       "Step 1) Extract the causal graph: The causal graph expressed in the context is as follows: V1 -> X, V1 -> Y, X -> V3, V3 -> Y.\\n\\nStep 2) Identify the query type: The query type of the above question is \"natural direct effect\".\\n\\nStep 3) Translate the query to an estimand: Based on the type of the causal query, the question can be translated to a formal estimand as E[Y_x - Y_{x'}], where x and x' represent different levels of jyke (X), and Y_x and Y_{x'} are the counterfactual outcomes of ovka (Y) under those levels.\\n\\nStep 4) Collect all the available data: Since Fyqi (V1) is unobserved, we cannot provide any marginal probabilities or conditional probabilities for the available data.\\n\\nStep 5) Solve for the estimand: Given the lack of available data, we cannot solve for the estimand using causal inference skills such as do-calculus, counterfactual prediction, and the basics of probabilities. We need more information about the relationships between the variables and the distribution of the unobserved variable V1 (Fyqi) to answer the question.                                                                                                                                                                                                                                                                                                                                                                                                                                                  4\n",
       "Step 1) Extract the causal graph: The causal graph expressed in the context is as follows: \"V1 -> X, X -> Y, V1 -> Y, X -> V3, V3 -> Y\".\\n\\nStep 2) Identify the query type: The query type of the above question is \"natural direct effect\".\\n\\nStep 3) Translate the query to an estimand: Based on the type of the causal query, the question can be translated to a formal estimand as E[Y_x(1) - Y_x(0)].\\n\\nStep 4) Collect all the available data: Since the poverty level of the region (V1) is unobserved, we cannot provide any marginal or conditional probabilities for it. We also do not have any specific probabilities given for the other variables. Therefore, we cannot provide any probabilities in the form of \"P(...)=...\" or \"P(...|...)=...\".\\n\\nStep 5) Solve for the estimand: Given the lack of specific probabilities and the unobserved nature of V1, we cannot directly solve for the estimand E[Y_x(1) - Y_x(0)] using causal inference skills such as do-calculus, counterfactual prediction, and the basics of probabilities.\\n\\nHowever, based on the causal graph and the relationships described in the hypothetical world, we can still reason about the effect of pure water on cholera prevention. Since low poverty rate has a direct effect on pure water and cholera prevention, and pure water has a direct effect on cholera prevention, it is reasonable to assume that pure water would still positively affect cholera prevention even if we disregard the mediation effect through water company B.    4\n",
       "Step 1) Extract the causal graph: The causal graph expressed in the context is as follows: \"V1 -> X, V1 -> V3, X -> Y, V3 -> Y\".\\n\\nStep 2) Identify the query type: The query type of the above question is \"natural indirect effect\".\\n\\nStep 3) Translate the query to an estimand: Based on the type of the causal query, the question can be translated to a formal estimand as \"E(Y_x | do(V1)) - E(Y_x | do(not V1))\", where Y_x represents the counterfactual outcome of Y when X is set to x.\\n\\nStep 4) Collect all the available data: Unfortunately, the problem statement does not provide any specific data in the form of marginal probabilities or conditional probabilities. Therefore, we cannot proceed with this step.\\n\\nStep 5) Solve for the estimand: Given the lack of available data, we cannot solve for the estimand using causal inference skills such as do-calculus, counterfactual prediction, and the basics of probabilities.                                                                                                                                                                                                                                                                                                                                                                                                                                                                                                                                                                                        4\n",
       "                                                                                                                                                                                                                                                                                                                                                                                                                                                                                                                                                                                                                                                                                                                                                                                                                                                                                                                                                                                                                                                                                                                                                                                                                                                                                                                                                                                                                                                                                                                                                      ..\n",
       "Step 1) Extract the causal graph: The causal graph expressed in the context is \"X -> V3, X -> Y, V2 -> V3, V2 -> Y, V3 -> Y\". \\n\\nStep 2) Identify the query type: The query type of the above question is \"normal counterfactual question\".\\n\\nStep 3) Translate the query to an estimand: Based on the type of the causal query, the question can be translated to a formal estimand as \"P(Y_x=1 | X=1)\".\\n\\nStep 4) Collect all the available data: The available data are \"P(Y=1|X=0)=0.4449; P(Y=1|X=1)=0.6731\".\\n\\nStep 5) Solve for the estimand: Given all the information above, we can directly use the available data to solve for the estimand. Since we are interested in the probability of gwet (Y=1) for those who are pexy (X=1), we can directly use the conditional probability P(Y=1|X=1) which is 0.6731. So, for those who are pexy, it would be more likely to see gwet if it had been pexy, as the probability is 67.31%.                                                                                                                                                                                                                                                                                                                                                                                                                                                                                                                                                                                                      1\n",
       "Step 1) Extract the causal graph: The causal graph expressed in the context is \"X -> V2, V2 -> Y\".\\n\\nStep 2) Identify the query type: The query type of the above question is \"normal counterfactual question\".\\n\\nStep 3) Translate the query to an estimand: Based on the type of the causal query, the question can be translated to a formal estimand as \"P(Y_x=1 | X=1)\" where x=0, meaning the probability of cholera prevention if the person had not been window-shopping, given that they are window-shopping.\\n\\nStep 4) Collect all the available data: The available data are \"P(Y=1 | X=0) = 0.3505; P(Y=1 | X=1) = 0.6278\".\\n\\nStep 5) Solve for the estimand: Given all the information above, we can solve for the estimand using the basics of probabilities. Since we are given the probabilities of cholera prevention for people who are not window-shopping (X=0) and for people who are window-shopping (X=1), we can directly compare these probabilities to answer the question.\\n\\nP(Y_x=1 | X=1) = P(Y=1 | X=0) = 0.3505\\n\\nSince the probability of cholera prevention for people who are not window-shopping (35.05%) is lower than the probability of cholera prevention for people who are window-shopping (62.78%), it would not be more likely to see cholera prevention if the person had not been window-shopping.                                                                                                                                                                                                  1\n",
       "Step 1) Extract the causal graph: The causal graph expressed in the context is \"X -> V3, V3 -> Y\".\\n\\nStep 2) Identify the query type: The query type of the above question is \"conditional probability\".\\n\\nStep 3) Translate the query to an estimand: Based on the type of the causal query, the question can be translated to a formal estimand as \"P(Y=1|do(X=1))\".\\n\\nStep 4) Collect all the available data: The available data are \"P(Y=1|X=0)=0.1; P(Y=1|X=1)=0.1\".\\n\\nStep 5) Solve for the estimand: Given all the information above, we can solve for the estimand as follows:\\n\\nSince the causal graph is \"X -> V3, V3 -> Y\" and we are interested in the effect of X on Y, we can use the backdoor criterion to identify a valid adjustment set. In this case, the valid adjustment set is {V3}. However, we do not have information about the relationship between V3 and X or Y, so we cannot directly compute the effect of X on Y using the backdoor adjustment.\\n\\nHowever, we are given the conditional probabilities P(Y=1|X=0) and P(Y=1|X=1), both of which are equal to 0.1. This means that the probability of infant mortality is the same for both smoking and nonsmoking mothers. Therefore, the chance of infant mortality is not larger when observing a smoking mother, as P(Y=1|do(X=1)) = P(Y=1|X=1) = 0.1.                                                                                                                                                                                                          1\n",
       "Step 1) Extract the causal graph: The causal graph expressed in the context is \"X -> V2, V2 -> Y, X -> Y\".\\n\\nStep 2) Identify the query type: The query type of the above question is \"average treatment effect\".\\n\\nStep 3) Translate the query to an estimand: Based on the type of the causal query, the question can be translated to a formal estimand as E[Y|do(X=1)] - E[Y|do(X=0)].\\n\\nStep 4) Collect all the available data: The available data are P(Y=1|X=0)=0.4988 and P(Y=1|X=1)=0.5089.\\n\\nStep 5) Solve for the estimand: Given all the information above, we can directly solve for the estimand using the provided probabilities:\\n\\nE[Y|do(X=1)] - E[Y|do(X=0)] = P(Y=1|X=1) - P(Y=1|X=0) = 0.5089 - 0.4988 = 0.0101.\\n\\nSo, having a smoking mother increases the chance of infant mortality by 1.01%.                                                                                                                                                                                                                                                                                                                                                                                                                                                                                                                                                                                                                                                                                                                            1\n",
       "Step 1) Extract the causal graph: The causal graph expressed in the context is \"X -> V3\", \"X -> Y\", \"V2 -> V3\", \"V2 -> Y\", \"V3 -> Y\".\\n\\nStep 2) Identify the query type: The query type of the above question is \"normal counterfactual question\".\\n\\nStep 3) Translate the query to an estimand: Based on the type of the causal query, the question can be translated to a formal estimand as \"P(Y_x=1 | X=1)\".\\n\\nStep 4) Collect all the available data: The available data are \"P(Y=1|X=0)=0.5410\" and \"P(Y=1|X=1)=0.2717\".\\n\\nStep 5) Solve for the estimand: Given all the information above, we can directly use the available data to answer the counterfactual question. Since the question asks for the probability of hwaz (Y=1) for those who are rujx (X=1), we can directly use the available data: P(Y=1|X=1)=0.2717. Therefore, for those who are rujx, it would be more likely to see hwaz if it had been rujx, with a probability of 27.17%.                                                                                                                                                                                                                                                                                                                                                                                                                                                                                                                                                                                       1\n",
       "Name: pred, Length: 4207, dtype: int64"
      ]
     },
     "execution_count": 95,
     "metadata": {},
     "output_type": "execute_result"
    }
   ],
   "source": [
    "# Check if there are two identical entries in pred column\n",
    "overall_result_no_null[\"pred\"].value_counts()"
   ]
  },
  {
   "cell_type": "code",
   "execution_count": 96,
   "metadata": {},
   "outputs": [
    {
     "data": {
      "text/plain": [
       "Imagine a self-contained, hypothetical world with only the following conditions, and without any unmentioned factors or causal relationships: Snov has a direct effect on rujx and nyrp. Rujx has a direct effect on nyrp.  To understand how rujx affects nyrp, should we look directly at how rujx correlates with nyrp in general, or this correlation case by case according to snov? Use \"Yes\" to indicate the former, and \"No\" to indicate the latter.\\n\\nHint: You can answer the question by following the subquestions below:\\n\\nStep 1) Extract the causal graph: What is the causal graph expressed in the context? Use \"V1\" to denote \"snov\". Use \"X\" to denote \"rujx\". Use \"Y\" to denote \"nyrp\". Answer nothing else but each edge one by one, in the format of \"var1 -> var2\", and use \",\" to separate the edges.\\n\\nStep 2) Identify the query type: What is the query type of the above question? Choose one from \"marginal probability\", \"conditional probability\", \"explaining away effect\", \"backdoor adjustment set\", \"average treatment effect\", \"collider bias\", \"normal counterfactual question\", \"average treatment effect on treated\", \"natural direct effect\", or \"natural indirect effect\". Answer nothing else but a quoted choice from above.\\n\\nStep 3) Translate the query to an estimand: Based on the type of the causal query, translate the question to a formal estimand. Use the \"do(·)\" notation or counterfactual notations whenever necessary.\\n\\nStep 4) Collect all the available data: Extract all available data. Answer nothing else but marginal probabilities and conditional probabilities, in the form of \"P(...)=...\" or \"P(...|...)=...\", and use \";\" to separate each of them. Use \"V1\" to denote \"snov\". Use \"X\" to denote \"rujx\". Use \"Y\" to denote \"nyrp\".\\n\\nStep 5) Solve for the estimand: Given all the information above, solve for the estimand mentioned before using causal inference skills such as do-calculus, counterfactual prediction, and the basics of probabilities. Answer step by step.                                                                                                                                                                                                                                                                                                                                                                                                                                                                                                                                                                                                                                                                                                                                                                                                                                                                                                                                                                                                                                                                                                                                 5\n",
       "Imagine a self-contained, hypothetical world with only the following conditions, and without any unmentioned factors or causal relationships: Increased yield per acre has a direct effect on increased supply and increased price. Increased supply has a direct effect on increased price.  Does supply affect price through yield per acre?\\n\\nHint: You can answer the question by following the subquestions below:\\n\\nStep 1) Extract the causal graph: What is the causal graph expressed in the context? Use \"V1\" to denote \"yield per acre\". Use \"X\" to denote \"supply\". Use \"Y\" to denote \"price\". Answer nothing else but each edge one by one, in the format of \"var1 -> var2\", and use \",\" to separate the edges.\\n\\nStep 2) Identify the query type: What is the query type of the above question? Choose one from \"marginal probability\", \"conditional probability\", \"explaining away effect\", \"backdoor adjustment set\", \"average treatment effect\", \"collider bias\", \"normal counterfactual question\", \"average treatment effect on treated\", \"natural direct effect\", or \"natural indirect effect\". Answer nothing else but a quoted choice from above.\\n\\nStep 3) Translate the query to an estimand: Based on the type of the causal query, translate the question to a formal estimand. Use the \"do(·)\" notation or counterfactual notations whenever necessary.\\n\\nStep 4) Collect all the available data: Extract all available data. Answer nothing else but marginal probabilities and conditional probabilities, in the form of \"P(...)=...\" or \"P(...|...)=...\", and use \";\" to separate each of them. Use \"V1\" to denote \"yield per acre\". Use \"X\" to denote \"supply\". Use \"Y\" to denote \"price\".\\n\\nStep 5) Solve for the estimand: Given all the information above, solve for the estimand mentioned before using causal inference skills such as do-calculus, counterfactual prediction, and the basics of probabilities. Answer step by step.                                                                                                                                                                                                                                                                                                                                                                                                                                                                                                                                                                                                                                                                                                                                                                                                                                                                                                                                                                                                                                                                                                                                                                                                                     4\n",
       "Imagine a self-contained, hypothetical world with only the following conditions, and without any unmentioned factors or causal relationships: Vyta has a direct effect on jyke and fyqi. Jyke has a direct effect on ovka. Fyqi has a direct effect on ovka.  Does jyke affect ovka through either of vyta, or fyqi?\\n\\nHint: You can answer the question by following the subquestions below:\\n\\nStep 1) Extract the causal graph: What is the causal graph expressed in the context? Use \"V1\" to denote \"vyta\". Use \"V3\" to denote \"fyqi\". Use \"X\" to denote \"jyke\". Use \"Y\" to denote \"ovka\". Answer nothing else but each edge one by one, in the format of \"var1 -> var2\", and use \",\" to separate the edges.\\n\\nStep 2) Identify the query type: What is the query type of the above question? Choose one from \"marginal probability\", \"conditional probability\", \"explaining away effect\", \"backdoor adjustment set\", \"average treatment effect\", \"collider bias\", \"normal counterfactual question\", \"average treatment effect on treated\", \"natural direct effect\", or \"natural indirect effect\". Answer nothing else but a quoted choice from above.\\n\\nStep 3) Translate the query to an estimand: Based on the type of the causal query, translate the question to a formal estimand. Use the \"do(·)\" notation or counterfactual notations whenever necessary.\\n\\nStep 4) Collect all the available data: Extract all available data. Answer nothing else but marginal probabilities and conditional probabilities, in the form of \"P(...)=...\" or \"P(...|...)=...\", and use \";\" to separate each of them. Use \"V1\" to denote \"vyta\". Use \"V3\" to denote \"fyqi\". Use \"X\" to denote \"jyke\". Use \"Y\" to denote \"ovka\".\\n\\nStep 5) Solve for the estimand: Given all the information above, solve for the estimand mentioned before using causal inference skills such as do-calculus, counterfactual prediction, and the basics of probabilities. Answer step by step.                                                                                                                                                                                                                                                                                                                                                                                                                                                                                                                                                                                                                                                                                                                                                                                                                                                                                                                                                                                                                                                                                                                                                                                                                   4\n",
       "Imagine a self-contained, hypothetical world with only the following conditions, and without any unmentioned factors or causal relationships: Low poverty rate has a direct effect on pure water and cholera prevention. Pure water has a direct effect on water company B. Water company B has a direct effect on cholera prevention. Poverty level of the region is unobserved.  If we disregard the mediation effect through water company, would pure water still positively affect cholera prevention?\\n\\nHint: You can answer the question by following the subquestions below:\\n\\nStep 1) Extract the causal graph: What is the causal graph expressed in the context? Use \"V3\" to denote \"water company\". Use \"V1\" to denote \"poverty level of the region\". Use \"X\" to denote \"water\". Use \"Y\" to denote \"cholera status\". Answer nothing else but each edge one by one, in the format of \"var1 -> var2\", and use \",\" to separate the edges.\\n\\nStep 2) Identify the query type: What is the query type of the above question? Choose one from \"marginal probability\", \"conditional probability\", \"explaining away effect\", \"backdoor adjustment set\", \"average treatment effect\", \"collider bias\", \"normal counterfactual question\", \"average treatment effect on treated\", \"natural direct effect\", or \"natural indirect effect\". Answer nothing else but a quoted choice from above.\\n\\nStep 3) Translate the query to an estimand: Based on the type of the causal query, translate the question to a formal estimand. Use the \"do(·)\" notation or counterfactual notations whenever necessary.\\n\\nStep 4) Collect all the available data: Extract all available data. Answer nothing else but marginal probabilities and conditional probabilities, in the form of \"P(...)=...\" or \"P(...|...)=...\", and use \";\" to separate each of them. Use \"V3\" to denote \"water company\". Use \"V1\" to denote \"poverty level of the region\". Use \"X\" to denote \"water\". Use \"Y\" to denote \"cholera status\".\\n\\nStep 5) Solve for the estimand: Given all the information above, solve for the estimand mentioned before using causal inference skills such as do-calculus, counterfactual prediction, and the basics of probabilities. Answer step by step.                                                                                                                                                                                                                                                                                                                                                                                                                                                                                                                                                                                                                                                                                                                                                                                                                                                                                                                                      4\n",
       "Imagine a self-contained, hypothetical world with only the following conditions, and without any unmentioned factors or causal relationships: Fyqi has a direct effect on jyke and ovka. Jyke has a direct effect on vyta. Vyta has a direct effect on ovka. Fyqi is unobserved.  If we disregard the mediation effect through vyta, would jyke still positively affect ovka?\\n\\nHint: You can answer the question by following the subquestions below:\\n\\nStep 1) Extract the causal graph: What is the causal graph expressed in the context? Use \"V3\" to denote \"vyta\". Use \"V1\" to denote \"fyqi\". Use \"X\" to denote \"jyke\". Use \"Y\" to denote \"ovka\". Answer nothing else but each edge one by one, in the format of \"var1 -> var2\", and use \",\" to separate the edges.\\n\\nStep 2) Identify the query type: What is the query type of the above question? Choose one from \"marginal probability\", \"conditional probability\", \"explaining away effect\", \"backdoor adjustment set\", \"average treatment effect\", \"collider bias\", \"normal counterfactual question\", \"average treatment effect on treated\", \"natural direct effect\", or \"natural indirect effect\". Answer nothing else but a quoted choice from above.\\n\\nStep 3) Translate the query to an estimand: Based on the type of the causal query, translate the question to a formal estimand. Use the \"do(·)\" notation or counterfactual notations whenever necessary.\\n\\nStep 4) Collect all the available data: Extract all available data. Answer nothing else but marginal probabilities and conditional probabilities, in the form of \"P(...)=...\" or \"P(...|...)=...\", and use \";\" to separate each of them. Use \"V3\" to denote \"vyta\". Use \"V1\" to denote \"fyqi\". Use \"X\" to denote \"jyke\". Use \"Y\" to denote \"ovka\".\\n\\nStep 5) Solve for the estimand: Given all the information above, solve for the estimand mentioned before using causal inference skills such as do-calculus, counterfactual prediction, and the basics of probabilities. Answer step by step.                                                                                                                                                                                                                                                                                                                                                                                                                                                                                                                                                                                                                                                                                                                                                                                                                                                                                                                                                                                                                                                                                                                                                          4\n",
       "                                                                                                                                                                                                                                                                                                                                                                                                                                                                                                                                                                                                                                                                                                                                                                                                                                                                                                                                                                                                                                                                                                                                                                                                                                                                                                                                                                                                                                                                                                                                                                                                                                                                                                                                                                                                                                                                                                                                                                                                                                                                                                                                                                                                                                                                                                                                                                                                                                                                                                                                                                                                                                                                                                                                                                                                                                                                                                                                                                                                                                                                                                                                                                                                 ..\n",
       "Imagine a self-contained, hypothetical world with only the following conditions, and without any unmentioned factors or causal relationships: Increased supply has a direct effect on increased yield per acre and increased price. Increased demand has a direct effect on increased yield per acre and increased price. Increased yield per acre has a direct effect on increased price. For individuals with reduced supply and with reduced crop yield per acre, the probability of increased price is 94.09%. For individuals with reduced supply and with increased crop yield per acre, the probability of increased price is 41.89%. For individuals with increased supply and with reduced crop yield per acre, the probability of increased price is 76.42%. For individuals with increased supply and with increased crop yield per acre, the probability of increased price is 56.29%. For individuals with reduced supply and with high demand, the probability of increased yield per acre is 70.00%. For individuals with reduced supply and with low demand, the probability of increased yield per acre is 60.00%. For individuals with increased supply and with high demand, the probability of increased yield per acre is 40.00%. For individuals with increased supply and with low demand, the probability of increased yield per acre is 40.00%. The overall probability of increased demand is 70.00%. Does supply affect price through either of demand, or yield per acre?\\n\\nHint: You can answer the question by following the subquestions below:\\n\\nStep 1) Extract the causal graph: What is the causal graph expressed in the context? Use \"X\" to denote \"supply\". Use \"V3\" to denote \"yield per acre\". Use \"V2\" to denote \"demand\". Use \"Y\" to denote \"price\". Answer nothing else but each edge one by one, in the format of \"var1 -> var2\", and use \",\" to separate the edges.\\n\\nStep 2) Identify the query type: What is the query type of the above question? Choose one from \"marginal probability\", \"conditional probability\", \"explaining away effect\", \"backdoor adjustment set\", \"average treatment effect\", \"collider bias\", \"normal counterfactual question\", \"average treatment effect on treated\", \"natural direct effect\", or \"natural indirect effect\". Answer nothing else but a quoted choice from above.\\n\\nStep 3) Translate the query to an estimand: Based on the type of the causal query, translate the question to a formal estimand. Use the \"do(·)\" notation or counterfactual notations whenever necessary.\\n\\nStep 4) Collect all the available data: Extract all available data. Answer nothing else but marginal probabilities and conditional probabilities, in the form of \"P(...)=...\" or \"P(...|...)=...\", and use \";\" to separate each of them. Use \"X\" to denote \"supply\". Use \"V3\" to denote \"yield per acre\". Use \"V2\" to denote \"demand\". Use \"Y\" to denote \"price\".\\n\\nStep 5) Solve for the estimand: Given all the information above, solve for the estimand mentioned before using causal inference skills such as do-calculus, counterfactual prediction, and the basics of probabilities. Answer step by step.    1\n",
       "Imagine a self-contained, hypothetical world with only the following conditions, and without any unmentioned factors or causal relationships: Rain has a direct effect on rain season and wet floor. Rain season has a direct effect on wet floor. For people experiencing no rain and in the dry season, the probability of wet floor is 4.00%. For people experiencing no rain and in the rainy season, the probability of wet floor is 52.00%. For people experiencing rain and in the dry season, the probability of wet floor is 22.00%. For people experiencing rain and in the rainy season, the probability of wet floor is 64.00%. The overall probability of rain is 70.00%. Will rain season increase the chance of wet floor?\\n\\nHint: You can answer the question by following the subquestions below:\\n\\nStep 1) Extract the causal graph: What is the causal graph expressed in the context? Use \"V1\" to denote \"weather\". Use \"X\" to denote \"season\". Use \"Y\" to denote \"floor\". Answer nothing else but each edge one by one, in the format of \"var1 -> var2\", and use \",\" to separate the edges.\\n\\nStep 2) Identify the query type: What is the query type of the above question? Choose one from \"marginal probability\", \"conditional probability\", \"explaining away effect\", \"backdoor adjustment set\", \"average treatment effect\", \"collider bias\", \"normal counterfactual question\", \"average treatment effect on treated\", \"natural direct effect\", or \"natural indirect effect\". Answer nothing else but a quoted choice from above.\\n\\nStep 3) Translate the query to an estimand: Based on the type of the causal query, translate the question to a formal estimand. Use the \"do(·)\" notation or counterfactual notations whenever necessary.\\n\\nStep 4) Collect all the available data: Extract all available data. Answer nothing else but marginal probabilities and conditional probabilities, in the form of \"P(...)=...\" or \"P(...|...)=...\", and use \";\" to separate each of them. Use \"V1\" to denote \"weather\". Use \"X\" to denote \"season\". Use \"Y\" to denote \"floor\".\\n\\nStep 5) Solve for the estimand: Given all the information above, solve for the estimand mentioned before using causal inference skills such as do-calculus, counterfactual prediction, and the basics of probabilities. Answer step by step.                                                                                                                                                                                                                                                                                                                                                                                                                                                                                                                                                                                                                                                                                                                                                                                                                                        1\n",
       "Imagine a self-contained, hypothetical world with only the following conditions, and without any unmentioned factors or causal relationships: Vaccination has a direct effect on absence of smallpox and severe vaccination reaction. Absence of smallpox has a direct effect on smallpox survival. Severe vaccination reaction has a direct effect on smallpox survival. For unvaccinated individuals, the probability of smallpox survival is 28.84%. For vaccinated individuals, the probability of smallpox survival is 48.34%. Is the chance of smallpox survival larger when observing vaccination?\\n\\nHint: You can answer the question by following the subquestions below:\\n\\nStep 1) Extract the causal graph: What is the causal graph expressed in the context? Use \"X\" to denote \"vaccination status\". Use \"V2\" to denote \"smallpox condtion\". Use \"V3\" to denote \"vaccination reaction\". Use \"Y\" to denote \"a person\". Answer nothing else but each edge one by one, in the format of \"var1 -> var2\", and use \",\" to separate the edges.\\n\\nStep 2) Identify the query type: What is the query type of the above question? Choose one from \"marginal probability\", \"conditional probability\", \"explaining away effect\", \"backdoor adjustment set\", \"average treatment effect\", \"collider bias\", \"normal counterfactual question\", \"average treatment effect on treated\", \"natural direct effect\", or \"natural indirect effect\". Answer nothing else but a quoted choice from above.\\n\\nStep 3) Translate the query to an estimand: Based on the type of the causal query, translate the question to a formal estimand. Use the \"do(·)\" notation or counterfactual notations whenever necessary.\\n\\nStep 4) Collect all the available data: Extract all available data. Answer nothing else but marginal probabilities and conditional probabilities, in the form of \"P(...)=...\" or \"P(...|...)=...\", and use \";\" to separate each of them. Use \"X\" to denote \"vaccination status\". Use \"V2\" to denote \"smallpox condtion\". Use \"V3\" to denote \"vaccination reaction\". Use \"Y\" to denote \"a person\".\\n\\nStep 5) Solve for the estimand: Given all the information above, solve for the estimand mentioned before using causal inference skills such as do-calculus, counterfactual prediction, and the basics of probabilities. Answer step by step.                                                                                                                                                                                                                                                                                                                                                                                                                                                                                                                                                                                                                                                                                                                                                                                                                                1\n",
       "Imagine a self-contained, hypothetical world with only the following conditions, and without any unmentioned factors or causal relationships: Rain season has a direct effect on rain and sprinkler on. Rain has a direct effect on wet floor. Sprinkler on has a direct effect on wet floor. For people in the dry season, the probability of wet floor is 21.23%. For people in the rainy season, the probability of wet floor is 16.01%. Will rain season increase the chance of wet floor?\\n\\nHint: You can answer the question by following the subquestions below:\\n\\nStep 1) Extract the causal graph: What is the causal graph expressed in the context? Use \"X\" to denote \"season\". Use \"V2\" to denote \"weather\". Use \"V3\" to denote \"sprinkler\". Use \"Y\" to denote \"floor\". Answer nothing else but each edge one by one, in the format of \"var1 -> var2\", and use \",\" to separate the edges.\\n\\nStep 2) Identify the query type: What is the query type of the above question? Choose one from \"marginal probability\", \"conditional probability\", \"explaining away effect\", \"backdoor adjustment set\", \"average treatment effect\", \"collider bias\", \"normal counterfactual question\", \"average treatment effect on treated\", \"natural direct effect\", or \"natural indirect effect\". Answer nothing else but a quoted choice from above.\\n\\nStep 3) Translate the query to an estimand: Based on the type of the causal query, translate the question to a formal estimand. Use the \"do(·)\" notation or counterfactual notations whenever necessary.\\n\\nStep 4) Collect all the available data: Extract all available data. Answer nothing else but marginal probabilities and conditional probabilities, in the form of \"P(...)=...\" or \"P(...|...)=...\", and use \";\" to separate each of them. Use \"X\" to denote \"season\". Use \"V2\" to denote \"weather\". Use \"V3\" to denote \"sprinkler\". Use \"Y\" to denote \"floor\".\\n\\nStep 5) Solve for the estimand: Given all the information above, solve for the estimand mentioned before using causal inference skills such as do-calculus, counterfactual prediction, and the basics of probabilities. Answer step by step.                                                                                                                                                                                                                                                                                                                                                                                                                                                                                                                                                                                                                                                                                                                                                                                                                                                                                                                                                                                                                   1\n",
       "Imagine a self-contained, hypothetical world with only the following conditions, and without any unmentioned factors or causal relationships: Termination signing manager has a direct effect on CEO's decision to lay off the employee and employee layoff. CEO's decision to lay off the employee has a direct effect on manager signing termination letter. Manager signing termination letter has a direct effect on employee layoff. Manager2's action is unobserved. For CEOs who retain employees, the probability of manager signing termination letter is 37.95%. For CEOs who fire employees, the probability of manager signing termination letter is 40.29%. For CEOs who retain employees and managers do not sign termination letters, the probability of employee layoff is 34.92%. For CEOs who retain employees and managers sign termination letters, the probability of employee layoff is 66.88%. For CEOs who fire employees and managers do not sign termination letters, the probability of employee layoff is 29.97%. For CEOs who fire employees and managers sign termination letters, the probability of employee layoff is 67.96%. The overall probability of CEO's decision to lay off the employee is 34.00%. Does CEO's decision affect the employee through either of manager2's action, or manager1's action?\\n\\nHint: You can answer the question by following the subquestions below:\\n\\nStep 1) Extract the causal graph: What is the causal graph expressed in the context? Use \"V3\" to denote \"manager1's action\". Use \"V1\" to denote \"manager2's action\". Use \"X\" to denote \"CEO's decision\". Use \"Y\" to denote \"the employee\". Answer nothing else but each edge one by one, in the format of \"var1 -> var2\", and use \",\" to separate the edges.\\n\\nStep 2) Identify the query type: What is the query type of the above question? Choose one from \"marginal probability\", \"conditional probability\", \"explaining away effect\", \"backdoor adjustment set\", \"average treatment effect\", \"collider bias\", \"normal counterfactual question\", \"average treatment effect on treated\", \"natural direct effect\", or \"natural indirect effect\". Answer nothing else but a quoted choice from above.\\n\\nStep 3) Translate the query to an estimand: Based on the type of the causal query, translate the question to a formal estimand. Use the \"do(·)\" notation or counterfactual notations whenever necessary.\\n\\nStep 4) Collect all the available data: Extract all available data. Answer nothing else but marginal probabilities and conditional probabilities, in the form of \"P(...)=...\" or \"P(...|...)=...\", and use \";\" to separate each of them. Use \"V3\" to denote \"manager1's action\". Use \"V1\" to denote \"manager2's action\". Use \"X\" to denote \"CEO's decision\". Use \"Y\" to denote \"the employee\".\\n\\nStep 5) Solve for the estimand: Given all the information above, solve for the estimand mentioned before using causal inference skills such as do-calculus, counterfactual prediction, and the basics of probabilities. Answer step by step.                                                                                                 1\n",
       "Name: prompt, Length: 4208, dtype: int64"
      ]
     },
     "execution_count": 96,
     "metadata": {},
     "output_type": "execute_result"
    }
   ],
   "source": [
    "# Check if there are two identical entries in prompt column\n",
    "overall_result_no_null[\"prompt\"].value_counts()"
   ]
  },
  {
   "attachments": {},
   "cell_type": "markdown",
   "metadata": {},
   "source": [
    "### Build GT"
   ]
  },
  {
   "cell_type": "code",
   "execution_count": 98,
   "metadata": {},
   "outputs": [],
   "source": [
    "# Helper function to search a nested dictionary\n",
    "def search_nested_dict(nested_dict, target_key):\n",
    "    queue = [(nested_dict, key) for key in nested_dict]\n",
    "\n",
    "    while queue:\n",
    "        current_dict, key = queue.pop(0)\n",
    "\n",
    "        if key == target_key:\n",
    "            return current_dict[key]\n",
    "\n",
    "        if isinstance(current_dict[key], type({})):\n",
    "            for sub_key in current_dict[key]:\n",
    "                queue.append((current_dict[key], sub_key))\n",
    "    return None"
   ]
  },
  {
   "cell_type": "code",
   "execution_count": 99,
   "metadata": {},
   "outputs": [
    {
     "name": "stdout",
     "output_type": "stream",
     "text": [
      "Step 1) Extract the causal graph: The causal graph expressed in the context is: \"{graph}\".\n",
      "\n",
      "Step 2) Identify the query type: The query type of the above question is \"{query_type}\".\n",
      "\n",
      "Step 3) Translate the query to an estimand: Based on the type of the causal query, the question can be translated to a formal estimand as: \"{step1}\".\n",
      "\n",
      "Step 4) Collect all the available data: The available data are: \"{given_info_formal}\".\n",
      "\n",
      "Step 5) Solve for the estimand: To solve for the estimand, we need to compute {step1_format}.\n",
      "\n",
      "Using the causal graph, we can simplify the estimand to\n",
      "{step1}\n",
      "= {step2}\n",
      "\n",
      "Using the available data, we can calculate:\n",
      "{step2}\n",
      "= {step3}\n",
      "≈ {step4}\n",
      "\n",
      "Since the estimate for the estimand is {step4}, the overall answer to the question is \"{answer}\".\n",
      "\n",
      "\n",
      "\n"
     ]
    }
   ],
   "source": [
    "# Read txt file\n",
    "with open(\n",
    "    \"raw_datasets/ground_truth_reasoning_template.txt\", \"r\", encoding=\"utf-8\"\n",
    ") as file:\n",
    "    reasoning_template = file.read()\n",
    "print(reasoning_template)"
   ]
  },
  {
   "cell_type": "code",
   "execution_count": 100,
   "metadata": {},
   "outputs": [
    {
     "data": {
      "text/plain": [
       "['graph',\n",
       " 'query_type',\n",
       " 'step1',\n",
       " 'given_info_formal',\n",
       " 'step1_format',\n",
       " 'step1',\n",
       " 'step2',\n",
       " 'step2',\n",
       " 'step3',\n",
       " 'step4',\n",
       " 'step4',\n",
       " 'answer']"
      ]
     },
     "execution_count": 100,
     "metadata": {},
     "output_type": "execute_result"
    }
   ],
   "source": [
    "# Get formatting keys of reasoning template\n",
    "reasoning_template_keys = re.findall(r\"\\{(.+?)\\}\", reasoning_template)\n",
    "reasoning_template_keys"
   ]
  },
  {
   "cell_type": "code",
   "execution_count": 127,
   "metadata": {},
   "outputs": [],
   "source": [
    "# Load the json file as a list of nested dictionary\n",
    "import json\n",
    "\n",
    "with open(\"raw_datasets/bern_cna_35.json\") as f:\n",
    "    nested_dicts = json.load(f)"
   ]
  },
  {
   "cell_type": "code",
   "execution_count": 123,
   "metadata": {},
   "outputs": [
    {
     "data": {
      "text/plain": [
       "{'ID': 5667,\n",
       " 'descriptive_id': 'frontdoor_n_correlation_nonsense4',\n",
       " 'sensical': 0,\n",
       " 'story_id': 'nonsense4',\n",
       " 'background': 'Imagine a self-contained, hypothetical world with only the following conditions, and without any unmentioned factors or causal relationships: Zeku has a direct effect on czir and xevi. Czir has a direct effect on swoy. Swoy has a direct effect on xevi. Zeku is unobserved.',\n",
       " 'given_info': 'For those who are not czir, the probability of xevi is 62.32%. For those who are czir, the probability of xevi is 59.35%.',\n",
       " 'question': 'Is the chance of xevi larger when observing czir?',\n",
       " 'variable_mapping': {'V3name': 'swoy',\n",
       "  'V30': 'not swoy',\n",
       "  'V31': 'swoy',\n",
       "  'V1name': 'zeku',\n",
       "  'V10': 'not zeku',\n",
       "  'V11': 'zeku',\n",
       "  'Xname': 'czir',\n",
       "  'X0': 'not czir',\n",
       "  'X1': 'czir',\n",
       "  'Yname': 'xevi',\n",
       "  'Y0': 'not xevi',\n",
       "  'Y1': 'xevi'},\n",
       " 'answer': 'no',\n",
       " 'meta': {'phenomenon': 'frontdoor',\n",
       "  'graph': 'V1->X,V1->Y,X->V3,V3->Y',\n",
       "  'nodes': ['V1', 'X', 'V3', 'Y'],\n",
       "  'structuralEqs_type': 'bernoulli',\n",
       "  'structuralEqs': {'p(V1)': 0.4, 'p(X | V1)': [0.7, 0.6]},\n",
       "  'simpson': False,\n",
       "  'query': {'query_type': 'correlation',\n",
       "   'rung': 1,\n",
       "   'formal_form': 'corr(X,Y) >, < 0?',\n",
       "   'candidate_adjustment_set': None,\n",
       "   'adjustment_treatment': 'X',\n",
       "   'adjustment_effect': 'Y'},\n",
       "  'groundtruth': -0.0288197169,\n",
       "  'given_info': [{'p(Y|X)': [0.623231884, 0.5934726703]}]},\n",
       " 'reasoning': {'step0': 'corr(X,Y) >, < 0?'},\n",
       " 'given_info_formal': ['P(Y=1|X=0)=0.6232318840000001',\n",
       "  'P(Y=1|X=1)=0.5934726703000001'],\n",
       " 'given_info_para': 'Among those who are not czir, the likelihood of xevi is 62.32%. Among those who are czir, the likelihood of xevi is 59.35%.'}"
      ]
     },
     "execution_count": 123,
     "metadata": {},
     "output_type": "execute_result"
    }
   ],
   "source": []
  },
  {
   "cell_type": "code",
   "execution_count": 102,
   "metadata": {},
   "outputs": [
    {
     "data": {
      "text/html": [
       "<div>\n",
       "<style scoped>\n",
       "    .dataframe tbody tr th:only-of-type {\n",
       "        vertical-align: middle;\n",
       "    }\n",
       "\n",
       "    .dataframe tbody tr th {\n",
       "        vertical-align: top;\n",
       "    }\n",
       "\n",
       "    .dataframe thead th {\n",
       "        text-align: right;\n",
       "    }\n",
       "</style>\n",
       "<table border=\"1\" class=\"dataframe\">\n",
       "  <thead>\n",
       "    <tr style=\"text-align: right;\">\n",
       "      <th></th>\n",
       "      <th>ID</th>\n",
       "      <th>query_type</th>\n",
       "      <th>graph</th>\n",
       "      <th>step0</th>\n",
       "      <th>step1</th>\n",
       "      <th>step2</th>\n",
       "      <th>step3</th>\n",
       "      <th>step4</th>\n",
       "      <th>answer</th>\n",
       "      <th>given_info_formal</th>\n",
       "    </tr>\n",
       "  </thead>\n",
       "  <tbody>\n",
       "    <tr>\n",
       "      <th>0</th>\n",
       "      <td>0</td>\n",
       "      <td>ate</td>\n",
       "      <td>V1-&gt;X,V1-&gt;Y,V2-&gt;X,X-&gt;Y</td>\n",
       "      <td>E[Y|do(X = 1)] − E[Y|do(X = 0)]</td>\n",
       "      <td>P(Y=1|do(X=1)) - P(Y=1|do(X=1))</td>\n",
       "      <td>[P(Y=1|V2=1)-P(Y=1|V2=0)]/[P(X=1|V2=1)-P(X=1|V...</td>\n",
       "      <td>[0.5671622485-0.6026637459]/[0.2-0.14]</td>\n",
       "      <td>-0.5917</td>\n",
       "      <td>no</td>\n",
       "      <td>[P(Y=1|V2=0)=0.6026637459, P(Y=1|V2=1)=0.56716...</td>\n",
       "    </tr>\n",
       "    <tr>\n",
       "      <th>1</th>\n",
       "      <td>1</td>\n",
       "      <td>ate</td>\n",
       "      <td>V1-&gt;X,V1-&gt;Y,V2-&gt;X,X-&gt;Y</td>\n",
       "      <td>E[Y|do(X = 1)] − E[Y|do(X = 0)]</td>\n",
       "      <td>P(Y=1|do(X=1)) - P(Y=1|do(X=1))</td>\n",
       "      <td>[P(Y=1|V2=1)-P(Y=1|V2=0)]/[P(X=1|V2=1)-P(X=1|V...</td>\n",
       "      <td>[0.39733441500000005-0.44394854770000003]/[0.9...</td>\n",
       "      <td>-0.1227</td>\n",
       "      <td>no</td>\n",
       "      <td>[P(Y=1|V2=0)=0.44394854770000003, P(Y=1|V2=1)=...</td>\n",
       "    </tr>\n",
       "    <tr>\n",
       "      <th>2</th>\n",
       "      <td>2</td>\n",
       "      <td>ate</td>\n",
       "      <td>V1-&gt;X,V1-&gt;Y,V2-&gt;X,X-&gt;Y</td>\n",
       "      <td>E[Y|do(X = 1)] − E[Y|do(X = 0)]</td>\n",
       "      <td>P(Y=1|do(X=1)) - P(Y=1|do(X=1))</td>\n",
       "      <td>[P(Y=1|V2=1)-P(Y=1|V2=0)]/[P(X=1|V2=1)-P(X=1|V...</td>\n",
       "      <td>[0.39733441500000005-0.44394854770000003]/[0.9...</td>\n",
       "      <td>-0.1227</td>\n",
       "      <td>no</td>\n",
       "      <td>[P(Y=1|V2=0)=0.44394854770000003, P(Y=1|V2=1)=...</td>\n",
       "    </tr>\n",
       "    <tr>\n",
       "      <th>3</th>\n",
       "      <td>3</td>\n",
       "      <td>ate</td>\n",
       "      <td>V1-&gt;X,V1-&gt;Y,V2-&gt;X,X-&gt;Y</td>\n",
       "      <td>E[Y|do(X = 1)] − E[Y|do(X = 0)]</td>\n",
       "      <td>P(Y=1|do(X=1)) - P(Y=1|do(X=1))</td>\n",
       "      <td>[P(Y=1|V2=1)-P(Y=1|V2=0)]/[P(X=1|V2=1)-P(X=1|V...</td>\n",
       "      <td>[0.2000484216-0.3129399888]/[0.8-0.5]</td>\n",
       "      <td>-0.3763</td>\n",
       "      <td>no</td>\n",
       "      <td>[P(Y=1|V2=0)=0.3129399888, P(Y=1|V2=1)=0.20004...</td>\n",
       "    </tr>\n",
       "    <tr>\n",
       "      <th>4</th>\n",
       "      <td>4</td>\n",
       "      <td>ate</td>\n",
       "      <td>V1-&gt;X,V1-&gt;Y,V2-&gt;X,X-&gt;Y</td>\n",
       "      <td>E[Y|do(X = 1)] − E[Y|do(X = 0)]</td>\n",
       "      <td>P(Y=1|do(X=1)) - P(Y=1|do(X=1))</td>\n",
       "      <td>[P(Y=1|V2=1)-P(Y=1|V2=0)]/[P(X=1|V2=1)-P(X=1|V...</td>\n",
       "      <td>[0.5671622485-0.6026637459]/[0.2-0.14]</td>\n",
       "      <td>-0.5917</td>\n",
       "      <td>no</td>\n",
       "      <td>[P(Y=1|V2=0)=0.6026637459, P(Y=1|V2=1)=0.56716...</td>\n",
       "    </tr>\n",
       "  </tbody>\n",
       "</table>\n",
       "</div>"
      ],
      "text/plain": [
       "   ID query_type                   graph                            step0  \\\n",
       "0   0        ate  V1->X,V1->Y,V2->X,X->Y  E[Y|do(X = 1)] − E[Y|do(X = 0)]   \n",
       "1   1        ate  V1->X,V1->Y,V2->X,X->Y  E[Y|do(X = 1)] − E[Y|do(X = 0)]   \n",
       "2   2        ate  V1->X,V1->Y,V2->X,X->Y  E[Y|do(X = 1)] − E[Y|do(X = 0)]   \n",
       "3   3        ate  V1->X,V1->Y,V2->X,X->Y  E[Y|do(X = 1)] − E[Y|do(X = 0)]   \n",
       "4   4        ate  V1->X,V1->Y,V2->X,X->Y  E[Y|do(X = 1)] − E[Y|do(X = 0)]   \n",
       "\n",
       "                              step1  \\\n",
       "0  P(Y=1|do(X=1)) - P(Y=1|do(X=1))    \n",
       "1  P(Y=1|do(X=1)) - P(Y=1|do(X=1))    \n",
       "2  P(Y=1|do(X=1)) - P(Y=1|do(X=1))    \n",
       "3  P(Y=1|do(X=1)) - P(Y=1|do(X=1))    \n",
       "4  P(Y=1|do(X=1)) - P(Y=1|do(X=1))    \n",
       "\n",
       "                                               step2  \\\n",
       "0  [P(Y=1|V2=1)-P(Y=1|V2=0)]/[P(X=1|V2=1)-P(X=1|V...   \n",
       "1  [P(Y=1|V2=1)-P(Y=1|V2=0)]/[P(X=1|V2=1)-P(X=1|V...   \n",
       "2  [P(Y=1|V2=1)-P(Y=1|V2=0)]/[P(X=1|V2=1)-P(X=1|V...   \n",
       "3  [P(Y=1|V2=1)-P(Y=1|V2=0)]/[P(X=1|V2=1)-P(X=1|V...   \n",
       "4  [P(Y=1|V2=1)-P(Y=1|V2=0)]/[P(X=1|V2=1)-P(X=1|V...   \n",
       "\n",
       "                                               step3   step4 answer  \\\n",
       "0             [0.5671622485-0.6026637459]/[0.2-0.14] -0.5917     no   \n",
       "1  [0.39733441500000005-0.44394854770000003]/[0.9... -0.1227     no   \n",
       "2  [0.39733441500000005-0.44394854770000003]/[0.9... -0.1227     no   \n",
       "3              [0.2000484216-0.3129399888]/[0.8-0.5] -0.3763     no   \n",
       "4             [0.5671622485-0.6026637459]/[0.2-0.14] -0.5917     no   \n",
       "\n",
       "                                   given_info_formal  \n",
       "0  [P(Y=1|V2=0)=0.6026637459, P(Y=1|V2=1)=0.56716...  \n",
       "1  [P(Y=1|V2=0)=0.44394854770000003, P(Y=1|V2=1)=...  \n",
       "2  [P(Y=1|V2=0)=0.44394854770000003, P(Y=1|V2=1)=...  \n",
       "3  [P(Y=1|V2=0)=0.3129399888, P(Y=1|V2=1)=0.20004...  \n",
       "4  [P(Y=1|V2=0)=0.6026637459, P(Y=1|V2=1)=0.56716...  "
      ]
     },
     "execution_count": 102,
     "metadata": {},
     "output_type": "execute_result"
    }
   ],
   "source": [
    "# Create df with ID comlumn of same lenght as nested_dict\n",
    "df = pd.DataFrame({\"ID\": [i for i in range(len(nested_dicts))]})\n",
    "# Extract query_type, graph, step0, step1, step2, step3, step4, answer, given_info_formal, from nested_dict and add them to df\n",
    "df[\"query_type\"] = df[\"ID\"].apply(\n",
    "    lambda x: search_nested_dict(nested_dicts[x], \"query_type\")\n",
    ")\n",
    "df[\"graph\"] = df[\"ID\"].apply(lambda x: search_nested_dict(nested_dicts[x], \"graph\"))\n",
    "df[\"step0\"] = df[\"ID\"].apply(lambda x: search_nested_dict(nested_dicts[x], \"step0\"))\n",
    "df[\"step1\"] = df[\"ID\"].apply(lambda x: search_nested_dict(nested_dicts[x], \"step1\"))\n",
    "df[\"step2\"] = df[\"ID\"].apply(lambda x: search_nested_dict(nested_dicts[x], \"step2\"))\n",
    "df[\"step3\"] = df[\"ID\"].apply(lambda x: search_nested_dict(nested_dicts[x], \"step3\"))\n",
    "df[\"step4\"] = df[\"ID\"].apply(lambda x: search_nested_dict(nested_dicts[x], \"step4\"))\n",
    "df[\"answer\"] = df[\"ID\"].apply(lambda x: search_nested_dict(nested_dicts[x], \"answer\"))\n",
    "df[\"given_info_formal\"] = df[\"ID\"].apply(\n",
    "    lambda x: search_nested_dict(nested_dicts[x], \"given_info_formal\")\n",
    ")\n",
    "df.head()"
   ]
  },
  {
   "cell_type": "code",
   "execution_count": 105,
   "metadata": {},
   "outputs": [
    {
     "name": "stdout",
     "output_type": "stream",
     "text": [
      "4485\n",
      "4485\n"
     ]
    }
   ],
   "source": [
    "# Drop rows with null values in step0, step1, step2, step3, step4\n",
    "print(len(df))\n",
    "df = df.dropna(subset=[\"step0\", \"step1\", \"step2\", \"step3\", \"step4\"])\n",
    "print(len(df))"
   ]
  },
  {
   "cell_type": "code",
   "execution_count": 106,
   "metadata": {},
   "outputs": [
    {
     "name": "stdout",
     "output_type": "stream",
     "text": [
      "{'ID': 0, 'gt_reasoning': 'Step 1) Extract the causal graph: The causal graph expressed in the context is: \"V1->X,V1->Y,V2->X,X->Y\".\\n\\nStep 2) Identify the query type: The query type of the above question is \"ate\".\\n\\nStep 3) Translate the query to an estimand: Based on the type of the causal query, the question can be translated to a formal estimand as: \"P(Y=1|do(X=1)) - P(Y=1|do(X=1)) \".\\n\\nStep 4) Collect all the available data: The available data are: \"P(Y=1|V2=0)=0.6026637459; P(Y=1|V2=1)=0.5671622485; P(X=1|V2=0)=0.14; P(X=1|V2=1)=0.2\".\\n\\nStep 5) Solve for the estimand: To solve for the estimand, we need to compute P(Y=1|do(X=1)) and P(Y=1|do(X=1)) .\\n\\nUsing the causal graph, we can simplify the estimand to\\nP(Y=1|do(X=1)) - P(Y=1|do(X=1)) \\n= [P(Y=1|V2=1)-P(Y=1|V2=0)]/[P(X=1|V2=1)-P(X=1|V2=0)]\\n\\nUsing the available data, we can calculate:\\n[P(Y=1|V2=1)-P(Y=1|V2=0)]/[P(X=1|V2=1)-P(X=1|V2=0)]\\n= [0.5671622485-0.6026637459]/[0.2-0.14]\\n≈ -0.5917\\n\\nSince the estimate for the estimand is -0.5917, the overall answer to the question is \"no\".\\n\\n\\n'}\n"
     ]
    }
   ],
   "source": [
    "# Fill the reasoning_template with values from the dataframe\n",
    "gt_reasonings = []\n",
    "for index, row in df.iterrows():\n",
    "    # Join the elements in the 'given_info_formal' column into a string\n",
    "    given_info_formal_string = \"; \".join(row[\"given_info_formal\"])\n",
    "\n",
    "    # Replace ' - ' with ' and ' in 'step1'\n",
    "    step1_replaced = row[\"step1\"].replace(\" - \", \" and \")\n",
    "\n",
    "    # Create a dictionary from the row\n",
    "    row_dict = row.to_dict()\n",
    "\n",
    "    # Replace the 'given_info_formal' with the joined string\n",
    "    row_dict[\"given_info_formal\"] = given_info_formal_string\n",
    "\n",
    "    # Replace the 'step1' with the replaced string\n",
    "    row_dict[\"step1_format\"] = step1_replaced\n",
    "\n",
    "    # Now, format the template\n",
    "    reasoning_template_filled = reasoning_template.format(**row_dict)\n",
    "    # make dict of ID and reasoning_template_filled\n",
    "    gt_reasonings.append(\n",
    "        {\"ID\": row_dict[\"ID\"], \"gt_reasoning\": reasoning_template_filled}\n",
    "    )\n",
    "print(gt_reasonings[0])"
   ]
  },
  {
   "cell_type": "code",
   "execution_count": 107,
   "metadata": {},
   "outputs": [],
   "source": [
    "# Save the gt_reasonings as a jsonl file\n",
    "with open(\"raw_datasets/id2truth_reasoning.jsonl\", \"w\") as f:\n",
    "    for item in gt_reasonings:\n",
    "        f.write(json.dumps(item) + \"\\n\")"
   ]
  },
  {
   "cell_type": "code",
   "execution_count": 108,
   "metadata": {},
   "outputs": [
    {
     "data": {
      "text/html": [
       "<div>\n",
       "<style scoped>\n",
       "    .dataframe tbody tr th:only-of-type {\n",
       "        vertical-align: middle;\n",
       "    }\n",
       "\n",
       "    .dataframe tbody tr th {\n",
       "        vertical-align: top;\n",
       "    }\n",
       "\n",
       "    .dataframe thead th {\n",
       "        text-align: right;\n",
       "    }\n",
       "</style>\n",
       "<table border=\"1\" class=\"dataframe\">\n",
       "  <thead>\n",
       "    <tr style=\"text-align: right;\">\n",
       "      <th></th>\n",
       "      <th>ID</th>\n",
       "      <th>gt_reasoning</th>\n",
       "    </tr>\n",
       "  </thead>\n",
       "  <tbody>\n",
       "    <tr>\n",
       "      <th>0</th>\n",
       "      <td>0</td>\n",
       "      <td>Step 1) Extract the causal graph: The causal g...</td>\n",
       "    </tr>\n",
       "    <tr>\n",
       "      <th>1</th>\n",
       "      <td>1</td>\n",
       "      <td>Step 1) Extract the causal graph: The causal g...</td>\n",
       "    </tr>\n",
       "    <tr>\n",
       "      <th>2</th>\n",
       "      <td>2</td>\n",
       "      <td>Step 1) Extract the causal graph: The causal g...</td>\n",
       "    </tr>\n",
       "    <tr>\n",
       "      <th>3</th>\n",
       "      <td>3</td>\n",
       "      <td>Step 1) Extract the causal graph: The causal g...</td>\n",
       "    </tr>\n",
       "    <tr>\n",
       "      <th>4</th>\n",
       "      <td>4</td>\n",
       "      <td>Step 1) Extract the causal graph: The causal g...</td>\n",
       "    </tr>\n",
       "  </tbody>\n",
       "</table>\n",
       "</div>"
      ],
      "text/plain": [
       "   ID                                       gt_reasoning\n",
       "0   0  Step 1) Extract the causal graph: The causal g...\n",
       "1   1  Step 1) Extract the causal graph: The causal g...\n",
       "2   2  Step 1) Extract the causal graph: The causal g...\n",
       "3   3  Step 1) Extract the causal graph: The causal g...\n",
       "4   4  Step 1) Extract the causal graph: The causal g..."
      ]
     },
     "execution_count": 108,
     "metadata": {},
     "output_type": "execute_result"
    }
   ],
   "source": [
    "# Read the jsonl as a pandas dataframe\n",
    "gt_reasonings_df = pd.read_json(\"raw_datasets/id2truth_reasoning.jsonl\", lines=True)\n",
    "gt_reasonings_df.head()"
   ]
  },
  {
   "cell_type": "code",
   "execution_count": 132,
   "metadata": {},
   "outputs": [
    {
     "data": {
      "text/plain": [
       "4485"
      ]
     },
     "execution_count": 132,
     "metadata": {},
     "output_type": "execute_result"
    }
   ],
   "source": [
    "len(gt_reasonings_df)"
   ]
  },
  {
   "cell_type": "code",
   "execution_count": 109,
   "metadata": {},
   "outputs": [
    {
     "data": {
      "text/html": [
       "<div>\n",
       "<style scoped>\n",
       "    .dataframe tbody tr th:only-of-type {\n",
       "        vertical-align: middle;\n",
       "    }\n",
       "\n",
       "    .dataframe tbody tr th {\n",
       "        vertical-align: top;\n",
       "    }\n",
       "\n",
       "    .dataframe thead th {\n",
       "        text-align: right;\n",
       "    }\n",
       "</style>\n",
       "<table border=\"1\" class=\"dataframe\">\n",
       "  <thead>\n",
       "    <tr style=\"text-align: right;\">\n",
       "      <th></th>\n",
       "      <th>ID</th>\n",
       "      <th>prompt</th>\n",
       "      <th>pred</th>\n",
       "      <th>gt_reasoning</th>\n",
       "    </tr>\n",
       "  </thead>\n",
       "  <tbody>\n",
       "    <tr>\n",
       "      <th>0</th>\n",
       "      <td>4669</td>\n",
       "      <td>Imagine a self-contained, hypothetical world w...</td>\n",
       "      <td>Step 1) Extract the causal graph: The causal g...</td>\n",
       "      <td>Step 1) Extract the causal graph: The causal g...</td>\n",
       "    </tr>\n",
       "    <tr>\n",
       "      <th>1</th>\n",
       "      <td>1597</td>\n",
       "      <td>Imagine a self-contained, hypothetical world w...</td>\n",
       "      <td>Step 1) Extract the causal graph: The causal g...</td>\n",
       "      <td>Step 1) Extract the causal graph: The causal g...</td>\n",
       "    </tr>\n",
       "    <tr>\n",
       "      <th>2</th>\n",
       "      <td>2995</td>\n",
       "      <td>Imagine a self-contained, hypothetical world w...</td>\n",
       "      <td>Step 1) Extract the causal graph: The causal g...</td>\n",
       "      <td>Step 1) Extract the causal graph: The causal g...</td>\n",
       "    </tr>\n",
       "    <tr>\n",
       "      <th>3</th>\n",
       "      <td>9475</td>\n",
       "      <td>Imagine a self-contained, hypothetical world w...</td>\n",
       "      <td>Step 1) Extract the causal graph: The causal g...</td>\n",
       "      <td>Step 1) Extract the causal graph: The causal g...</td>\n",
       "    </tr>\n",
       "    <tr>\n",
       "      <th>4</th>\n",
       "      <td>6328</td>\n",
       "      <td>Imagine a self-contained, hypothetical world w...</td>\n",
       "      <td>Step 1) Extract the causal graph: The causal g...</td>\n",
       "      <td>Step 1) Extract the causal graph: The causal g...</td>\n",
       "    </tr>\n",
       "  </tbody>\n",
       "</table>\n",
       "</div>"
      ],
      "text/plain": [
       "     ID                                             prompt  \\\n",
       "0  4669  Imagine a self-contained, hypothetical world w...   \n",
       "1  1597  Imagine a self-contained, hypothetical world w...   \n",
       "2  2995  Imagine a self-contained, hypothetical world w...   \n",
       "3  9475  Imagine a self-contained, hypothetical world w...   \n",
       "4  6328  Imagine a self-contained, hypothetical world w...   \n",
       "\n",
       "                                                pred  \\\n",
       "0  Step 1) Extract the causal graph: The causal g...   \n",
       "1  Step 1) Extract the causal graph: The causal g...   \n",
       "2  Step 1) Extract the causal graph: The causal g...   \n",
       "3  Step 1) Extract the causal graph: The causal g...   \n",
       "4  Step 1) Extract the causal graph: The causal g...   \n",
       "\n",
       "                                        gt_reasoning  \n",
       "0  Step 1) Extract the causal graph: The causal g...  \n",
       "1  Step 1) Extract the causal graph: The causal g...  \n",
       "2  Step 1) Extract the causal graph: The causal g...  \n",
       "3  Step 1) Extract the causal graph: The causal g...  \n",
       "4  Step 1) Extract the causal graph: The causal g...  "
      ]
     },
     "execution_count": 109,
     "metadata": {},
     "output_type": "execute_result"
    }
   ],
   "source": [
    "# Merge overall_result_no_null and gt_reasonings_df on ID\n",
    "overall_result_gt = overall_result_no_null.merge(gt_reasonings_df, on=\"ID\")\n",
    "overall_result_gt.head()"
   ]
  },
  {
   "cell_type": "code",
   "execution_count": 110,
   "metadata": {},
   "outputs": [
    {
     "data": {
      "text/plain": [
       "ID              0\n",
       "prompt          0\n",
       "pred            0\n",
       "gt_reasoning    0\n",
       "dtype: int64"
      ]
     },
     "execution_count": 110,
     "metadata": {},
     "output_type": "execute_result"
    }
   ],
   "source": [
    "# Check if there are empty entries in any column\n",
    "overall_result_gt.isnull().sum()"
   ]
  },
  {
   "cell_type": "code",
   "execution_count": 112,
   "metadata": {},
   "outputs": [
    {
     "data": {
      "text/plain": [
       "2060"
      ]
     },
     "execution_count": 112,
     "metadata": {},
     "output_type": "execute_result"
    }
   ],
   "source": [
    "# Check final size of overall_result_gt\n",
    "len(overall_result_gt)"
   ]
  },
  {
   "attachments": {},
   "cell_type": "markdown",
   "metadata": {},
   "source": [
    "### Create bern_cna_35_true_reasoning.json"
   ]
  },
  {
   "cell_type": "code",
   "execution_count": 133,
   "metadata": {},
   "outputs": [
    {
     "data": {
      "text/plain": [
       "{'ID': 0,\n",
       " 'descriptive_id': 'IV_a_ate_water_cholera',\n",
       " 'sensical': -1,\n",
       " 'story_id': 'water_cholera',\n",
       " 'background': 'Imagine a self-contained, hypothetical world with only the following conditions, and without any unmentioned factors or causal relationships: Low poverty rate has a direct effect on window-shopping and cholera prevention. Water company B has a direct effect on window-shopping. Window-shopping has a direct effect on cholera prevention. Poverty level of the region is unobserved.',\n",
       " 'given_info': 'For individuals served by water company A, the probability of cholera prevention is 60.27%. For individuals served by water company B, the probability of cholera prevention is 56.72%. For individuals served by water company A, the probability of window-shopping is 14.00%. For individuals served by water company B, the probability of window-shopping is 20.00%.',\n",
       " 'question': 'Will window-shopping increase the chance of cholera prevention?',\n",
       " 'variable_mapping': {'V2name': 'water company',\n",
       "  'V20': 'water company A',\n",
       "  'V21': 'water company B',\n",
       "  'V1name': 'poverty level of the region',\n",
       "  'V10': 'high poverty rate',\n",
       "  'V11': 'low poverty rate',\n",
       "  'Xname': 'water',\n",
       "  'X0': 'polluted water',\n",
       "  'X1': 'pure water',\n",
       "  'Yname': 'cholera status',\n",
       "  'Y0': 'cholera contraction',\n",
       "  'Y1': 'cholera prevention'},\n",
       " 'answer': 'no',\n",
       " 'meta': {'phenomenon': 'IV',\n",
       "  'graph': 'V1->X,V1->Y,V2->X,X->Y',\n",
       "  'nodes': ['V1', 'V2', 'X', 'Y'],\n",
       "  'structuralEqs_type': 'bernoulli',\n",
       "  'structuralEqs': {'p(V2)': 0.2,\n",
       "   'p(V1)': 0.8,\n",
       "   'p(X | V1, V2)': [[0.3, 0.2], [0.1, 0.2]]},\n",
       "  'simpson': False,\n",
       "  'query': {'query_type': 'ate',\n",
       "   'rung': 2,\n",
       "   'formal_form': 'E[Y|do(X = 1)] − E[Y|do(X = 0)]',\n",
       "   'candidate_adjustment_set': None,\n",
       "   'adjustment_treatment': 'X',\n",
       "   'adjustment_effect': 'Y'},\n",
       "  'groundtruth': -0.5916916243,\n",
       "  'given_info': [{'p(Y|V2)': [0.6026637459, 0.5671622485]},\n",
       "   {'p(X|V2)': [0.14, 0.2]}]},\n",
       " 'reasoning': {'step0': 'E[Y|do(X = 1)] − E[Y|do(X = 0)]',\n",
       "  'step1': 'P(Y=1|do(X=1)) - P(Y=1|do(X=1)) ',\n",
       "  'step2': '[P(Y=1|V2=1)-P(Y=1|V2=0)]/[P(X=1|V2=1)-P(X=1|V2=0)]',\n",
       "  'step3': '[0.5671622485-0.6026637459]/[0.2-0.14]',\n",
       "  'step4': -0.5917,\n",
       "  'step5': '-0.5917 < 0'},\n",
       " 'given_info_formal': ['P(Y=1|V2=0)=0.6026637459',\n",
       "  'P(Y=1|V2=1)=0.5671622485',\n",
       "  'P(X=1|V2=0)=0.14',\n",
       "  'P(X=1|V2=1)=0.2'],\n",
       " 'given_info_para': 'Among individuals served by water company A, the likelihood of cholera prevention is 60.27%. Among individuals served by water company B, the likelihood of cholera prevention is 56.72%. Among individuals served by water company A, the likelihood of pure water is 14.00%. Among individuals served by water company B, the likelihood of pure water is 20.00%.',\n",
       " 'truth_reasoning': 'Step 1) Extract the causal graph: The causal graph expressed in the context is: \"V1->X,V1->Y,V2->X,X->Y\".\\n\\nStep 2) Identify the query type: The query type of the above question is \"ate\".\\n\\nStep 3) Translate the query to an estimand: Based on the type of the causal query, the question can be translated to a formal estimand as: \"P(Y=1|do(X=1)) - P(Y=1|do(X=1)) \".\\n\\nStep 4) Collect all the available data: The available data are: \"P(Y=1|V2=0)=0.6026637459; P(Y=1|V2=1)=0.5671622485; P(X=1|V2=0)=0.14; P(X=1|V2=1)=0.2\".\\n\\nStep 5) Solve for the estimand: To solve for the estimand, we need to compute P(Y=1|do(X=1)) and P(Y=1|do(X=1)) .\\n\\nUsing the causal graph, we can simplify the estimand to\\nP(Y=1|do(X=1)) - P(Y=1|do(X=1)) \\n= [P(Y=1|V2=1)-P(Y=1|V2=0)]/[P(X=1|V2=1)-P(X=1|V2=0)]\\n\\nUsing the available data, we can calculate:\\n[P(Y=1|V2=1)-P(Y=1|V2=0)]/[P(X=1|V2=1)-P(X=1|V2=0)]\\n= [0.5671622485-0.6026637459]/[0.2-0.14]\\n≈ -0.5917\\n\\nSince the estimate for the estimand is -0.5917, the overall answer to the question is \"no\".\\n\\n\\n'}"
      ]
     },
     "execution_count": 133,
     "metadata": {},
     "output_type": "execute_result"
    }
   ],
   "source": [
    "# Add a new field in the gt_reasoning in nested_dicts\n",
    "updated_nested_dicts = nested_dicts\n",
    "for index, row in gt_reasonings_df.iterrows():\n",
    "    updated_nested_dicts[row[\"ID\"]][\"truth_reasoning\"] = row[\"gt_reasoning\"]\n",
    "updated_nested_dicts[0]"
   ]
  },
  {
   "cell_type": "code",
   "execution_count": 135,
   "metadata": {},
   "outputs": [],
   "source": [
    "# Save nested_dicts as a json file\n",
    "with open(\"raw_datasets/bern_cna_35_true_reasoning.json\", \"w\") as f:\n",
    "    json.dump(updated_nested_dicts, f)"
   ]
  },
  {
   "cell_type": "code",
   "execution_count": 136,
   "metadata": {},
   "outputs": [
    {
     "name": "stdout",
     "output_type": "stream",
     "text": [
      "4485\n"
     ]
    }
   ],
   "source": [
    "# load bern_cna_35_true_reasoning.json\n",
    "with open(\"raw_datasets/bern_cna_35_true_reasoning.json\") as f:\n",
    "    nested_dicts1 = json.load(f)\n",
    "\n",
    "# count number of entries with truth_reasoning\n",
    "count = 0\n",
    "for i in range(len(nested_dicts1)):\n",
    "    if \"truth_reasoning\" in nested_dicts1[i]:\n",
    "        count += 1\n",
    "print(count)"
   ]
  },
  {
   "attachments": {},
   "cell_type": "markdown",
   "metadata": {},
   "source": [
    "## Formatting for ROSCOE"
   ]
  },
  {
   "cell_type": "code",
   "execution_count": 113,
   "metadata": {},
   "outputs": [],
   "source": [
    "def prepare_json_for_roscoe(\n",
    "    df: pd.DataFrame,\n",
    "    prompt_column: str,\n",
    "    gpt_column: str,\n",
    "    out_name: str,\n",
    "    gt_column: Union[str, None] = None,\n",
    "    id_column: Union[str, None] = None,\n",
    ") -> None:\n",
    "    df_out = df[[prompt_column, gpt_column]]\n",
    "    df_out.rename(columns={gpt_column: \"gpt-3\", prompt_column: \"premise\"}, inplace=True)\n",
    "    # As strange as it sounds, hypotesis column is used for ground truth, left empty otherwise\n",
    "    if gt_column is not None:\n",
    "        df_out[\"hypothesis\"] = (\n",
    "            \"IGNORE THIS. Ground truth here for reference. \" + df[gt_column]\n",
    "        )\n",
    "    else:\n",
    "        df_out[\"hypothesis\"] = \" \"\n",
    "    if id_column is not None:\n",
    "        df_out[\"ID\"] = df[id_column]\n",
    "\n",
    "    df_out.to_json(\"datasets/\" + out_name + \".jsonl\", orient=\"records\", lines=True)\n",
    "    return None"
   ]
  },
  {
   "cell_type": "code",
   "execution_count": 114,
   "metadata": {},
   "outputs": [
    {
     "name": "stderr",
     "output_type": "stream",
     "text": [
      "/local/home/zhijing/proj/tools/anaconda3/lib/python3.8/site-packages/pandas/core/frame.py:4441: SettingWithCopyWarning: \n",
      "A value is trying to be set on a copy of a slice from a DataFrame\n",
      "\n",
      "See the caveats in the documentation: https://pandas.pydata.org/pandas-docs/stable/user_guide/indexing.html#returning-a-view-versus-a-copy\n",
      "  return super().rename(\n",
      "<ipython-input-113-8343e09033f3>:13: SettingWithCopyWarning: \n",
      "A value is trying to be set on a copy of a slice from a DataFrame.\n",
      "Try using .loc[row_indexer,col_indexer] = value instead\n",
      "\n",
      "See the caveats in the documentation: https://pandas.pydata.org/pandas-docs/stable/user_guide/indexing.html#returning-a-view-versus-a-copy\n",
      "  df_out[\"hypothesis\"] = (\n"
     ]
    }
   ],
   "source": [
    "prepare_json_for_roscoe(\n",
    "    overall_result_gt,\n",
    "    \"prompt\",\n",
    "    \"pred\",\n",
    "    \"cb_gt\",\n",
    "    gt_column=\"gt_reasoning\",\n",
    "    id_column=\"ID\",\n",
    ")"
   ]
  },
  {
   "attachments": {},
   "cell_type": "markdown",
   "metadata": {},
   "source": []
  },
  {
   "attachments": {},
   "cell_type": "markdown",
   "metadata": {},
   "source": [
    "## Run ROSCOE"
   ]
  },
  {
   "attachments": {},
   "cell_type": "markdown",
   "metadata": {},
   "source": [
    "From the ParlAI root repository folder: \n",
    "```python\n",
    "python projects/roscoe/roscoe.py -t sim_sce -m facebook/roscoe-512-roberta-base --dataset-path ../CausalLLMs/roscoe_exp/datasets --datasets cb2\n",
    "```\n",
    "\n",
    "**IMPORTANT**: to obtain also the supervised scores, the dataset name should inculde gt e.g. name your dataset `cb_gt.jsonl` and pass `cb_gt` as an argument"
   ]
  },
  {
   "cell_type": "code",
   "execution_count": null,
   "metadata": {},
   "outputs": [],
   "source": []
  },
  {
   "attachments": {},
   "cell_type": "markdown",
   "metadata": {},
   "source": [
    "## Analysis and visualizations"
   ]
  },
  {
   "cell_type": "code",
   "execution_count": 57,
   "metadata": {},
   "outputs": [],
   "source": [
    "import re\n",
    "\n",
    "\n",
    "def clean_tsv(filename):\n",
    "    # Open the file in read mode\n",
    "    with open(filename, \"r\") as file:\n",
    "        # Read the file contents and store it in a variable\n",
    "        file_contents = file.read()\n",
    "\n",
    "    # Remove all excessive white spaces\n",
    "    clean_contents = re.sub(\" +\", \" \", file_contents)\n",
    "\n",
    "    # Open the file in write mode\n",
    "    with open(filename, \"w\") as file:\n",
    "        # Write the cleaned contents back to the file\n",
    "        file.write(clean_contents)"
   ]
  },
  {
   "cell_type": "code",
   "execution_count": 77,
   "metadata": {},
   "outputs": [
    {
     "data": {
      "text/html": [
       "<div>\n",
       "<style scoped>\n",
       "    .dataframe tbody tr th:only-of-type {\n",
       "        vertical-align: middle;\n",
       "    }\n",
       "\n",
       "    .dataframe tbody tr th {\n",
       "        vertical-align: top;\n",
       "    }\n",
       "\n",
       "    .dataframe thead th {\n",
       "        text-align: right;\n",
       "    }\n",
       "</style>\n",
       "<table border=\"1\" class=\"dataframe\">\n",
       "  <thead>\n",
       "    <tr style=\"text-align: right;\">\n",
       "      <th></th>\n",
       "      <th>faithfulness</th>\n",
       "      <th>informativeness_step</th>\n",
       "      <th>informativeness_chain</th>\n",
       "      <th>faithfulness_ww</th>\n",
       "      <th>repetition_word</th>\n",
       "      <th>repetition_step</th>\n",
       "      <th>discourse_representation</th>\n",
       "      <th>coherence_step_vs_step</th>\n",
       "      <th>perplexity_step</th>\n",
       "      <th>perplexity_chain</th>\n",
       "      <th>perplexity_step_max</th>\n",
       "      <th>grammar_step</th>\n",
       "      <th>grammar_step_max</th>\n",
       "    </tr>\n",
       "  </thead>\n",
       "  <tbody>\n",
       "    <tr>\n",
       "      <th>0</th>\n",
       "      <td>0.968362</td>\n",
       "      <td>0.918402</td>\n",
       "      <td>0.878924</td>\n",
       "      <td>0.964252</td>\n",
       "      <td>0.027852</td>\n",
       "      <td>0.023171</td>\n",
       "      <td>0.046803</td>\n",
       "      <td>0.646053</td>\n",
       "      <td>0.084928</td>\n",
       "      <td>0.211185</td>\n",
       "      <td>0.014396</td>\n",
       "      <td>0.915029</td>\n",
       "      <td>0.663374</td>\n",
       "    </tr>\n",
       "    <tr>\n",
       "      <th>1</th>\n",
       "      <td>0.940531</td>\n",
       "      <td>0.914752</td>\n",
       "      <td>0.869218</td>\n",
       "      <td>0.972617</td>\n",
       "      <td>0.037163</td>\n",
       "      <td>0.032476</td>\n",
       "      <td>0.000570</td>\n",
       "      <td>0.018564</td>\n",
       "      <td>0.032771</td>\n",
       "      <td>0.103065</td>\n",
       "      <td>0.014396</td>\n",
       "      <td>0.905776</td>\n",
       "      <td>0.453010</td>\n",
       "    </tr>\n",
       "    <tr>\n",
       "      <th>2</th>\n",
       "      <td>0.940439</td>\n",
       "      <td>0.912106</td>\n",
       "      <td>0.927187</td>\n",
       "      <td>0.970973</td>\n",
       "      <td>0.047384</td>\n",
       "      <td>0.026998</td>\n",
       "      <td>0.019033</td>\n",
       "      <td>0.366958</td>\n",
       "      <td>0.023175</td>\n",
       "      <td>0.073830</td>\n",
       "      <td>0.009735</td>\n",
       "      <td>0.982251</td>\n",
       "      <td>0.966039</td>\n",
       "    </tr>\n",
       "    <tr>\n",
       "      <th>3</th>\n",
       "      <td>0.950651</td>\n",
       "      <td>0.908429</td>\n",
       "      <td>0.843166</td>\n",
       "      <td>0.928078</td>\n",
       "      <td>0.021383</td>\n",
       "      <td>0.045313</td>\n",
       "      <td>0.013847</td>\n",
       "      <td>0.329307</td>\n",
       "      <td>0.082836</td>\n",
       "      <td>0.278927</td>\n",
       "      <td>0.010968</td>\n",
       "      <td>0.975609</td>\n",
       "      <td>0.920538</td>\n",
       "    </tr>\n",
       "    <tr>\n",
       "      <th>4</th>\n",
       "      <td>0.942967</td>\n",
       "      <td>0.917354</td>\n",
       "      <td>0.894124</td>\n",
       "      <td>0.974889</td>\n",
       "      <td>0.041948</td>\n",
       "      <td>0.016515</td>\n",
       "      <td>0.007349</td>\n",
       "      <td>0.889339</td>\n",
       "      <td>0.032383</td>\n",
       "      <td>0.145472</td>\n",
       "      <td>0.008327</td>\n",
       "      <td>0.969711</td>\n",
       "      <td>0.896828</td>\n",
       "    </tr>\n",
       "  </tbody>\n",
       "</table>\n",
       "</div>"
      ],
      "text/plain": [
       "   faithfulness  informativeness_step  informativeness_chain  faithfulness_ww  \\\n",
       "0      0.968362              0.918402               0.878924         0.964252   \n",
       "1      0.940531              0.914752               0.869218         0.972617   \n",
       "2      0.940439              0.912106               0.927187         0.970973   \n",
       "3      0.950651              0.908429               0.843166         0.928078   \n",
       "4      0.942967              0.917354               0.894124         0.974889   \n",
       "\n",
       "   repetition_word  repetition_step  discourse_representation  \\\n",
       "0         0.027852         0.023171                  0.046803   \n",
       "1         0.037163         0.032476                  0.000570   \n",
       "2         0.047384         0.026998                  0.019033   \n",
       "3         0.021383         0.045313                  0.013847   \n",
       "4         0.041948         0.016515                  0.007349   \n",
       "\n",
       "   coherence_step_vs_step  perplexity_step  perplexity_chain  \\\n",
       "0                0.646053         0.084928          0.211185   \n",
       "1                0.018564         0.032771          0.103065   \n",
       "2                0.366958         0.023175          0.073830   \n",
       "3                0.329307         0.082836          0.278927   \n",
       "4                0.889339         0.032383          0.145472   \n",
       "\n",
       "   perplexity_step_max  grammar_step  grammar_step_max  \n",
       "0             0.014396      0.915029          0.663374  \n",
       "1             0.014396      0.905776          0.453010  \n",
       "2             0.009735      0.982251          0.966039  \n",
       "3             0.010968      0.975609          0.920538  \n",
       "4             0.008327      0.969711          0.896828  "
      ]
     },
     "execution_count": 77,
     "metadata": {},
     "output_type": "execute_result"
    }
   ],
   "source": [
    "clean_tsv(\"scores/roscoe-512-roberta-base/scores_cb2.tsv\")\n",
    "df_scores = pd.read_table(\n",
    "    \"scores/roscoe-512-roberta-base/scores_cb2.tsv\", sep=\" \", header=0\n",
    ")\n",
    "df_scores.drop(columns=[\"ID\"], inplace=True)\n",
    "df_scores.head()"
   ]
  },
  {
   "cell_type": "code",
   "execution_count": 75,
   "metadata": {},
   "outputs": [
    {
     "data": {
      "text/html": [
       "<div>\n",
       "<style scoped>\n",
       "    .dataframe tbody tr th:only-of-type {\n",
       "        vertical-align: middle;\n",
       "    }\n",
       "\n",
       "    .dataframe tbody tr th {\n",
       "        vertical-align: top;\n",
       "    }\n",
       "\n",
       "    .dataframe thead th {\n",
       "        text-align: right;\n",
       "    }\n",
       "</style>\n",
       "<table border=\"1\" class=\"dataframe\">\n",
       "  <thead>\n",
       "    <tr style=\"text-align: right;\">\n",
       "      <th></th>\n",
       "      <th>faithfulness</th>\n",
       "      <th>informativeness_step</th>\n",
       "      <th>informativeness_chain</th>\n",
       "      <th>faithfulness_ww</th>\n",
       "      <th>repetition_word</th>\n",
       "      <th>repetition_step</th>\n",
       "      <th>discourse_representation</th>\n",
       "      <th>coherence_step_vs_step</th>\n",
       "      <th>perplexity_step</th>\n",
       "      <th>perplexity_chain</th>\n",
       "      <th>perplexity_step_max</th>\n",
       "      <th>grammar_step</th>\n",
       "      <th>grammar_step_max</th>\n",
       "    </tr>\n",
       "  </thead>\n",
       "  <tbody>\n",
       "    <tr>\n",
       "      <th>count</th>\n",
       "      <td>612.000000</td>\n",
       "      <td>612.000000</td>\n",
       "      <td>612.000000</td>\n",
       "      <td>612.000000</td>\n",
       "      <td>612.000000</td>\n",
       "      <td>612.000000</td>\n",
       "      <td>612.000000</td>\n",
       "      <td>612.000000</td>\n",
       "      <td>612.000000</td>\n",
       "      <td>612.000000</td>\n",
       "      <td>612.000000</td>\n",
       "      <td>612.000000</td>\n",
       "      <td>612.000000</td>\n",
       "    </tr>\n",
       "    <tr>\n",
       "      <th>mean</th>\n",
       "      <td>0.897339</td>\n",
       "      <td>0.886721</td>\n",
       "      <td>0.896390</td>\n",
       "      <td>0.953152</td>\n",
       "      <td>0.035601</td>\n",
       "      <td>0.028852</td>\n",
       "      <td>0.119963</td>\n",
       "      <td>0.181379</td>\n",
       "      <td>0.030934</td>\n",
       "      <td>0.124387</td>\n",
       "      <td>0.008586</td>\n",
       "      <td>0.926131</td>\n",
       "      <td>0.677643</td>\n",
       "    </tr>\n",
       "    <tr>\n",
       "      <th>std</th>\n",
       "      <td>0.014669</td>\n",
       "      <td>0.011840</td>\n",
       "      <td>0.034196</td>\n",
       "      <td>0.019791</td>\n",
       "      <td>0.010220</td>\n",
       "      <td>0.013235</td>\n",
       "      <td>0.197434</td>\n",
       "      <td>0.272297</td>\n",
       "      <td>0.021488</td>\n",
       "      <td>0.069665</td>\n",
       "      <td>0.004717</td>\n",
       "      <td>0.055780</td>\n",
       "      <td>0.292659</td>\n",
       "    </tr>\n",
       "    <tr>\n",
       "      <th>min</th>\n",
       "      <td>0.826695</td>\n",
       "      <td>0.842966</td>\n",
       "      <td>0.760660</td>\n",
       "      <td>0.898652</td>\n",
       "      <td>0.001386</td>\n",
       "      <td>0.000223</td>\n",
       "      <td>0.000180</td>\n",
       "      <td>0.000405</td>\n",
       "      <td>0.003435</td>\n",
       "      <td>0.042284</td>\n",
       "      <td>0.000088</td>\n",
       "      <td>0.689844</td>\n",
       "      <td>0.024506</td>\n",
       "    </tr>\n",
       "    <tr>\n",
       "      <th>25%</th>\n",
       "      <td>0.888416</td>\n",
       "      <td>0.879233</td>\n",
       "      <td>0.881748</td>\n",
       "      <td>0.943084</td>\n",
       "      <td>0.030826</td>\n",
       "      <td>0.017770</td>\n",
       "      <td>0.002593</td>\n",
       "      <td>0.007637</td>\n",
       "      <td>0.017062</td>\n",
       "      <td>0.074485</td>\n",
       "      <td>0.004550</td>\n",
       "      <td>0.893118</td>\n",
       "      <td>0.563705</td>\n",
       "    </tr>\n",
       "    <tr>\n",
       "      <th>50%</th>\n",
       "      <td>0.898427</td>\n",
       "      <td>0.887651</td>\n",
       "      <td>0.901172</td>\n",
       "      <td>0.961895</td>\n",
       "      <td>0.037116</td>\n",
       "      <td>0.029379</td>\n",
       "      <td>0.011964</td>\n",
       "      <td>0.030721</td>\n",
       "      <td>0.021975</td>\n",
       "      <td>0.097779</td>\n",
       "      <td>0.009735</td>\n",
       "      <td>0.943070</td>\n",
       "      <td>0.773873</td>\n",
       "    </tr>\n",
       "    <tr>\n",
       "      <th>75%</th>\n",
       "      <td>0.907260</td>\n",
       "      <td>0.894806</td>\n",
       "      <td>0.916890</td>\n",
       "      <td>0.967002</td>\n",
       "      <td>0.043209</td>\n",
       "      <td>0.039539</td>\n",
       "      <td>0.142010</td>\n",
       "      <td>0.262102</td>\n",
       "      <td>0.036430</td>\n",
       "      <td>0.170343</td>\n",
       "      <td>0.013078</td>\n",
       "      <td>0.971575</td>\n",
       "      <td>0.903474</td>\n",
       "    </tr>\n",
       "    <tr>\n",
       "      <th>max</th>\n",
       "      <td>0.936876</td>\n",
       "      <td>0.918339</td>\n",
       "      <td>0.972259</td>\n",
       "      <td>0.976682</td>\n",
       "      <td>0.057096</td>\n",
       "      <td>0.061954</td>\n",
       "      <td>0.768386</td>\n",
       "      <td>0.949052</td>\n",
       "      <td>0.126940</td>\n",
       "      <td>0.364336</td>\n",
       "      <td>0.019938</td>\n",
       "      <td>0.989711</td>\n",
       "      <td>0.985590</td>\n",
       "    </tr>\n",
       "  </tbody>\n",
       "</table>\n",
       "</div>"
      ],
      "text/plain": [
       "       faithfulness  informativeness_step  informativeness_chain  \\\n",
       "count    612.000000            612.000000             612.000000   \n",
       "mean       0.897339              0.886721               0.896390   \n",
       "std        0.014669              0.011840               0.034196   \n",
       "min        0.826695              0.842966               0.760660   \n",
       "25%        0.888416              0.879233               0.881748   \n",
       "50%        0.898427              0.887651               0.901172   \n",
       "75%        0.907260              0.894806               0.916890   \n",
       "max        0.936876              0.918339               0.972259   \n",
       "\n",
       "       faithfulness_ww  repetition_word  repetition_step  \\\n",
       "count       612.000000       612.000000       612.000000   \n",
       "mean          0.953152         0.035601         0.028852   \n",
       "std           0.019791         0.010220         0.013235   \n",
       "min           0.898652         0.001386         0.000223   \n",
       "25%           0.943084         0.030826         0.017770   \n",
       "50%           0.961895         0.037116         0.029379   \n",
       "75%           0.967002         0.043209         0.039539   \n",
       "max           0.976682         0.057096         0.061954   \n",
       "\n",
       "       discourse_representation  coherence_step_vs_step  perplexity_step  \\\n",
       "count                612.000000              612.000000       612.000000   \n",
       "mean                   0.119963                0.181379         0.030934   \n",
       "std                    0.197434                0.272297         0.021488   \n",
       "min                    0.000180                0.000405         0.003435   \n",
       "25%                    0.002593                0.007637         0.017062   \n",
       "50%                    0.011964                0.030721         0.021975   \n",
       "75%                    0.142010                0.262102         0.036430   \n",
       "max                    0.768386                0.949052         0.126940   \n",
       "\n",
       "       perplexity_chain  perplexity_step_max  grammar_step  grammar_step_max  \n",
       "count        612.000000           612.000000    612.000000        612.000000  \n",
       "mean           0.124387             0.008586      0.926131          0.677643  \n",
       "std            0.069665             0.004717      0.055780          0.292659  \n",
       "min            0.042284             0.000088      0.689844          0.024506  \n",
       "25%            0.074485             0.004550      0.893118          0.563705  \n",
       "50%            0.097779             0.009735      0.943070          0.773873  \n",
       "75%            0.170343             0.013078      0.971575          0.903474  \n",
       "max            0.364336             0.019938      0.989711          0.985590  "
      ]
     },
     "execution_count": 75,
     "metadata": {},
     "output_type": "execute_result"
    }
   ],
   "source": [
    "# Bases stats\n",
    "df_scores.describe()"
   ]
  },
  {
   "cell_type": "code",
   "execution_count": 76,
   "metadata": {},
   "outputs": [
    {
     "name": "stdout",
     "output_type": "stream",
     "text": [
      "\\begin{tabular}{lrrrrrrrrrrrrr}\n",
      "\\toprule\n",
      "{} &  faithfulness &  informativeness\\_step &  informativeness\\_chain &  faithfulness\\_ww &  repetition\\_word &  repetition\\_step &  discourse\\_representation &  coherence\\_step\\_vs\\_step &  perplexity\\_step &  perplexity\\_chain &  perplexity\\_step\\_max &  grammar\\_step &  grammar\\_step\\_max \\\\\n",
      "\\midrule\n",
      "count &    612.000000 &            612.000000 &             612.000000 &       612.000000 &       612.000000 &       612.000000 &                612.000000 &              612.000000 &       612.000000 &        612.000000 &           612.000000 &    612.000000 &        612.000000 \\\\\n",
      "mean  &      0.897339 &              0.886721 &               0.896390 &         0.953152 &         0.035601 &         0.028852 &                  0.119963 &                0.181379 &         0.030934 &          0.124387 &             0.008586 &      0.926131 &          0.677643 \\\\\n",
      "std   &      0.014669 &              0.011840 &               0.034196 &         0.019791 &         0.010220 &         0.013235 &                  0.197434 &                0.272297 &         0.021488 &          0.069665 &             0.004717 &      0.055780 &          0.292659 \\\\\n",
      "min   &      0.826695 &              0.842966 &               0.760660 &         0.898652 &         0.001386 &         0.000223 &                  0.000180 &                0.000405 &         0.003435 &          0.042284 &             0.000088 &      0.689844 &          0.024506 \\\\\n",
      "25\\%   &      0.888416 &              0.879233 &               0.881748 &         0.943084 &         0.030826 &         0.017770 &                  0.002593 &                0.007637 &         0.017062 &          0.074485 &             0.004550 &      0.893118 &          0.563705 \\\\\n",
      "50\\%   &      0.898427 &              0.887651 &               0.901172 &         0.961895 &         0.037116 &         0.029379 &                  0.011964 &                0.030721 &         0.021975 &          0.097779 &             0.009735 &      0.943070 &          0.773873 \\\\\n",
      "75\\%   &      0.907260 &              0.894806 &               0.916890 &         0.967002 &         0.043209 &         0.039539 &                  0.142010 &                0.262102 &         0.036430 &          0.170343 &             0.013078 &      0.971575 &          0.903474 \\\\\n",
      "max   &      0.936876 &              0.918339 &               0.972259 &         0.976682 &         0.057096 &         0.061954 &                  0.768386 &                0.949052 &         0.126940 &          0.364336 &             0.019938 &      0.989711 &          0.985590 \\\\\n",
      "\\bottomrule\n",
      "\\end{tabular}\n",
      "\n"
     ]
    }
   ],
   "source": [
    "# Bases stats to latex table\n",
    "print(df_scores.describe().to_latex())"
   ]
  },
  {
   "cell_type": "code",
   "execution_count": 74,
   "metadata": {},
   "outputs": [
    {
     "data": {
      "text/plain": [
       "array([[<AxesSubplot:title={'center':'faithfulness'}>,\n",
       "        <AxesSubplot:title={'center':'informativeness_step'}>,\n",
       "        <AxesSubplot:title={'center':'informativeness_chain'}>],\n",
       "       [<AxesSubplot:title={'center':'faithfulness_ww'}>,\n",
       "        <AxesSubplot:title={'center':'repetition_word'}>,\n",
       "        <AxesSubplot:title={'center':'repetition_step'}>],\n",
       "       [<AxesSubplot:title={'center':'discourse_representation'}>,\n",
       "        <AxesSubplot:title={'center':'coherence_step_vs_step'}>,\n",
       "        <AxesSubplot:title={'center':'perplexity_step'}>],\n",
       "       [<AxesSubplot:title={'center':'perplexity_chain'}>,\n",
       "        <AxesSubplot:title={'center':'perplexity_step_max'}>,\n",
       "        <AxesSubplot:title={'center':'grammar_step'}>],\n",
       "       [<AxesSubplot:title={'center':'grammar_step_max'}>,\n",
       "        <AxesSubplot:>, <AxesSubplot:>]], dtype=object)"
      ]
     },
     "execution_count": 74,
     "metadata": {},
     "output_type": "execute_result"
    },
    {
     "data": {
      "image/png": "[encoded data removed]",
      "text/plain": [
       "<Figure size 1440x1440 with 15 Axes>"
      ]
     },
     "metadata": {
      "needs_background": "light"
     },
     "output_type": "display_data"
    }
   ],
   "source": [
    "# histogram of the scores, bins=50, range=(0,1), figsize=(20,20), layout=(2,2)\n",
    "\n",
    "df_scores.hist(bins=50, range=(0, 1), figsize=(20, 20), layout=(5, 3))"
   ]
  },
  {
   "attachments": {},
   "cell_type": "markdown",
   "metadata": {},
   "source": [
    "## TESTING AUTOMTED SCRIPT\n"
   ]
  },
  {
   "cell_type": "code",
   "execution_count": 81,
   "metadata": {},
   "outputs": [
    {
     "name": "stdout",
     "output_type": "stream",
     "text": [
      "Running...\n",
      "Running...\n",
      "Running...\n"
     ]
    }
   ],
   "source": [
    "import time\n",
    "\n",
    "while True:\n",
    "    if not os.path.exists(\"./delete_me_to_stop_script.txt\"):\n",
    "        break\n",
    "\n",
    "    try:\n",
    "        print(\"Running...\")\n",
    "    except Exception as e:\n",
    "        print(f\"An error occurred: {e}\")\n",
    "    # Wait for 1 hour for next update\n",
    "    time.sleep(5)"
   ]
  },
  {
   "cell_type": "code",
   "execution_count": 86,
   "metadata": {},
   "outputs": [
    {
     "name": "stdout",
     "output_type": "stream",
     "text": [
      "\u001b[33mWARNING: Keyring is skipped due to an exception: Failed to create the collection: Prompt dismissed..\u001b[0m\n",
      "Collecting google-api-python-client\n",
      "  Downloading google_api_python_client-2.86.0-py2.py3-none-any.whl (11.3 MB)\n",
      "\u001b[K     |████████████████████████████████| 11.3 MB 6.5 MB/s eta 0:00:01\n",
      "\u001b[?25hCollecting google-auth-httplib2\n",
      "  Downloading google_auth_httplib2-0.1.0-py2.py3-none-any.whl (9.3 kB)\n",
      "Collecting google-auth-oauthlib\n",
      "  Downloading google_auth_oauthlib-1.0.0-py2.py3-none-any.whl (18 kB)\n",
      "Collecting uritemplate<5,>=3.0.1\n",
      "  Downloading uritemplate-4.1.1-py2.py3-none-any.whl (10 kB)\n",
      "Collecting google-auth<3.0.0dev,>=1.19.0\n",
      "  Downloading google_auth-2.18.0-py2.py3-none-any.whl (178 kB)\n",
      "\u001b[K     |████████████████████████████████| 178 kB 145.9 MB/s eta 0:00:01\n",
      "\u001b[?25hCollecting google-api-core!=2.0.*,!=2.1.*,!=2.2.*,!=2.3.0,<3.0.0dev,>=1.31.5\n",
      "  Downloading google_api_core-2.11.0-py3-none-any.whl (120 kB)\n",
      "\u001b[K     |████████████████████████████████| 120 kB 119.5 MB/s eta 0:00:01\n",
      "\u001b[?25hCollecting httplib2<1dev,>=0.15.0\n",
      "  Downloading httplib2-0.22.0-py3-none-any.whl (96 kB)\n",
      "\u001b[K     |████████████████████████████████| 96 kB 26.0 MB/s  eta 0:00:01\n",
      "\u001b[?25hRequirement already satisfied: six in /local/home/zhijing/proj/tools/anaconda3/lib/python3.8/site-packages (from google-auth-httplib2) (1.15.0)\n",
      "Collecting protobuf!=3.20.0,!=3.20.1,!=4.21.0,!=4.21.1,!=4.21.2,!=4.21.3,!=4.21.4,!=4.21.5,<5.0.0dev,>=3.19.5\n",
      "  Downloading protobuf-4.23.0-cp37-abi3-manylinux2014_x86_64.whl (304 kB)\n",
      "\u001b[K     |████████████████████████████████| 304 kB 158.3 MB/s eta 0:00:01\n",
      "\u001b[?25hRequirement already satisfied: requests<3.0.0dev,>=2.18.0 in /local/home/zhijing/proj/tools/anaconda3/lib/python3.8/site-packages (from google-api-core!=2.0.*,!=2.1.*,!=2.2.*,!=2.3.0,<3.0.0dev,>=1.31.5->google-api-python-client) (2.25.1)\n",
      "Collecting googleapis-common-protos<2.0dev,>=1.56.2\n",
      "  Downloading googleapis_common_protos-1.59.0-py2.py3-none-any.whl (223 kB)\n",
      "\u001b[K     |████████████████████████████████| 223 kB 152.1 MB/s eta 0:00:01\n",
      "\u001b[?25hRequirement already satisfied: urllib3<2.0 in /local/home/zhijing/proj/tools/anaconda3/lib/python3.8/site-packages (from google-auth<3.0.0dev,>=1.19.0->google-api-python-client) (1.26.4)\n",
      "Collecting cachetools<6.0,>=2.0.0\n",
      "  Downloading cachetools-5.3.0-py3-none-any.whl (9.3 kB)\n",
      "Collecting pyasn1-modules>=0.2.1\n",
      "  Downloading pyasn1_modules-0.3.0-py2.py3-none-any.whl (181 kB)\n",
      "\u001b[K     |████████████████████████████████| 181 kB 135.1 MB/s eta 0:00:01\n",
      "\u001b[?25hCollecting rsa<5,>=3.1.4\n",
      "  Downloading rsa-4.9-py3-none-any.whl (34 kB)\n",
      "Requirement already satisfied: pyparsing!=3.0.0,!=3.0.1,!=3.0.2,!=3.0.3,<4,>=2.4.2 in /local/home/zhijing/proj/tools/anaconda3/lib/python3.8/site-packages (from httplib2<1dev,>=0.15.0->google-api-python-client) (2.4.7)\n",
      "Collecting pyasn1<0.6.0,>=0.4.6\n",
      "  Downloading pyasn1-0.5.0-py2.py3-none-any.whl (83 kB)\n",
      "\u001b[K     |████████████████████████████████| 83 kB 12.7 MB/s  eta 0:00:01\n",
      "\u001b[?25hRequirement already satisfied: idna<3,>=2.5 in /local/home/zhijing/proj/tools/anaconda3/lib/python3.8/site-packages (from requests<3.0.0dev,>=2.18.0->google-api-core!=2.0.*,!=2.1.*,!=2.2.*,!=2.3.0,<3.0.0dev,>=1.31.5->google-api-python-client) (2.10)\n",
      "Requirement already satisfied: certifi>=2017.4.17 in /local/home/zhijing/proj/tools/anaconda3/lib/python3.8/site-packages (from requests<3.0.0dev,>=2.18.0->google-api-core!=2.0.*,!=2.1.*,!=2.2.*,!=2.3.0,<3.0.0dev,>=1.31.5->google-api-python-client) (2020.12.5)\n",
      "Requirement already satisfied: chardet<5,>=3.0.2 in /local/home/zhijing/proj/tools/anaconda3/lib/python3.8/site-packages (from requests<3.0.0dev,>=2.18.0->google-api-core!=2.0.*,!=2.1.*,!=2.2.*,!=2.3.0,<3.0.0dev,>=1.31.5->google-api-python-client) (3.0.4)\n",
      "Requirement already satisfied: requests-oauthlib>=0.7.0 in /local/home/zhijing/proj/tools/anaconda3/lib/python3.8/site-packages (from google-auth-oauthlib) (1.3.0)\n",
      "Requirement already satisfied: oauthlib>=3.0.0 in /local/home/zhijing/proj/tools/anaconda3/lib/python3.8/site-packages (from requests-oauthlib>=0.7.0->google-auth-oauthlib) (3.1.1)\n",
      "Installing collected packages: pyasn1, rsa, pyasn1-modules, protobuf, cachetools, httplib2, googleapis-common-protos, google-auth, uritemplate, google-auth-httplib2, google-api-core, google-auth-oauthlib, google-api-python-client\n",
      "Successfully installed cachetools-5.3.0 google-api-core-2.11.0 google-api-python-client-2.86.0 google-auth-2.18.0 google-auth-httplib2-0.1.0 google-auth-oauthlib-1.0.0 googleapis-common-protos-1.59.0 httplib2-0.22.0 protobuf-4.23.0 pyasn1-0.5.0 pyasn1-modules-0.3.0 rsa-4.9 uritemplate-4.1.1\n"
     ]
    }
   ],
   "source": [
    "# install google api\n",
    "!pip install --upgrade google-api-python-client google-auth-httplib2 google-auth-oauthlib"
   ]
  },
  {
   "cell_type": "code",
   "execution_count": null,
   "metadata": {},
   "outputs": [],
   "source": [
    "# ID 763943312544-t7f6v7e10jf4dt7amag4vkbm1mkvg99p.apps.googleusercontent.com\n",
    "# Secret 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"
   ]
  }
 ],
 "metadata": {
  "kernelspec": {
   "display_name": "roscoe",
   "language": "python",
   "name": "python3"
  },
  "language_info": {
   "codemirror_mode": {
    "name": "ipython",
    "version": 3
   },
   "file_extension": ".py",
   "mimetype": "text/x-python",
   "name": "python",
   "nbconvert_exporter": "python",
   "pygments_lexer": "ipython3",
   "version": "3.8.8"
  },
  "orig_nbformat": 4
 },
 "nbformat": 4,
 "nbformat_minor": 2
}
