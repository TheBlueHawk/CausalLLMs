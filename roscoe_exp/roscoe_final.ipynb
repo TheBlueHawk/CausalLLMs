{
 "cells": [
  {
   "attachments": {},
   "cell_type": "markdown",
   "metadata": {},
   "source": [
    "# Final ROSCOE scoring of CausalBench"
   ]
  },
  {
   "attachments": {},
   "cell_type": "markdown",
   "metadata": {},
   "source": [
    "## Merging datasets \n",
    "\n",
    "### no gt"
   ]
  },
  {
   "cell_type": "code",
   "execution_count": 126,
   "metadata": {},
   "outputs": [],
   "source": [
    "# common imports\n",
    "import numpy as np\n",
    "import pandas as pd\n",
    "import matplotlib.pyplot as plt\n",
    "import os\n",
    "import sys\n",
    "import re\n",
    "from typing import Union, List, Tuple, Dict, Any, Optional"
   ]
  },
  {
   "cell_type": "code",
   "execution_count": 127,
   "metadata": {},
   "outputs": [
    {
     "data": {
      "text/html": [
       "<div>\n",
       "<style scoped>\n",
       "    .dataframe tbody tr th:only-of-type {\n",
       "        vertical-align: middle;\n",
       "    }\n",
       "\n",
       "    .dataframe tbody tr th {\n",
       "        vertical-align: top;\n",
       "    }\n",
       "\n",
       "    .dataframe thead th {\n",
       "        text-align: right;\n",
       "    }\n",
       "</style>\n",
       "<table border=\"1\" class=\"dataframe\">\n",
       "  <thead>\n",
       "    <tr style=\"text-align: right;\">\n",
       "      <th></th>\n",
       "      <th>ID</th>\n",
       "      <th>descriptive_id</th>\n",
       "      <th>sensical</th>\n",
       "      <th>query_type</th>\n",
       "      <th>rung</th>\n",
       "      <th>phenomenon</th>\n",
       "      <th>simpson</th>\n",
       "      <th>truth</th>\n",
       "      <th>prompt</th>\n",
       "      <th>truth_norm</th>\n",
       "      <th>pred</th>\n",
       "    </tr>\n",
       "  </thead>\n",
       "  <tbody>\n",
       "    <tr>\n",
       "      <th>0</th>\n",
       "      <td>4669</td>\n",
       "      <td>confounding_a_ett_gender_pay</td>\n",
       "      <td>-1</td>\n",
       "      <td>ett</td>\n",
       "      <td>3</td>\n",
       "      <td>confounding</td>\n",
       "      <td>False</td>\n",
       "      <td>yes</td>\n",
       "      <td>Imagine a self-contained, hypothetical world w...</td>\n",
       "      <td>1</td>\n",
       "      <td>No</td>\n",
       "    </tr>\n",
       "    <tr>\n",
       "      <th>1</th>\n",
       "      <td>4046</td>\n",
       "      <td>collision_n_nie_nonsense0</td>\n",
       "      <td>0</td>\n",
       "      <td>nie</td>\n",
       "      <td>3</td>\n",
       "      <td>collision</td>\n",
       "      <td>False</td>\n",
       "      <td>no</td>\n",
       "      <td>Imagine a self-contained, hypothetical world w...</td>\n",
       "      <td>0</td>\n",
       "      <td>No</td>\n",
       "    </tr>\n",
       "    <tr>\n",
       "      <th>2</th>\n",
       "      <td>1597</td>\n",
       "      <td>arrowhead_c_ett_floor_wet</td>\n",
       "      <td>1</td>\n",
       "      <td>ett</td>\n",
       "      <td>3</td>\n",
       "      <td>arrowhead</td>\n",
       "      <td>False</td>\n",
       "      <td>yes</td>\n",
       "      <td>Imagine a self-contained, hypothetical world w...</td>\n",
       "      <td>1</td>\n",
       "      <td>Yes</td>\n",
       "    </tr>\n",
       "    <tr>\n",
       "      <th>3</th>\n",
       "      <td>2995</td>\n",
       "      <td>chain_a_nie_smoking_gene_cancer</td>\n",
       "      <td>-1</td>\n",
       "      <td>nie</td>\n",
       "      <td>3</td>\n",
       "      <td>chain</td>\n",
       "      <td>False</td>\n",
       "      <td>yes</td>\n",
       "      <td>Imagine a self-contained, hypothetical world w...</td>\n",
       "      <td>1</td>\n",
       "      <td>No</td>\n",
       "    </tr>\n",
       "    <tr>\n",
       "      <th>4</th>\n",
       "      <td>9475</td>\n",
       "      <td>nondet-diamondcut_c_nde_smoking_frontdoor</td>\n",
       "      <td>1</td>\n",
       "      <td>nde</td>\n",
       "      <td>3</td>\n",
       "      <td>nondet-diamondcut</td>\n",
       "      <td>False</td>\n",
       "      <td>yes</td>\n",
       "      <td>Imagine a self-contained, hypothetical world w...</td>\n",
       "      <td>1</td>\n",
       "      <td>Yes</td>\n",
       "    </tr>\n",
       "  </tbody>\n",
       "</table>\n",
       "</div>"
      ],
      "text/plain": [
       "     ID                             descriptive_id  sensical query_type  rung  \\\n",
       "0  4669               confounding_a_ett_gender_pay        -1        ett     3   \n",
       "1  4046                  collision_n_nie_nonsense0         0        nie     3   \n",
       "2  1597                  arrowhead_c_ett_floor_wet         1        ett     3   \n",
       "3  2995            chain_a_nie_smoking_gene_cancer        -1        nie     3   \n",
       "4  9475  nondet-diamondcut_c_nde_smoking_frontdoor         1        nde     3   \n",
       "\n",
       "          phenomenon  simpson truth  \\\n",
       "0        confounding    False   yes   \n",
       "1          collision    False    no   \n",
       "2          arrowhead    False   yes   \n",
       "3              chain    False   yes   \n",
       "4  nondet-diamondcut    False   yes   \n",
       "\n",
       "                                              prompt  truth_norm pred  \n",
       "0  Imagine a self-contained, hypothetical world w...           1   No  \n",
       "1  Imagine a self-contained, hypothetical world w...           0   No  \n",
       "2  Imagine a self-contained, hypothetical world w...           1  Yes  \n",
       "3  Imagine a self-contained, hypothetical world w...           1   No  \n",
       "4  Imagine a self-contained, hypothetical world w...           1  Yes  "
      ]
     },
     "execution_count": 127,
     "metadata": {},
     "output_type": "execute_result"
    }
   ],
   "source": [
    "# read two cvs files\n",
    "overall_result = pd.read_csv(\"raw_datasets/bern_cna_35_gpt4cot.csv\")\n",
    "overall_result.head()"
   ]
  },
  {
   "cell_type": "code",
   "execution_count": 128,
   "metadata": {},
   "outputs": [
    {
     "data": {
      "text/html": [
       "<div>\n",
       "<style scoped>\n",
       "    .dataframe tbody tr th:only-of-type {\n",
       "        vertical-align: middle;\n",
       "    }\n",
       "\n",
       "    .dataframe tbody tr th {\n",
       "        vertical-align: top;\n",
       "    }\n",
       "\n",
       "    .dataframe thead th {\n",
       "        text-align: right;\n",
       "    }\n",
       "</style>\n",
       "<table border=\"1\" class=\"dataframe\">\n",
       "  <thead>\n",
       "    <tr style=\"text-align: right;\">\n",
       "      <th></th>\n",
       "      <th>ID</th>\n",
       "      <th>prompt</th>\n",
       "    </tr>\n",
       "  </thead>\n",
       "  <tbody>\n",
       "    <tr>\n",
       "      <th>0</th>\n",
       "      <td>4669</td>\n",
       "      <td>Imagine a self-contained, hypothetical world w...</td>\n",
       "    </tr>\n",
       "    <tr>\n",
       "      <th>1</th>\n",
       "      <td>4046</td>\n",
       "      <td>Imagine a self-contained, hypothetical world w...</td>\n",
       "    </tr>\n",
       "    <tr>\n",
       "      <th>2</th>\n",
       "      <td>1597</td>\n",
       "      <td>Imagine a self-contained, hypothetical world w...</td>\n",
       "    </tr>\n",
       "    <tr>\n",
       "      <th>3</th>\n",
       "      <td>2995</td>\n",
       "      <td>Imagine a self-contained, hypothetical world w...</td>\n",
       "    </tr>\n",
       "    <tr>\n",
       "      <th>4</th>\n",
       "      <td>9475</td>\n",
       "      <td>Imagine a self-contained, hypothetical world w...</td>\n",
       "    </tr>\n",
       "  </tbody>\n",
       "</table>\n",
       "</div>"
      ],
      "text/plain": [
       "     ID                                             prompt\n",
       "0  4669  Imagine a self-contained, hypothetical world w...\n",
       "1  4046  Imagine a self-contained, hypothetical world w...\n",
       "2  1597  Imagine a self-contained, hypothetical world w...\n",
       "3  2995  Imagine a self-contained, hypothetical world w...\n",
       "4  9475  Imagine a self-contained, hypothetical world w..."
      ]
     },
     "execution_count": 128,
     "metadata": {},
     "output_type": "execute_result"
    }
   ],
   "source": [
    "# keep just ID and prompt columns\n",
    "overall_result = overall_result[[\"ID\", \"prompt\"]]\n",
    "overall_result.head()"
   ]
  },
  {
   "cell_type": "code",
   "execution_count": 129,
   "metadata": {},
   "outputs": [
    {
     "data": {
      "text/html": [
       "<div>\n",
       "<style scoped>\n",
       "    .dataframe tbody tr th:only-of-type {\n",
       "        vertical-align: middle;\n",
       "    }\n",
       "\n",
       "    .dataframe tbody tr th {\n",
       "        vertical-align: top;\n",
       "    }\n",
       "\n",
       "    .dataframe thead th {\n",
       "        text-align: right;\n",
       "    }\n",
       "</style>\n",
       "<table border=\"1\" class=\"dataframe\">\n",
       "  <thead>\n",
       "    <tr style=\"text-align: right;\">\n",
       "      <th></th>\n",
       "      <th>pred</th>\n",
       "      <th>query</th>\n",
       "    </tr>\n",
       "  </thead>\n",
       "  <tbody>\n",
       "    <tr>\n",
       "      <th>0</th>\n",
       "      <td>No, the prisoner being alive cannot be guarant...</td>\n",
       "      <td>We know that captain commands causes rifleman1...</td>\n",
       "    </tr>\n",
       "    <tr>\n",
       "      <th>1</th>\n",
       "      <td>pred</td>\n",
       "      <td>query</td>\n",
       "    </tr>\n",
       "    <tr>\n",
       "      <th>2</th>\n",
       "      <td>No, we cannot definitively conclude that the s...</td>\n",
       "      <td>principal's direction makes teacher1 and teach...</td>\n",
       "    </tr>\n",
       "    <tr>\n",
       "      <th>3</th>\n",
       "      <td>No, based on the information provided, we cann...</td>\n",
       "      <td>principal's anger makes teacher1 and teacher2 ...</td>\n",
       "    </tr>\n",
       "    <tr>\n",
       "      <th>4</th>\n",
       "      <td>No, the student might not necessarily be alive...</td>\n",
       "      <td>We know that captain commands causes professor...</td>\n",
       "    </tr>\n",
       "  </tbody>\n",
       "</table>\n",
       "</div>"
      ],
      "text/plain": [
       "                                                pred  \\\n",
       "0  No, the prisoner being alive cannot be guarant...   \n",
       "1                                               pred   \n",
       "2  No, we cannot definitively conclude that the s...   \n",
       "3  No, based on the information provided, we cann...   \n",
       "4  No, the student might not necessarily be alive...   \n",
       "\n",
       "                                               query  \n",
       "0  We know that captain commands causes rifleman1...  \n",
       "1                                              query  \n",
       "2  principal's direction makes teacher1 and teach...  \n",
       "3  principal's anger makes teacher1 and teacher2 ...  \n",
       "4  We know that captain commands causes professor...  "
      ]
     },
     "execution_count": 129,
     "metadata": {},
     "output_type": "execute_result"
    }
   ],
   "source": [
    "prompt2gpt_response_lookup = pd.read_csv(\"raw_datasets/cache_gpt4_responses.csv\")\n",
    "prompt2gpt_response_lookup.head()"
   ]
  },
  {
   "cell_type": "code",
   "execution_count": 130,
   "metadata": {},
   "outputs": [
    {
     "name": "stdout",
     "output_type": "stream",
     "text": [
      "principal's anger makes teacher1 and teacher2 to blame the student. If either teacher1 of teacher2 blame the student, the student become emotionally damaged. We observed the principal wasn't angry. Would the student be emotionally damaged if teacher2 blame the student?  \n",
      "Start your answer with \"Yes\", or \"No\", followed by step-by-step reasoning to support your explanation.\n"
     ]
    }
   ],
   "source": [
    "# print full contennt of thrid row\n",
    "print(prompt2gpt_response_lookup.iloc[3, 1])"
   ]
  },
  {
   "cell_type": "code",
   "execution_count": 131,
   "metadata": {},
   "outputs": [
    {
     "data": {
      "text/html": [
       "<div>\n",
       "<style scoped>\n",
       "    .dataframe tbody tr th:only-of-type {\n",
       "        vertical-align: middle;\n",
       "    }\n",
       "\n",
       "    .dataframe tbody tr th {\n",
       "        vertical-align: top;\n",
       "    }\n",
       "\n",
       "    .dataframe thead th {\n",
       "        text-align: right;\n",
       "    }\n",
       "</style>\n",
       "<table border=\"1\" class=\"dataframe\">\n",
       "  <thead>\n",
       "    <tr style=\"text-align: right;\">\n",
       "      <th></th>\n",
       "      <th>ID</th>\n",
       "      <th>prompt</th>\n",
       "      <th>pred</th>\n",
       "    </tr>\n",
       "  </thead>\n",
       "  <tbody>\n",
       "    <tr>\n",
       "      <th>0</th>\n",
       "      <td>4669</td>\n",
       "      <td>Imagine a self-contained, hypothetical world w...</td>\n",
       "      <td>Step 1) Extract the causal graph: The causal g...</td>\n",
       "    </tr>\n",
       "    <tr>\n",
       "      <th>1</th>\n",
       "      <td>4046</td>\n",
       "      <td>Imagine a self-contained, hypothetical world w...</td>\n",
       "      <td>Step 1) Extract the causal graph: The causal g...</td>\n",
       "    </tr>\n",
       "    <tr>\n",
       "      <th>2</th>\n",
       "      <td>1597</td>\n",
       "      <td>Imagine a self-contained, hypothetical world w...</td>\n",
       "      <td>Step 1) Extract the causal graph: The causal g...</td>\n",
       "    </tr>\n",
       "    <tr>\n",
       "      <th>3</th>\n",
       "      <td>2995</td>\n",
       "      <td>Imagine a self-contained, hypothetical world w...</td>\n",
       "      <td>Step 1) Extract the causal graph: The causal g...</td>\n",
       "    </tr>\n",
       "    <tr>\n",
       "      <th>4</th>\n",
       "      <td>9475</td>\n",
       "      <td>Imagine a self-contained, hypothetical world w...</td>\n",
       "      <td>Step 1) Extract the causal graph: The causal g...</td>\n",
       "    </tr>\n",
       "  </tbody>\n",
       "</table>\n",
       "</div>"
      ],
      "text/plain": [
       "     ID                                             prompt  \\\n",
       "0  4669  Imagine a self-contained, hypothetical world w...   \n",
       "1  4046  Imagine a self-contained, hypothetical world w...   \n",
       "2  1597  Imagine a self-contained, hypothetical world w...   \n",
       "3  2995  Imagine a self-contained, hypothetical world w...   \n",
       "4  9475  Imagine a self-contained, hypothetical world w...   \n",
       "\n",
       "                                                pred  \n",
       "0  Step 1) Extract the causal graph: The causal g...  \n",
       "1  Step 1) Extract the causal graph: The causal g...  \n",
       "2  Step 1) Extract the causal graph: The causal g...  \n",
       "3  Step 1) Extract the causal graph: The causal g...  \n",
       "4  Step 1) Extract the causal graph: The causal g...  "
      ]
     },
     "execution_count": 131,
     "metadata": {},
     "output_type": "execute_result"
    }
   ],
   "source": [
    "# Using the \"prompt\" from overall_result df, look up the GPT4’s reasoning chain in the .cache_gpt4_responses.csv file (use \"query\" to look up \"pred\").\n",
    "# If the \"pred\" is not empty, then add the \"pred\" to the overall_result df.\n",
    "\n",
    "overall_result[\"pred\"] = overall_result[\"prompt\"].apply(\n",
    "    lambda x: prompt2gpt_response_lookup[prompt2gpt_response_lookup[\"query\"] == x][\n",
    "        \"pred\"\n",
    "    ].values[0]\n",
    "    if len(\n",
    "        prompt2gpt_response_lookup[prompt2gpt_response_lookup[\"query\"] == x][\n",
    "            \"pred\"\n",
    "        ].values\n",
    "    )\n",
    "    > 0\n",
    "    else np.nan\n",
    ")\n",
    "overall_result.head()"
   ]
  },
  {
   "cell_type": "code",
   "execution_count": 132,
   "metadata": {},
   "outputs": [
    {
     "name": "stdout",
     "output_type": "stream",
     "text": [
      "Imagine a self-contained, hypothetical world with only the following conditions, and without any unmentioned factors or causal relationships: Male gender has a direct effect on non-competitive department application and in-state residency. Non-competitive department application has a direct effect on admission. In-state residency has a direct effect on admission. For individuals who are not male, the probability of admission is 64.83%. For individuals who are male, the probability of admission is 43.35%. For individuals who are male, would it be more likely to see admission if the individual had not been male?\n",
      "\n",
      "Hint: You can answer the question by following the subquestions below:\n",
      "\n",
      "Step 1) Extract the causal graph: What is the causal graph expressed in the context? Use \"X\" to denote \"gender\". Use \"V2\" to denote \"department applying to\". Use \"V3\" to denote \"residency status\". Use \"Y\" to denote \"admission status\". Answer nothing else but each edge one by one, in the format of \"var1 -> var2\", and use \",\" to separate the edges.\n",
      "\n",
      "Step 2) Identify the query type: What is the query type of the above question? Choose one from \"marginal probability\", \"conditional probability\", \"explaining away effect\", \"backdoor adjustment set\", \"average treatment effect\", \"collider bias\", \"normal counterfactual question\", \"average treatment effect on treated\", \"natural direct effect\", or \"natural indirect effect\". Answer nothing else but a quoted choice from above.\n",
      "\n",
      "Step 3) Translate the query to an estimand: Based on the type of the causal query, translate the question to a formal estimand. Use the \"do(·)\" notation or counterfactual notations whenever necessary.\n",
      "\n",
      "Step 4) Collect all the available data: Extract all available data. Answer nothing else but marginal probabilities and conditional probabilities, in the form of \"P(...)=...\" or \"P(...|...)=...\", and use \";\" to separate each of them. Use \"X\" to denote \"gender\". Use \"V2\" to denote \"department applying to\". Use \"V3\" to denote \"residency status\". Use \"Y\" to denote \"admission status\".\n",
      "\n",
      "Step 5) Solve for the estimand: Given all the information above, solve for the estimand mentioned before using causal inference skills such as do-calculus, counterfactual prediction, and the basics of probabilities. Answer step by step.\n",
      "####################################################################################################\n",
      "Step 1) Extract the causal graph: The causal graph expressed in the context is \"X -> V2, X -> V3, V2 -> Y, V3 -> Y\". \n",
      "\n",
      "Step 2) Identify the query type: The query type of the above question is \"normal counterfactual question\".\n",
      "\n",
      "Step 3) Translate the query to an estimand: Based on the type of the causal query, the question can be translated to a formal estimand as \"P(Y_x=1 | X=1)\" where x=0, meaning the probability of admission for an individual who is male (X=1) if they had not been male (x=0).\n",
      "\n",
      "Step 4) Collect all the available data: The available data are \"P(Y=1 | X=0) = 0.6483\" and \"P(Y=1 | X=1) = 0.4335\".\n",
      "\n",
      "Step 5) Solve for the estimand: Given all the information above, we can't directly solve for the estimand \"P(Y_x=1 | X=1)\" using the available data and causal inference skills. We need more information about the relationships between the variables, such as the probabilities of applying to non-competitive departments and in-state residency status for both males and non-males. Without this information, we cannot determine if it would be more likely to see admission if the individual had not been male.\n"
     ]
    }
   ],
   "source": [
    "# print full contennt of first row\n",
    "print(overall_result.iloc[45, 1])\n",
    "print(\"#\" * 100)\n",
    "print(overall_result.iloc[45, 2])"
   ]
  },
  {
   "cell_type": "code",
   "execution_count": 133,
   "metadata": {},
   "outputs": [
    {
     "name": "stdout",
     "output_type": "stream",
     "text": [
      "612\n",
      "612\n"
     ]
    }
   ],
   "source": [
    "# print len of overall_result\n",
    "print(len(overall_result))\n",
    "# new df with no null values\n",
    "overall_result_no_null = overall_result.dropna()\n",
    "# print len of new df\n",
    "print(len(overall_result_no_null))"
   ]
  },
  {
   "cell_type": "code",
   "execution_count": 134,
   "metadata": {},
   "outputs": [
    {
     "data": {
      "text/plain": [
       "Step 1) Extract the causal graph: The causal graph expressed in the context is \"X -> V2, V2 -> Y\".\\n\\nStep 2) Identify the query type: The query type of the above question is \"natural direct effect\".\\n\\nStep 3) Translate the query to an estimand: Based on the type of the causal query, the question can be translated to a formal estimand as E(Y_x | do(V2)).\\n\\nStep 4) Collect all the available data: We do not have any specific data provided in the question. However, we know the causal relationships: P(X -> V2) and P(V2 -> Y).\\n\\nStep 5) Solve for the estimand: Given all the information above, we can solve for the estimand E(Y_x | do(V2)) using causal inference skills. Since we want to understand how the gene affects lung cancer, we need to consider the effect of the gene on smoking status and the effect of smoking status on lung cancer. Therefore, we should look at the correlation case by case according to gene, smoking status, and lung cancer. So, the answer is \"No\".                                                                                                                                                                                                                                                                                                                                                                                                                                                                                                                                                                                                                                                                            2\n",
       "Step 1) Extract the causal graph: The causal graph expressed in the context is \"X -> V3, Y -> V3\". \\n\\nStep 2) Identify the query type: The query type of the above question is \"normal counterfactual question\".\\n\\nStep 3) Translate the query to an estimand: Based on the type of the causal query, the question can be translated to a formal estimand as \"P(Y_x = y | do(X = x))\".\\n\\nStep 4) Collect all the available data: We do not have any specific data provided in the question. Therefore, we cannot provide any marginal probabilities or conditional probabilities in the form of \"P(...)=...\" or \"P(...|...)=...\".\\n\\nStep 5) Solve for the estimand: Given the information above, we cannot solve for the estimand mentioned before using causal inference skills such as do-calculus, counterfactual prediction, and the basics of probabilities, as we do not have any specific data provided in the question.                                                                                                                                                                                                                                                                                                                                                                                                                                                                                                                                                                                                                                                                                                                                                             2\n",
       "Step 1) Extract the causal graph: The causal graph expressed in the context is \"X -> V3, Y -> V3\".\\n\\nStep 2) Identify the query type: The query type of the above question is \"normal counterfactual question\".\\n\\nStep 3) Translate the query to an estimand: Based on the type of the causal query, the question can be translated to a formal estimand as E(Y_x) - E(Y), where Y_x denotes the counterfactual outcome of Y when X is set to x.\\n\\nStep 4) Collect all the available data: There is no available data provided in the question. We only have the causal graph \"X -> V3, Y -> V3\" and no information about marginal probabilities or conditional probabilities.\\n\\nStep 5) Solve for the estimand: Given the information above, we cannot solve for the estimand E(Y_x) - E(Y) using causal inference skills, as there is no available data on marginal probabilities or conditional probabilities. We can only conclude that there is no direct causal relationship between X (rujx) and Y (nyrp) based on the given causal graph.                                                                                                                                                                                                                                                                                                                                                                                                                                                                                                                                                                                                                                           2\n",
       "Step 1) Extract the causal graph: The causal graph expressed in the context is \"X -> V3, Y -> V3\".\\n\\nStep 2) Identify the query type: The query type of the above question is \"conditional probability\".\\n\\nStep 3) Translate the query to an estimand: Based on the type of the causal query, the question can be translated to a formal estimand as P(Y|do(X=1)).\\n\\nStep 4) Collect all the available data: There is no available data provided in the question. We only know the causal relationships between the variables, but no specific probabilities are given.\\n\\nStep 5) Solve for the estimand: Given the information above, we cannot solve for the estimand P(Y|do(X=1)) using causal inference skills, as there is no available data provided in the question. We need more information about the probabilities and relationships between the variables to answer the question.                                                                                                                                                                                                                                                                                                                                                                                                                                                                                                                                                                                                                                                                                                                                                                                                2\n",
       "Step 1) Extract the causal graph: The causal graph expressed in the context is as follows: \"V1 -> X, V1 -> V3, X -> Y, V3 -> Y\".\\n\\nStep 2) Identify the query type: The query type of the above question is \"natural indirect effect\".\\n\\nStep 3) Translate the query to an estimand: Based on the type of the causal query, the question can be translated to a formal estimand as \"E(Y_x | do(V1)) - E(Y_x | do(not V1))\", where Y_x represents the counterfactual outcome of Y when X is set to x.\\n\\nStep 4) Collect all the available data: Unfortunately, the problem statement does not provide any specific data in the form of marginal probabilities or conditional probabilities. Therefore, we cannot proceed with this step.\\n\\nStep 5) Solve for the estimand: Given the lack of available data, we cannot solve for the estimand using causal inference skills such as do-calculus, counterfactual prediction, and the basics of probabilities.                                                                                                                                                                                                                                                                                                                                                                                                                                                                                                                                                                                                                                                                                                                                 2\n",
       "                                                                                                                                                                                                                                                                                                                                                                                                                                                                                                                                                                                                                                                                                                                                                                                                                                                                                                                                                                                                                                                                                                                                                                                                                                                                                                                                                                                                                                                                                                                                                                                                                                                                                               ..\n",
       "Step 1) Extract the causal graph: The causal graph expressed in the context is \"X -> V3\", \"X -> Y\", \"V2 -> V3\", \"V2 -> Y\", \"V3 -> Y\".\\n\\nStep 2) Identify the query type: The query type of the above question is \"natural indirect effect\".\\n\\nStep 3) Translate the query to an estimand: Based on the type of the causal query, the question can be translated to a formal estimand as E[Y_x - Y_{x'} | do(V3 = v3)] where x and x' represent different values of X (jyko), and v3 represents the value of V3 (zory).\\n\\nStep 4) Collect all the available data: The available data are P(Y=1|X=0,V3=0)=0.9409; P(Y=1|X=0,V3=1)=0.4189; P(Y=1|X=1,V3=0)=0.7642; P(Y=1|X=1,V3=1)=0.5629; P(V3=1|X=0,V2=0)=0.7; P(V3=1|X=0,V2=1)=0.6; P(V3=1|X=1,V2=0)=0.4; P(V3=1|X=1,V2=1)=0.4; P(V2=1)=0.7.\\n\\nStep 5) Solve for the estimand:\\n\\n1. Calculate P(V3=1|X=0) and P(V3=1|X=1) using the law of total probability:\\nP(V3=1|X=0) = P(V3=1|X=0,V2=0)P(V2=0) + P(V3=1|X=0,V2=1)P(V2=1) = 0.7 * 0.3 + 0.6 * 0.7 = 0.63\\nP(V3=1|X=1) = P(V3=1|X=1,V2=0)P(V2=0) + P(V3=1|X=1,V2=1)P(V2=1) = 0.4 * 0.3 + 0.4 * 0.7 = 0.4\\n\\n2. Calculate the natural indirect effect for V3=0 and V3=1:\\nNIE(V3=0) = E[Y_1 - Y_0 | do(V3 = 0)] = P(Y=1|X=1,V3=0) - P(Y=1|X=0,V3=0) = 0.7642 - 0.9409 = -0.1767\\nNIE(V3=1) = E[Y_1 - Y_0 | do(V3 = 1)] = P(Y=1|X=1,V3=1) - P(Y=1|X=0,V3=1) = 0.5629 - 0.4189 = 0.1440\\n\\n3. Calculate the overall natural indirect effect using the law of total probability:\\nNIE = P(V3=1|X=1) * NIE(V3=1) + P(V3=1|X=0) * NIE(V3=0) = 0.4 * 0.1440 + 0.63 * (-0.1767) = -0.07068\\n\\nSo, jyko affects uvzo through either fyqo or zory with a natural indirect effect of -0.07068.    1\n",
       "Step 1) Extract the causal graph: The causal graph expressed in the context is \"X -> V3\", \"X -> Y\", \"V2 -> V3\", \"V2 -> Y\", \"V3 -> Y\".\\n\\nStep 2) Identify the query type: The query type of the above question is \"conditional probability\".\\n\\nStep 3) Translate the query to an estimand: Based on the type of the causal query, the question can be translated to a formal estimand as P(Y=1|X=1).\\n\\nStep 4) Collect all the available data: The available data are P(Y=1|X=0)=0.3138 and P(Y=1|X=1)=0.5960.\\n\\nStep 5) Solve for the estimand: Given all the information above, we can directly read the estimand from the available data. P(Y=1|X=1) = 0.5960. Therefore, the chance of czix is larger when observing vwen.                                                                                                                                                                                                                                                                                                                                                                                                                                                                                                                                                                                                                                                                                                                                                                                                                                                                                                                                                               1\n",
       "Step 1) Extract the causal graph: The causal graph expressed in the context is \"V1 -> X, V1 -> Y, V2 -> X, X -> Y\".\\n\\nStep 2) Identify the query type: The query type of the above question is \"average treatment effect\".\\n\\nStep 3) Translate the query to an estimand: Based on the type of the causal query, the question can be translated to a formal estimand as E[Y|do(X=1)] - E[Y|do(X=0)].\\n\\nStep 4) Collect all the available data: The available data are \"P(Y=1|V2=0)=0.9666; P(Y=1|V2=1)=0.9642; P(X=1|V2=0)=0.87; P(X=1|V2=1)=0.85\".\\n\\nStep 5) Solve for the estimand: \\n\\n1. First, we need to find P(V2), which can be obtained from the given data:\\nP(V2=0) = P(Y=1|V2=0) + P(Y=0|V2=0) = 0.9666 + (1 - 0.9666) = 1\\nP(V2=1) = P(Y=1|V2=1) + P(Y=0|V2=1) = 0.9642 + (1 - 0.9642) = 1\\n\\n2. Next, we need to find P(Y|do(X)):\\nP(Y=1|do(X=1)) = P(Y=1|X=1) = P(Y=1|X=1, V2=0)P(V2=0) + P(Y=1|X=1, V2=1)P(V2=1)\\nP(Y=1|do(X=0)) = P(Y=1|X=0) = P(Y=1|X=0, V2=0)P(V2=0) + P(Y=1|X=0, V2=1)P(V2=1)\\n\\n3. We don't have enough information to directly compute P(Y=1|X=1, V2=0), P(Y=1|X=1, V2=1), P(Y=1|X=0, V2=0), and P(Y=1|X=0, V2=1). Therefore, we cannot compute the average treatment effect E[Y|do(X=1)] - E[Y|do(X=0)] with the given data.\\n\\nIn conclusion, with the given data, we cannot determine whether window-shopping will increase the chance of short lifespan.                                                                                                                                                                                                                                                                                           1\n",
       "Step 1) Extract the causal graph: The causal graph expressed in the context is \"X -> V3, Y -> V3\". \\n\\nStep 2) Identify the query type: The query type of the above question is \"marginal probability\".\\n\\nStep 3) Translate the query to an estimand: Based on the type of the causal query, the question can be translated to a formal estimand as \"P(X=1)\".\\n\\nStep 4) Collect all the available data: The available data are \"P(V3=0|Y=1)=0.1; P(V3=0|X=1)=1\".\\n\\nStep 5) Solve for the estimand: Given all the information above, we cannot directly solve for the estimand P(X=1) using causal inference skills such as do-calculus, counterfactual prediction, and the basics of probabilities, as we do not have enough information about the relationship between vaccination status (X) and smallpox condition (V3) or the distribution of vaccination status in the population.                                                                                                                                                                                                                                                                                                                                                                                                                                                                                                                                                                                                                                                                                                                                                                                                      1\n",
       "Step 1) Extract the causal graph: The causal graph expressed in the context is \"X -> V2, V2 -> Y\".\\n\\nStep 2) Identify the query type: The query type of the above question is \"normal counterfactual question\".\\n\\nStep 3) Translate the query to an estimand: Based on the type of the causal query, the question can be translated to a formal estimand as \"P(Y_x=1 | X=1)\" where Y_x=1 denotes the counterfactual outcome of lip thickness when supply is set to x.\\n\\nStep 4) Collect all the available data: The available data are \"P(Y=1|X=0)=0.3862; P(Y=1|X=1)=0.7082\".\\n\\nStep 5) Solve for the estimand: Given all the information above, we can solve for the estimand using the basics of probabilities.\\n\\nSince we are interested in the counterfactual probability \"P(Y_x=1 | X=1)\", we can use the available data to calculate this probability. We know that P(Y=1|X=1) = 0.7082, which is the probability of thick lips when supply is increased. The question asks if it would be more likely to see thick lips if the item had a reduced supply, which is given by P(Y=1|X=0) = 0.3862.\\n\\nComparing the two probabilities, we can see that P(Y=1|X=1) > P(Y=1|X=0), which means that it is more likely to see thick lips when the supply is increased (70.82%) than when the supply is reduced (38.62%). Therefore, for individuals with increased supply, it would not be more likely to see thick lips if the item had a reduced supply.                                                                                                                                                                                                                               1\n",
       "Name: pred, Length: 606, dtype: int64"
      ]
     },
     "execution_count": 134,
     "metadata": {},
     "output_type": "execute_result"
    }
   ],
   "source": [
    "# Check if there are two identical entries in pred column\n",
    "overall_result_no_null[\"pred\"].value_counts()"
   ]
  },
  {
   "cell_type": "code",
   "execution_count": 135,
   "metadata": {},
   "outputs": [
    {
     "data": {
      "text/plain": [
       "Imagine a self-contained, hypothetical world with only the following conditions, and without any unmentioned factors or causal relationships: Rujx has a direct effect on snov. Nyrp has a direct effect on snov.  If we disregard the mediation effect through snov, would rujx still positively affect nyrp?\\n\\nHint: You can answer the question by following the subquestions below:\\n\\nStep 1) Extract the causal graph: What is the causal graph expressed in the context? Use \"X\" to denote \"rujx\". Use \"Y\" to denote \"nyrp\". Use \"V3\" to denote \"snov\". Answer nothing else but each edge one by one, in the format of \"var1 -> var2\", and use \",\" to separate the edges.\\n\\nStep 2) Identify the query type: What is the query type of the above question? Choose one from \"marginal probability\", \"conditional probability\", \"explaining away effect\", \"backdoor adjustment set\", \"average treatment effect\", \"collider bias\", \"normal counterfactual question\", \"average treatment effect on treated\", \"natural direct effect\", or \"natural indirect effect\". Answer nothing else but a quoted choice from above.\\n\\nStep 3) Translate the query to an estimand: Based on the type of the causal query, translate the question to a formal estimand. Use the \"do(·)\" notation or counterfactual notations whenever necessary.\\n\\nStep 4) Collect all the available data: Extract all available data. Answer nothing else but marginal probabilities and conditional probabilities, in the form of \"P(...)=...\" or \"P(...|...)=...\", and use \";\" to separate each of them. Use \"X\" to denote \"rujx\". Use \"Y\" to denote \"nyrp\". Use \"V3\" to denote \"snov\".\\n\\nStep 5) Solve for the estimand: Given all the information above, solve for the estimand mentioned before using causal inference skills such as do-calculus, counterfactual prediction, and the basics of probabilities. Answer step by step.                                                                                                                                                                                                                                                                                                                                                                                                                                                                                                                                                                                                                                                                                                                                                                                                                                                    2\n",
       "Imagine a self-contained, hypothetical world with only the following conditions, and without any unmentioned factors or causal relationships: Vyta has a direct effect on jyke and fyqi. Jyke has a direct effect on ovka. Fyqi has a direct effect on ovka.  Does jyke affect ovka through either of vyta, or fyqi?\\n\\nHint: You can answer the question by following the subquestions below:\\n\\nStep 1) Extract the causal graph: What is the causal graph expressed in the context? Use \"V1\" to denote \"vyta\". Use \"V3\" to denote \"fyqi\". Use \"X\" to denote \"jyke\". Use \"Y\" to denote \"ovka\". Answer nothing else but each edge one by one, in the format of \"var1 -> var2\", and use \",\" to separate the edges.\\n\\nStep 2) Identify the query type: What is the query type of the above question? Choose one from \"marginal probability\", \"conditional probability\", \"explaining away effect\", \"backdoor adjustment set\", \"average treatment effect\", \"collider bias\", \"normal counterfactual question\", \"average treatment effect on treated\", \"natural direct effect\", or \"natural indirect effect\". Answer nothing else but a quoted choice from above.\\n\\nStep 3) Translate the query to an estimand: Based on the type of the causal query, translate the question to a formal estimand. Use the \"do(·)\" notation or counterfactual notations whenever necessary.\\n\\nStep 4) Collect all the available data: Extract all available data. Answer nothing else but marginal probabilities and conditional probabilities, in the form of \"P(...)=...\" or \"P(...|...)=...\", and use \";\" to separate each of them. Use \"V1\" to denote \"vyta\". Use \"V3\" to denote \"fyqi\". Use \"X\" to denote \"jyke\". Use \"Y\" to denote \"ovka\".\\n\\nStep 5) Solve for the estimand: Given all the information above, solve for the estimand mentioned before using causal inference skills such as do-calculus, counterfactual prediction, and the basics of probabilities. Answer step by step.                                                                                                                                                                                                                                                                                                                                                                                                                                                                                                                                                                                                                                                                                                                                                                                        2\n",
       "Imagine a self-contained, hypothetical world with only the following conditions, and without any unmentioned factors or causal relationships: Rujz has a direct effect on kwox. Qwiu has a direct effect on kwox.  Will rujz increase the chance of qwiu?\\n\\nHint: You can answer the question by following the subquestions below:\\n\\nStep 1) Extract the causal graph: What is the causal graph expressed in the context? Use \"X\" to denote \"rujz\". Use \"Y\" to denote \"qwiu\". Use \"V3\" to denote \"kwox\". Answer nothing else but each edge one by one, in the format of \"var1 -> var2\", and use \",\" to separate the edges.\\n\\nStep 2) Identify the query type: What is the query type of the above question? Choose one from \"marginal probability\", \"conditional probability\", \"explaining away effect\", \"backdoor adjustment set\", \"average treatment effect\", \"collider bias\", \"normal counterfactual question\", \"average treatment effect on treated\", \"natural direct effect\", or \"natural indirect effect\". Answer nothing else but a quoted choice from above.\\n\\nStep 3) Translate the query to an estimand: Based on the type of the causal query, translate the question to a formal estimand. Use the \"do(·)\" notation or counterfactual notations whenever necessary.\\n\\nStep 4) Collect all the available data: Extract all available data. Answer nothing else but marginal probabilities and conditional probabilities, in the form of \"P(...)=...\" or \"P(...|...)=...\", and use \";\" to separate each of them. Use \"X\" to denote \"rujz\". Use \"Y\" to denote \"qwiu\". Use \"V3\" to denote \"kwox\".\\n\\nStep 5) Solve for the estimand: Given all the information above, solve for the estimand mentioned before using causal inference skills such as do-calculus, counterfactual prediction, and the basics of probabilities. Answer step by step.                                                                                                                                                                                                                                                                                                                                                                                                                                                                                                                                                                                                                                                                                                                                                                                                                                                                                                         2\n",
       "Imagine a self-contained, hypothetical world with only the following conditions, and without any unmentioned factors or causal relationships: Smoking gene has a direct effect on smoker status. Smoker status has a direct effect on lung cancer.  To understand how gene affects lung, should we look directly at how gene correlates with lung in general, or this correlation case by case according to gene, smoking status, lung? Use \"Yes\" to indicate the former, and \"No\" to indicate the latter.\\n\\nHint: You can answer the question by following the subquestions below:\\n\\nStep 1) Extract the causal graph: What is the causal graph expressed in the context? Use \"X\" to denote \"gene\". Use \"V2\" to denote \"smoking status\". Use \"Y\" to denote \"lung\". Answer nothing else but each edge one by one, in the format of \"var1 -> var2\", and use \",\" to separate the edges.\\n\\nStep 2) Identify the query type: What is the query type of the above question? Choose one from \"marginal probability\", \"conditional probability\", \"explaining away effect\", \"backdoor adjustment set\", \"average treatment effect\", \"collider bias\", \"normal counterfactual question\", \"average treatment effect on treated\", \"natural direct effect\", or \"natural indirect effect\". Answer nothing else but a quoted choice from above.\\n\\nStep 3) Translate the query to an estimand: Based on the type of the causal query, translate the question to a formal estimand. Use the \"do(·)\" notation or counterfactual notations whenever necessary.\\n\\nStep 4) Collect all the available data: Extract all available data. Answer nothing else but marginal probabilities and conditional probabilities, in the form of \"P(...)=...\" or \"P(...|...)=...\", and use \";\" to separate each of them. Use \"X\" to denote \"gene\". Use \"V2\" to denote \"smoking status\". Use \"Y\" to denote \"lung\".\\n\\nStep 5) Solve for the estimand: Given all the information above, solve for the estimand mentioned before using causal inference skills such as do-calculus, counterfactual prediction, and the basics of probabilities. Answer step by step.                                                                                                                                                                                                                                                                                                                                                                                                                                                                                                                                                                                                                                    2\n",
       "Imagine a self-contained, hypothetical world with only the following conditions, and without any unmentioned factors or causal relationships: Obesity has a direct effect on diabetes condition and nonsmoker. Diabetes condition has a direct effect on short lifespan. Nonsmoker has a direct effect on short lifespan.  If we disregard the mediation effect through diabetes condition, would obesity still positively affect short lifespan?\\n\\nHint: You can answer the question by following the subquestions below:\\n\\nStep 1) Extract the causal graph: What is the causal graph expressed in the context? Use \"X\" to denote \"obesity level\". Use \"V2\" to denote \"diabetes condition\". Use \"V3\" to denote \"smoking status\". Use \"Y\" to denote \"lifespan\". Answer nothing else but each edge one by one, in the format of \"var1 -> var2\", and use \",\" to separate the edges.\\n\\nStep 2) Identify the query type: What is the query type of the above question? Choose one from \"marginal probability\", \"conditional probability\", \"explaining away effect\", \"backdoor adjustment set\", \"average treatment effect\", \"collider bias\", \"normal counterfactual question\", \"average treatment effect on treated\", \"natural direct effect\", or \"natural indirect effect\". Answer nothing else but a quoted choice from above.\\n\\nStep 3) Translate the query to an estimand: Based on the type of the causal query, translate the question to a formal estimand. Use the \"do(·)\" notation or counterfactual notations whenever necessary.\\n\\nStep 4) Collect all the available data: Extract all available data. Answer nothing else but marginal probabilities and conditional probabilities, in the form of \"P(...)=...\" or \"P(...|...)=...\", and use \";\" to separate each of them. Use \"X\" to denote \"obesity level\". Use \"V2\" to denote \"diabetes condition\". Use \"V3\" to denote \"smoking status\". Use \"Y\" to denote \"lifespan\".\\n\\nStep 5) Solve for the estimand: Given all the information above, solve for the estimand mentioned before using causal inference skills such as do-calculus, counterfactual prediction, and the basics of probabilities. Answer step by step.                                                                                                                                                                                                                                                                                                                                                                                                                                                                                                                                                                                 2\n",
       "                                                                                                                                                                                                                                                                                                                                                                                                                                                                                                                                                                                                                                                                                                                                                                                                                                                                                                                                                                                                                                                                                                                                                                                                                                                                                                                                                                                                                                                                                                                                                                                                                                                                                                                                                                                                                                                                                                                                                                                                                                                                                                                                                                                                                                                                                                                                                                                                                                                                                                                                                                                                                                                                                                                                                                      ..\n",
       "Imagine a self-contained, hypothetical world with only the following conditions, and without any unmentioned factors or causal relationships: Smoking has a direct effect on having a high tar deposit and no widow's peak. Make has a direct effect on having a high tar deposit and no widow's peak. Having a high tar deposit has a direct effect on no widow's peak. For nonsmokers, the probability of no widow's peak is 71.68%. For smokers, the probability of no widow's peak is 56.47%. Is the chance of no widow's peak larger when observing smoking?\\n\\nHint: You can answer the question by following the subquestions below:\\n\\nStep 1) Extract the causal graph: What is the causal graph expressed in the context? Use \"X\" to denote \"smoking status\". Use \"V3\" to denote \"tar deposit\". Use \"V2\" to denote \"gender\". Use \"Y\" to denote \"presence of a widow's peak\". Answer nothing else but each edge one by one, in the format of \"var1 -> var2\", and use \",\" to separate the edges.\\n\\nStep 2) Identify the query type: What is the query type of the above question? Choose one from \"marginal probability\", \"conditional probability\", \"explaining away effect\", \"backdoor adjustment set\", \"average treatment effect\", \"collider bias\", \"normal counterfactual question\", \"average treatment effect on treated\", \"natural direct effect\", or \"natural indirect effect\". Answer nothing else but a quoted choice from above.\\n\\nStep 3) Translate the query to an estimand: Based on the type of the causal query, translate the question to a formal estimand. Use the \"do(·)\" notation or counterfactual notations whenever necessary.\\n\\nStep 4) Collect all the available data: Extract all available data. Answer nothing else but marginal probabilities and conditional probabilities, in the form of \"P(...)=...\" or \"P(...|...)=...\", and use \";\" to separate each of them. Use \"X\" to denote \"smoking status\". Use \"V3\" to denote \"tar deposit\". Use \"V2\" to denote \"gender\". Use \"Y\" to denote \"presence of a widow's peak\".\\n\\nStep 5) Solve for the estimand: Given all the information above, solve for the estimand mentioned before using causal inference skills such as do-calculus, counterfactual prediction, and the basics of probabilities. Answer step by step.                                                                                                                                                                                                                                                                                                                                                                                                                                                         1\n",
       "Imagine a self-contained, hypothetical world with only the following conditions, and without any unmentioned factors or causal relationships: Shoelace tying has a direct effect on smoker status. Smoker status has a direct effect on lung cancer. For people who are not tying their shoelaces, the probability of lung cancer is 45.03%. For people who are tying their shoelaces, the probability of lung cancer is 46.78%. Does shoelace tying affect lung through smoking status?\\n\\nHint: You can answer the question by following the subquestions below:\\n\\nStep 1) Extract the causal graph: What is the causal graph expressed in the context? Use \"X\" to denote \"shoelace tying\". Use \"V2\" to denote \"smoking status\". Use \"Y\" to denote \"lung\". Answer nothing else but each edge one by one, in the format of \"var1 -> var2\", and use \",\" to separate the edges.\\n\\nStep 2) Identify the query type: What is the query type of the above question? Choose one from \"marginal probability\", \"conditional probability\", \"explaining away effect\", \"backdoor adjustment set\", \"average treatment effect\", \"collider bias\", \"normal counterfactual question\", \"average treatment effect on treated\", \"natural direct effect\", or \"natural indirect effect\". Answer nothing else but a quoted choice from above.\\n\\nStep 3) Translate the query to an estimand: Based on the type of the causal query, translate the question to a formal estimand. Use the \"do(·)\" notation or counterfactual notations whenever necessary.\\n\\nStep 4) Collect all the available data: Extract all available data. Answer nothing else but marginal probabilities and conditional probabilities, in the form of \"P(...)=...\" or \"P(...|...)=...\", and use \";\" to separate each of them. Use \"X\" to denote \"shoelace tying\". Use \"V2\" to denote \"smoking status\". Use \"Y\" to denote \"lung\".\\n\\nStep 5) Solve for the estimand: Given all the information above, solve for the estimand mentioned before using causal inference skills such as do-calculus, counterfactual prediction, and the basics of probabilities. Answer step by step.                                                                                                                                                                                                                                                                                                                                                                                                                                                                                                                                                                                                                                  1\n",
       "Imagine a self-contained, hypothetical world with only the following conditions, and without any unmentioned factors or causal relationships: Hupx has a direct effect on fyze. Tijw has a direct effect on fyze.  Does hupx affect tijw through fyze?\\n\\nHint: You can answer the question by following the subquestions below:\\n\\nStep 1) Extract the causal graph: What is the causal graph expressed in the context? Use \"X\" to denote \"hupx\". Use \"Y\" to denote \"tijw\". Use \"V3\" to denote \"fyze\". Answer nothing else but each edge one by one, in the format of \"var1 -> var2\", and use \",\" to separate the edges.\\n\\nStep 2) Identify the query type: What is the query type of the above question? Choose one from \"marginal probability\", \"conditional probability\", \"explaining away effect\", \"backdoor adjustment set\", \"average treatment effect\", \"collider bias\", \"normal counterfactual question\", \"average treatment effect on treated\", \"natural direct effect\", or \"natural indirect effect\". Answer nothing else but a quoted choice from above.\\n\\nStep 3) Translate the query to an estimand: Based on the type of the causal query, translate the question to a formal estimand. Use the \"do(·)\" notation or counterfactual notations whenever necessary.\\n\\nStep 4) Collect all the available data: Extract all available data. Answer nothing else but marginal probabilities and conditional probabilities, in the form of \"P(...)=...\" or \"P(...|...)=...\", and use \";\" to separate each of them. Use \"X\" to denote \"hupx\". Use \"Y\" to denote \"tijw\". Use \"V3\" to denote \"fyze\".\\n\\nStep 5) Solve for the estimand: Given all the information above, solve for the estimand mentioned before using causal inference skills such as do-calculus, counterfactual prediction, and the basics of probabilities. Answer step by step.                                                                                                                                                                                                                                                                                                                                                                                                                                                                                                                                                                                                                                                                                                                                                                                                                                                                                                            1\n",
       "Imagine a self-contained, hypothetical world with only the following conditions, and without any unmentioned factors or causal relationships: Jyko has a direct effect on zory and uvzo. Zory has a direct effect on uvzo. For those who are not jyko, the probability of uvzo is 73.52%. For those who are jyko, the probability of uvzo is 58.68%. Is the chance of uvzo larger when observing jyko?\\n\\nHint: You can answer the question by following the subquestions below:\\n\\nStep 1) Extract the causal graph: What is the causal graph expressed in the context? Use \"X\" to denote \"jyko\". Use \"V2\" to denote \"zory\". Use \"Y\" to denote \"uvzo\". Answer nothing else but each edge one by one, in the format of \"var1 -> var2\", and use \",\" to separate the edges.\\n\\nStep 2) Identify the query type: What is the query type of the above question? Choose one from \"marginal probability\", \"conditional probability\", \"explaining away effect\", \"backdoor adjustment set\", \"average treatment effect\", \"collider bias\", \"normal counterfactual question\", \"average treatment effect on treated\", \"natural direct effect\", or \"natural indirect effect\". Answer nothing else but a quoted choice from above.\\n\\nStep 3) Translate the query to an estimand: Based on the type of the causal query, translate the question to a formal estimand. Use the \"do(·)\" notation or counterfactual notations whenever necessary.\\n\\nStep 4) Collect all the available data: Extract all available data. Answer nothing else but marginal probabilities and conditional probabilities, in the form of \"P(...)=...\" or \"P(...|...)=...\", and use \";\" to separate each of them. Use \"X\" to denote \"jyko\". Use \"V2\" to denote \"zory\". Use \"Y\" to denote \"uvzo\".\\n\\nStep 5) Solve for the estimand: Given all the information above, solve for the estimand mentioned before using causal inference skills such as do-calculus, counterfactual prediction, and the basics of probabilities. Answer step by step.                                                                                                                                                                                                                                                                                                                                                                                                                                                                                                                                                                                                                                                                                                                                                            1\n",
       "Imagine a self-contained, hypothetical world with only the following conditions, and without any unmentioned factors or causal relationships: Absence of smallpox has a direct effect on vaccination and severe vaccination reaction. Vaccination has a direct effect on smallpox survival. Severe vaccination reaction has a direct effect on smallpox survival. For individuals with smallpox and unvaccinated individuals, the probability of smallpox survival is 67.33%. For individuals with smallpox and vaccinated individuals, the probability of smallpox survival is 44.94%. For individuals without smallpox and unvaccinated individuals, the probability of smallpox survival is 69.00%. For individuals without smallpox and vaccinated individuals, the probability of smallpox survival is 36.52%. The overall probability of absence of smallpox is 30.00%. If we disregard the mediation effect through smallpox condtion, would vaccination still positively affect smallpox survival?\\n\\nHint: You can answer the question by following the subquestions below:\\n\\nStep 1) Extract the causal graph: What is the causal graph expressed in the context? Use \"V1\" to denote \"smallpox condtion\". Use \"V3\" to denote \"vaccination reaction\". Use \"X\" to denote \"vaccination status\". Use \"Y\" to denote \"a person\". Answer nothing else but each edge one by one, in the format of \"var1 -> var2\", and use \",\" to separate the edges.\\n\\nStep 2) Identify the query type: What is the query type of the above question? Choose one from \"marginal probability\", \"conditional probability\", \"explaining away effect\", \"backdoor adjustment set\", \"average treatment effect\", \"collider bias\", \"normal counterfactual question\", \"average treatment effect on treated\", \"natural direct effect\", or \"natural indirect effect\". Answer nothing else but a quoted choice from above.\\n\\nStep 3) Translate the query to an estimand: Based on the type of the causal query, translate the question to a formal estimand. Use the \"do(·)\" notation or counterfactual notations whenever necessary.\\n\\nStep 4) Collect all the available data: Extract all available data. Answer nothing else but marginal probabilities and conditional probabilities, in the form of \"P(...)=...\" or \"P(...|...)=...\", and use \";\" to separate each of them. Use \"V1\" to denote \"smallpox condtion\". Use \"V3\" to denote \"vaccination reaction\". Use \"X\" to denote \"vaccination status\". Use \"Y\" to denote \"a person\".\\n\\nStep 5) Solve for the estimand: Given all the information above, solve for the estimand mentioned before using causal inference skills such as do-calculus, counterfactual prediction, and the basics of probabilities. Answer step by step.    1\n",
       "Name: prompt, Length: 606, dtype: int64"
      ]
     },
     "execution_count": 135,
     "metadata": {},
     "output_type": "execute_result"
    }
   ],
   "source": [
    "# Check if there are two identical entries in prompt column\n",
    "overall_result_no_null[\"prompt\"].value_counts()"
   ]
  },
  {
   "attachments": {},
   "cell_type": "markdown",
   "metadata": {},
   "source": [
    "### With GT"
   ]
  },
  {
   "cell_type": "code",
   "execution_count": 56,
   "metadata": {},
   "outputs": [],
   "source": [
    "# Helper function to search a nested dictionary\n",
    "def search_nested_dict(nested_dict, target_key):\n",
    "    queue = [(nested_dict, key) for key in nested_dict]\n",
    "\n",
    "    while queue:\n",
    "        current_dict, key = queue.pop(0)\n",
    "\n",
    "        if key == target_key:\n",
    "            return current_dict[key]\n",
    "\n",
    "        if isinstance(current_dict[key], type({})):\n",
    "            for sub_key in current_dict[key]:\n",
    "                queue.append((current_dict[key], sub_key))\n",
    "    return None"
   ]
  },
  {
   "cell_type": "code",
   "execution_count": 115,
   "metadata": {},
   "outputs": [
    {
     "name": "stdout",
     "output_type": "stream",
     "text": [
      "Step 1) Extract the causal graph: The causal graph expressed in the context is: \"{graph}\".\n",
      "\n",
      "Step 2) Identify the query type: The query type of the above question is \"{query_type}\".\n",
      "\n",
      "Step 3) Translate the query to an estimand: Based on the type of the causal query, the question can be translated to a formal estimand as: \"{step1}\".\n",
      "\n",
      "Step 4) Collect all the available data: The available data are: \"{given_info_formal}\".\n",
      "\n",
      "Step 5) Solve for the estimand: To solve for the estimand, we need to compute {step1_format}.\n",
      "\n",
      "Using the causal graph, we can simplify the estimand to\n",
      "{step1}\n",
      "= {step2}\n",
      "\n",
      "Using the available data, we can calculate:\n",
      "{step2}\n",
      "= {step3}\n",
      "≈ {step4}\n",
      "\n",
      "Since the estimate for the estimand is {step4}, the overall answer to the question is \"{answer}\".\n",
      "\n",
      "\n",
      "\n"
     ]
    }
   ],
   "source": [
    "# Read txt file\n",
    "with open(\"raw_datasets/ground_truth_reasoning_template.txt\", \"r\", encoding='utf-8') as file:\n",
    "    reasoning_template = file.read()\n",
    "print(reasoning_template)"
   ]
  },
  {
   "cell_type": "code",
   "execution_count": 97,
   "metadata": {},
   "outputs": [
    {
     "data": {
      "text/plain": [
       "['graph',\n",
       " 'query_type',\n",
       " 'step1',\n",
       " \"'; '.join(given_info_formal)\",\n",
       " \"step1.replace(' - ', ' and ')\",\n",
       " 'step1',\n",
       " 'step2',\n",
       " 'step2',\n",
       " 'step3',\n",
       " 'step4',\n",
       " 'step4',\n",
       " 'answer']"
      ]
     },
     "execution_count": 97,
     "metadata": {},
     "output_type": "execute_result"
    }
   ],
   "source": [
    "# Get formatting keys of reasoning template\n",
    "reasoning_template_keys = re.findall(r\"\\{(.+?)\\}\", reasoning_template)\n",
    "reasoning_template_keys"
   ]
  },
  {
   "cell_type": "code",
   "execution_count": 65,
   "metadata": {},
   "outputs": [
    {
     "name": "stdout",
     "output_type": "stream",
     "text": [
      "<class 'list'>\n",
      "<class 'dict'>\n",
      "dict_keys(['ID', 'descriptive_id', 'sensical', 'story_id', 'background', 'given_info', 'question', 'variable_mapping', 'answer', 'meta', 'reasoning', 'given_info_formal', 'given_info_para'])\n"
     ]
    }
   ],
   "source": [
    "# Load the json file as a list of nested dictionary\n",
    "import json\n",
    "with open(\"raw_datasets/bern_cna_35.json\") as f:\n",
    "    nested_dicts = json.load(f)"
   ]
  },
  {
   "cell_type": "code",
   "execution_count": 85,
   "metadata": {},
   "outputs": [
    {
     "data": {
      "text/html": [
       "<div>\n",
       "<style scoped>\n",
       "    .dataframe tbody tr th:only-of-type {\n",
       "        vertical-align: middle;\n",
       "    }\n",
       "\n",
       "    .dataframe tbody tr th {\n",
       "        vertical-align: top;\n",
       "    }\n",
       "\n",
       "    .dataframe thead th {\n",
       "        text-align: right;\n",
       "    }\n",
       "</style>\n",
       "<table border=\"1\" class=\"dataframe\">\n",
       "  <thead>\n",
       "    <tr style=\"text-align: right;\">\n",
       "      <th></th>\n",
       "      <th>ID</th>\n",
       "      <th>query_type</th>\n",
       "      <th>graph</th>\n",
       "      <th>step0</th>\n",
       "      <th>step1</th>\n",
       "      <th>step2</th>\n",
       "      <th>step3</th>\n",
       "      <th>step4</th>\n",
       "      <th>answer</th>\n",
       "      <th>given_info_formal</th>\n",
       "    </tr>\n",
       "  </thead>\n",
       "  <tbody>\n",
       "    <tr>\n",
       "      <th>0</th>\n",
       "      <td>0</td>\n",
       "      <td>ate</td>\n",
       "      <td>V1-&gt;X,V1-&gt;Y,V2-&gt;X,X-&gt;Y</td>\n",
       "      <td>E[Y|do(X = 1)] − E[Y|do(X = 0)]</td>\n",
       "      <td>P(Y=1|do(X=1)) - P(Y=1|do(X=1))</td>\n",
       "      <td>[P(Y=1|V2=1)-P(Y=1|V2=0)]/[P(X=1|V2=1)-P(X=1|V...</td>\n",
       "      <td>[0.5671622485-0.6026637459]/[0.2-0.14]</td>\n",
       "      <td>-0.5917</td>\n",
       "      <td>no</td>\n",
       "      <td>[P(Y=1|V2=0)=0.6026637459, P(Y=1|V2=1)=0.56716...</td>\n",
       "    </tr>\n",
       "    <tr>\n",
       "      <th>1</th>\n",
       "      <td>1</td>\n",
       "      <td>ate</td>\n",
       "      <td>V1-&gt;X,V1-&gt;Y,V2-&gt;X,X-&gt;Y</td>\n",
       "      <td>E[Y|do(X = 1)] − E[Y|do(X = 0)]</td>\n",
       "      <td>P(Y=1|do(X=1)) - P(Y=1|do(X=1))</td>\n",
       "      <td>[P(Y=1|V2=1)-P(Y=1|V2=0)]/[P(X=1|V2=1)-P(X=1|V...</td>\n",
       "      <td>[0.39733441500000005-0.44394854770000003]/[0.9...</td>\n",
       "      <td>-0.1227</td>\n",
       "      <td>no</td>\n",
       "      <td>[P(Y=1|V2=0)=0.44394854770000003, P(Y=1|V2=1)=...</td>\n",
       "    </tr>\n",
       "    <tr>\n",
       "      <th>2</th>\n",
       "      <td>2</td>\n",
       "      <td>ate</td>\n",
       "      <td>V1-&gt;X,V1-&gt;Y,V2-&gt;X,X-&gt;Y</td>\n",
       "      <td>E[Y|do(X = 1)] − E[Y|do(X = 0)]</td>\n",
       "      <td>P(Y=1|do(X=1)) - P(Y=1|do(X=1))</td>\n",
       "      <td>[P(Y=1|V2=1)-P(Y=1|V2=0)]/[P(X=1|V2=1)-P(X=1|V...</td>\n",
       "      <td>[0.39733441500000005-0.44394854770000003]/[0.9...</td>\n",
       "      <td>-0.1227</td>\n",
       "      <td>no</td>\n",
       "      <td>[P(Y=1|V2=0)=0.44394854770000003, P(Y=1|V2=1)=...</td>\n",
       "    </tr>\n",
       "    <tr>\n",
       "      <th>3</th>\n",
       "      <td>3</td>\n",
       "      <td>ate</td>\n",
       "      <td>V1-&gt;X,V1-&gt;Y,V2-&gt;X,X-&gt;Y</td>\n",
       "      <td>E[Y|do(X = 1)] − E[Y|do(X = 0)]</td>\n",
       "      <td>P(Y=1|do(X=1)) - P(Y=1|do(X=1))</td>\n",
       "      <td>[P(Y=1|V2=1)-P(Y=1|V2=0)]/[P(X=1|V2=1)-P(X=1|V...</td>\n",
       "      <td>[0.2000484216-0.3129399888]/[0.8-0.5]</td>\n",
       "      <td>-0.3763</td>\n",
       "      <td>no</td>\n",
       "      <td>[P(Y=1|V2=0)=0.3129399888, P(Y=1|V2=1)=0.20004...</td>\n",
       "    </tr>\n",
       "    <tr>\n",
       "      <th>4</th>\n",
       "      <td>4</td>\n",
       "      <td>ate</td>\n",
       "      <td>V1-&gt;X,V1-&gt;Y,V2-&gt;X,X-&gt;Y</td>\n",
       "      <td>E[Y|do(X = 1)] − E[Y|do(X = 0)]</td>\n",
       "      <td>P(Y=1|do(X=1)) - P(Y=1|do(X=1))</td>\n",
       "      <td>[P(Y=1|V2=1)-P(Y=1|V2=0)]/[P(X=1|V2=1)-P(X=1|V...</td>\n",
       "      <td>[0.5671622485-0.6026637459]/[0.2-0.14]</td>\n",
       "      <td>-0.5917</td>\n",
       "      <td>no</td>\n",
       "      <td>[P(Y=1|V2=0)=0.6026637459, P(Y=1|V2=1)=0.56716...</td>\n",
       "    </tr>\n",
       "  </tbody>\n",
       "</table>\n",
       "</div>"
      ],
      "text/plain": [
       "   ID query_type                   graph                            step0  \\\n",
       "0   0        ate  V1->X,V1->Y,V2->X,X->Y  E[Y|do(X = 1)] − E[Y|do(X = 0)]   \n",
       "1   1        ate  V1->X,V1->Y,V2->X,X->Y  E[Y|do(X = 1)] − E[Y|do(X = 0)]   \n",
       "2   2        ate  V1->X,V1->Y,V2->X,X->Y  E[Y|do(X = 1)] − E[Y|do(X = 0)]   \n",
       "3   3        ate  V1->X,V1->Y,V2->X,X->Y  E[Y|do(X = 1)] − E[Y|do(X = 0)]   \n",
       "4   4        ate  V1->X,V1->Y,V2->X,X->Y  E[Y|do(X = 1)] − E[Y|do(X = 0)]   \n",
       "\n",
       "                              step1  \\\n",
       "0  P(Y=1|do(X=1)) - P(Y=1|do(X=1))    \n",
       "1  P(Y=1|do(X=1)) - P(Y=1|do(X=1))    \n",
       "2  P(Y=1|do(X=1)) - P(Y=1|do(X=1))    \n",
       "3  P(Y=1|do(X=1)) - P(Y=1|do(X=1))    \n",
       "4  P(Y=1|do(X=1)) - P(Y=1|do(X=1))    \n",
       "\n",
       "                                               step2  \\\n",
       "0  [P(Y=1|V2=1)-P(Y=1|V2=0)]/[P(X=1|V2=1)-P(X=1|V...   \n",
       "1  [P(Y=1|V2=1)-P(Y=1|V2=0)]/[P(X=1|V2=1)-P(X=1|V...   \n",
       "2  [P(Y=1|V2=1)-P(Y=1|V2=0)]/[P(X=1|V2=1)-P(X=1|V...   \n",
       "3  [P(Y=1|V2=1)-P(Y=1|V2=0)]/[P(X=1|V2=1)-P(X=1|V...   \n",
       "4  [P(Y=1|V2=1)-P(Y=1|V2=0)]/[P(X=1|V2=1)-P(X=1|V...   \n",
       "\n",
       "                                               step3   step4 answer  \\\n",
       "0             [0.5671622485-0.6026637459]/[0.2-0.14] -0.5917     no   \n",
       "1  [0.39733441500000005-0.44394854770000003]/[0.9... -0.1227     no   \n",
       "2  [0.39733441500000005-0.44394854770000003]/[0.9... -0.1227     no   \n",
       "3              [0.2000484216-0.3129399888]/[0.8-0.5] -0.3763     no   \n",
       "4             [0.5671622485-0.6026637459]/[0.2-0.14] -0.5917     no   \n",
       "\n",
       "                                   given_info_formal  \n",
       "0  [P(Y=1|V2=0)=0.6026637459, P(Y=1|V2=1)=0.56716...  \n",
       "1  [P(Y=1|V2=0)=0.44394854770000003, P(Y=1|V2=1)=...  \n",
       "2  [P(Y=1|V2=0)=0.44394854770000003, P(Y=1|V2=1)=...  \n",
       "3  [P(Y=1|V2=0)=0.3129399888, P(Y=1|V2=1)=0.20004...  \n",
       "4  [P(Y=1|V2=0)=0.6026637459, P(Y=1|V2=1)=0.56716...  "
      ]
     },
     "execution_count": 85,
     "metadata": {},
     "output_type": "execute_result"
    }
   ],
   "source": [
    "# Create df with ID comlumn of same lenght as nested_dict\n",
    "df = pd.DataFrame({\"ID\": [i for i in range(len(nested_dict))]})\n",
    "# Extract query_type, graph, step0, step1, step2, step3, step4, answer, given_info_formal, from nested_dict and add them to df\n",
    "df[\"query_type\"] = df[\"ID\"].apply(lambda x: search_nested_dict(nested_dict[x], \"query_type\"))\n",
    "df[\"graph\"] = df[\"ID\"].apply(lambda x: search_nested_dict(nested_dict[x], \"graph\"))\n",
    "df[\"step0\"] = df[\"ID\"].apply(lambda x: search_nested_dict(nested_dict[x], \"step0\")) \n",
    "df[\"step1\"] = df[\"ID\"].apply(lambda x: search_nested_dict(nested_dict[x], \"step1\"))\n",
    "df[\"step2\"] = df[\"ID\"].apply(lambda x: search_nested_dict(nested_dict[x], \"step2\"))\n",
    "df[\"step3\"] = df[\"ID\"].apply(lambda x: search_nested_dict(nested_dict[x], \"step3\"))\n",
    "df[\"step4\"] = df[\"ID\"].apply(lambda x: search_nested_dict(nested_dict[x], \"step4\"))\n",
    "df[\"answer\"] = df[\"ID\"].apply(lambda x: search_nested_dict(nested_dict[x], \"answer\"))\n",
    "df[\"given_info_formal\"] = df[\"ID\"].apply(lambda x: search_nested_dict(nested_dict[x], \"given_info_formal\"))\n",
    "df.head()"
   ]
  },
  {
   "cell_type": "code",
   "execution_count": 86,
   "metadata": {},
   "outputs": [
    {
     "name": "stdout",
     "output_type": "stream",
     "text": [
      "10686\n",
      "5817\n"
     ]
    }
   ],
   "source": [
    "# Drop rows with null values in step0, step1, step2, step3, step4\n",
    "print(len(df))\n",
    "df = df.dropna(subset=[\"step0\", \"step1\", \"step2\", \"step3\", \"step4\"])\n",
    "print(len(df))"
   ]
  },
  {
   "cell_type": "code",
   "execution_count": 119,
   "metadata": {},
   "outputs": [
    {
     "name": "stdout",
     "output_type": "stream",
     "text": [
      "{'ID': 0, 'gt_reasoning': 'Step 1) Extract the causal graph: The causal graph expressed in the context is: \"V1->X,V1->Y,V2->X,X->Y\".\\n\\nStep 2) Identify the query type: The query type of the above question is \"ate\".\\n\\nStep 3) Translate the query to an estimand: Based on the type of the causal query, the question can be translated to a formal estimand as: \"P(Y=1|do(X=1)) - P(Y=1|do(X=1)) \".\\n\\nStep 4) Collect all the available data: The available data are: \"P(Y=1|V2=0)=0.6026637459; P(Y=1|V2=1)=0.5671622485; P(X=1|V2=0)=0.14; P(X=1|V2=1)=0.2\".\\n\\nStep 5) Solve for the estimand: To solve for the estimand, we need to compute P(Y=1|do(X=1)) and P(Y=1|do(X=1)) .\\n\\nUsing the causal graph, we can simplify the estimand to\\nP(Y=1|do(X=1)) - P(Y=1|do(X=1)) \\n= [P(Y=1|V2=1)-P(Y=1|V2=0)]/[P(X=1|V2=1)-P(X=1|V2=0)]\\n\\nUsing the available data, we can calculate:\\n[P(Y=1|V2=1)-P(Y=1|V2=0)]/[P(X=1|V2=1)-P(X=1|V2=0)]\\n= [0.5671622485-0.6026637459]/[0.2-0.14]\\n≈ -0.5917\\n\\nSince the estimate for the estimand is -0.5917, the overall answer to the question is \"no\".\\n\\n\\n'}\n"
     ]
    }
   ],
   "source": [
    "# Fill the reasoning_template with values from the dataframe\n",
    "gt_reasonings = []\n",
    "for index, row in df.iterrows():\n",
    "    # Join the elements in the 'given_info_formal' column into a string\n",
    "    given_info_formal_string = '; '.join(row['given_info_formal'])\n",
    "\n",
    "    # Replace ' - ' with ' and ' in 'step1'\n",
    "    step1_replaced = row['step1'].replace(' - ', ' and ')\n",
    "\n",
    "    # Create a dictionary from the row\n",
    "    row_dict = row.to_dict()\n",
    "\n",
    "    # Replace the 'given_info_formal' with the joined string\n",
    "    row_dict['given_info_formal'] = given_info_formal_string\n",
    "\n",
    "    # Replace the 'step1' with the replaced string\n",
    "    row_dict['step1_format'] = step1_replaced\n",
    "\n",
    "    # Now, format the template\n",
    "    reasoning_template_filled = reasoning_template.format(**row_dict)\n",
    "    # make dict of ID and reasoning_template_filled\n",
    "    gt_reasonings.append({\"ID\": row_dict[\"ID\"], \"gt_reasoning\": reasoning_template_filled})\n",
    "print(gt_reasonings[0])"
   ]
  },
  {
   "cell_type": "code",
   "execution_count": 123,
   "metadata": {},
   "outputs": [],
   "source": [
    "# Save the gt_reasonings as a jsonl file\n",
    "with open(\"raw_datasets/id2truth_reasoning.jsonl\", \"w\") as f:\n",
    "    for item in gt_reasonings:\n",
    "        f.write(json.dumps(item) + \"\\n\")\n",
    "\n"
   ]
  },
  {
   "cell_type": "code",
   "execution_count": 124,
   "metadata": {},
   "outputs": [
    {
     "data": {
      "text/html": [
       "<div>\n",
       "<style scoped>\n",
       "    .dataframe tbody tr th:only-of-type {\n",
       "        vertical-align: middle;\n",
       "    }\n",
       "\n",
       "    .dataframe tbody tr th {\n",
       "        vertical-align: top;\n",
       "    }\n",
       "\n",
       "    .dataframe thead th {\n",
       "        text-align: right;\n",
       "    }\n",
       "</style>\n",
       "<table border=\"1\" class=\"dataframe\">\n",
       "  <thead>\n",
       "    <tr style=\"text-align: right;\">\n",
       "      <th></th>\n",
       "      <th>ID</th>\n",
       "      <th>gt_reasoning</th>\n",
       "    </tr>\n",
       "  </thead>\n",
       "  <tbody>\n",
       "    <tr>\n",
       "      <th>0</th>\n",
       "      <td>0</td>\n",
       "      <td>Step 1) Extract the causal graph: The causal g...</td>\n",
       "    </tr>\n",
       "    <tr>\n",
       "      <th>1</th>\n",
       "      <td>1</td>\n",
       "      <td>Step 1) Extract the causal graph: The causal g...</td>\n",
       "    </tr>\n",
       "    <tr>\n",
       "      <th>2</th>\n",
       "      <td>2</td>\n",
       "      <td>Step 1) Extract the causal graph: The causal g...</td>\n",
       "    </tr>\n",
       "    <tr>\n",
       "      <th>3</th>\n",
       "      <td>3</td>\n",
       "      <td>Step 1) Extract the causal graph: The causal g...</td>\n",
       "    </tr>\n",
       "    <tr>\n",
       "      <th>4</th>\n",
       "      <td>4</td>\n",
       "      <td>Step 1) Extract the causal graph: The causal g...</td>\n",
       "    </tr>\n",
       "  </tbody>\n",
       "</table>\n",
       "</div>"
      ],
      "text/plain": [
       "   ID                                       gt_reasoning\n",
       "0   0  Step 1) Extract the causal graph: The causal g...\n",
       "1   1  Step 1) Extract the causal graph: The causal g...\n",
       "2   2  Step 1) Extract the causal graph: The causal g...\n",
       "3   3  Step 1) Extract the causal graph: The causal g...\n",
       "4   4  Step 1) Extract the causal graph: The causal g..."
      ]
     },
     "execution_count": 124,
     "metadata": {},
     "output_type": "execute_result"
    }
   ],
   "source": [
    "# Read the jsonl as a pandas dataframe\n",
    "gt_reasonings_df = pd.read_json(\"raw_datasets/id2truth_reasoning.jsonl\", lines=True)\n",
    "gt_reasonings_df.head()"
   ]
  },
  {
   "cell_type": "code",
   "execution_count": 136,
   "metadata": {},
   "outputs": [
    {
     "data": {
      "text/html": [
       "<div>\n",
       "<style scoped>\n",
       "    .dataframe tbody tr th:only-of-type {\n",
       "        vertical-align: middle;\n",
       "    }\n",
       "\n",
       "    .dataframe tbody tr th {\n",
       "        vertical-align: top;\n",
       "    }\n",
       "\n",
       "    .dataframe thead th {\n",
       "        text-align: right;\n",
       "    }\n",
       "</style>\n",
       "<table border=\"1\" class=\"dataframe\">\n",
       "  <thead>\n",
       "    <tr style=\"text-align: right;\">\n",
       "      <th></th>\n",
       "      <th>ID</th>\n",
       "      <th>prompt</th>\n",
       "      <th>pred</th>\n",
       "      <th>gt_reasoning</th>\n",
       "    </tr>\n",
       "  </thead>\n",
       "  <tbody>\n",
       "    <tr>\n",
       "      <th>0</th>\n",
       "      <td>4669</td>\n",
       "      <td>Imagine a self-contained, hypothetical world w...</td>\n",
       "      <td>Step 1) Extract the causal graph: The causal g...</td>\n",
       "      <td>Step 1) Extract the causal graph: The causal g...</td>\n",
       "    </tr>\n",
       "    <tr>\n",
       "      <th>1</th>\n",
       "      <td>1597</td>\n",
       "      <td>Imagine a self-contained, hypothetical world w...</td>\n",
       "      <td>Step 1) Extract the causal graph: The causal g...</td>\n",
       "      <td>Step 1) Extract the causal graph: The causal g...</td>\n",
       "    </tr>\n",
       "    <tr>\n",
       "      <th>2</th>\n",
       "      <td>2995</td>\n",
       "      <td>Imagine a self-contained, hypothetical world w...</td>\n",
       "      <td>Step 1) Extract the causal graph: The causal g...</td>\n",
       "      <td>Step 1) Extract the causal graph: The causal g...</td>\n",
       "    </tr>\n",
       "    <tr>\n",
       "      <th>3</th>\n",
       "      <td>9475</td>\n",
       "      <td>Imagine a self-contained, hypothetical world w...</td>\n",
       "      <td>Step 1) Extract the causal graph: The causal g...</td>\n",
       "      <td>Step 1) Extract the causal graph: The causal g...</td>\n",
       "    </tr>\n",
       "    <tr>\n",
       "      <th>4</th>\n",
       "      <td>6328</td>\n",
       "      <td>Imagine a self-contained, hypothetical world w...</td>\n",
       "      <td>Step 1) Extract the causal graph: The causal g...</td>\n",
       "      <td>Step 1) Extract the causal graph: The causal g...</td>\n",
       "    </tr>\n",
       "  </tbody>\n",
       "</table>\n",
       "</div>"
      ],
      "text/plain": [
       "     ID                                             prompt  \\\n",
       "0  4669  Imagine a self-contained, hypothetical world w...   \n",
       "1  1597  Imagine a self-contained, hypothetical world w...   \n",
       "2  2995  Imagine a self-contained, hypothetical world w...   \n",
       "3  9475  Imagine a self-contained, hypothetical world w...   \n",
       "4  6328  Imagine a self-contained, hypothetical world w...   \n",
       "\n",
       "                                                pred  \\\n",
       "0  Step 1) Extract the causal graph: The causal g...   \n",
       "1  Step 1) Extract the causal graph: The causal g...   \n",
       "2  Step 1) Extract the causal graph: The causal g...   \n",
       "3  Step 1) Extract the causal graph: The causal g...   \n",
       "4  Step 1) Extract the causal graph: The causal g...   \n",
       "\n",
       "                                        gt_reasoning  \n",
       "0  Step 1) Extract the causal graph: The causal g...  \n",
       "1  Step 1) Extract the causal graph: The causal g...  \n",
       "2  Step 1) Extract the causal graph: The causal g...  \n",
       "3  Step 1) Extract the causal graph: The causal g...  \n",
       "4  Step 1) Extract the causal graph: The causal g...  "
      ]
     },
     "execution_count": 136,
     "metadata": {},
     "output_type": "execute_result"
    }
   ],
   "source": [
    "# Merge overall_result_no_null and gt_reasonings_df on ID\n",
    "overall_result_gt = overall_result_no_null.merge(gt_reasonings_df, on=\"ID\")\n",
    "overall_result_gt.head()"
   ]
  },
  {
   "cell_type": "code",
   "execution_count": 139,
   "metadata": {},
   "outputs": [
    {
     "data": {
      "text/plain": [
       "ID              0\n",
       "prompt          0\n",
       "pred            0\n",
       "gt_reasoning    0\n",
       "dtype: int64"
      ]
     },
     "execution_count": 139,
     "metadata": {},
     "output_type": "execute_result"
    }
   ],
   "source": [
    "# Check if there are empty entries in any column\n",
    "overall_result_gt.isnull().sum()"
   ]
  },
  {
   "attachments": {},
   "cell_type": "markdown",
   "metadata": {},
   "source": [
    "## Formatting for ROSCOE"
   ]
  },
  {
   "cell_type": "code",
   "execution_count": 24,
   "metadata": {},
   "outputs": [],
   "source": [
    "def prepare_json_for_roscoe(\n",
    "    df: pd.DataFrame,\n",
    "    prompt_column: str,\n",
    "    gpt_column: str,\n",
    "    out_name: str,\n",
    "    gt_column: Union[str, None] = None,\n",
    "    id_column: Union[str, None] = None,\n",
    ") -> None:\n",
    "    df_out = df[[prompt_column, gpt_column]]\n",
    "    df_out.rename(columns={gpt_column: \"gpt-3\", prompt_column: \"premise\"}, inplace=True)\n",
    "    # As strange as it sounds, hypotesis column is used for ground truth, left empty otherwise\n",
    "    if gt_column is not None:\n",
    "        df_out[\"hypothesis\"] = (\n",
    "            \"IGNORE THIS. Ground truth here for reference. \" + df[gt_column]\n",
    "        )\n",
    "    else:\n",
    "        df_out[\"hypothesis\"] = \" \"\n",
    "    if id_column is not None:\n",
    "        df_out[\"ID\"] = df[id_column]\n",
    "\n",
    "    df_out.to_json(\"datasets/\" + out_name + \".jsonl\", orient=\"records\", lines=True)\n",
    "    return None"
   ]
  },
  {
   "cell_type": "code",
   "execution_count": 25,
   "metadata": {},
   "outputs": [],
   "source": [
    "prepare_json_for_roscoe(\n",
    "    overall_result_no_null, \"prompt\", \"pred\", \"cb1\", gt_column=None, id_column=\"ID\"\n",
    ")"
   ]
  },
  {
   "cell_type": "code",
   "execution_count": null,
   "metadata": {},
   "outputs": [],
   "source": []
  },
  {
   "attachments": {},
   "cell_type": "markdown",
   "metadata": {},
   "source": []
  },
  {
   "attachments": {},
   "cell_type": "markdown",
   "metadata": {},
   "source": [
    "## Run ROSCOE"
   ]
  },
  {
   "attachments": {},
   "cell_type": "markdown",
   "metadata": {},
   "source": [
    "```python\n",
    "python projects/roscoe/roscoe.py -t sim_sce -m facebook/roscoe-512-roberta-base --dataset-path ../CausalLLMs/roscoe_exp/datasets --datasets cb1\n",
    "```"
   ]
  },
  {
   "cell_type": "code",
   "execution_count": null,
   "metadata": {},
   "outputs": [],
   "source": []
  }
 ],
 "metadata": {
  "kernelspec": {
   "display_name": "roscoe",
   "language": "python",
   "name": "python3"
  },
  "language_info": {
   "codemirror_mode": {
    "name": "ipython",
    "version": 3
   },
   "file_extension": ".py",
   "mimetype": "text/x-python",
   "name": "python",
   "nbconvert_exporter": "python",
   "pygments_lexer": "ipython3",
   "version": "3.8.8"
  },
  "orig_nbformat": 4
 },
 "nbformat": 4,
 "nbformat_minor": 2
}
