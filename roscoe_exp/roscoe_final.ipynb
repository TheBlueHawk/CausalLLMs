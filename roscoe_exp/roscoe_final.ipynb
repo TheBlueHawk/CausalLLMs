{
 "cells": [
  {
   "attachments": {},
   "cell_type": "markdown",
   "metadata": {},
   "source": [
    "# Final ROSCOE scoring of CausalBench"
   ]
  },
  {
   "attachments": {},
   "cell_type": "markdown",
   "metadata": {},
   "source": [
    "## Merging datasets"
   ]
  },
  {
   "cell_type": "code",
   "execution_count": 11,
   "metadata": {},
   "outputs": [],
   "source": [
    "# common imports\n",
    "import numpy as np\n",
    "import pandas as pd\n",
    "import matplotlib.pyplot as plt\n",
    "import os\n",
    "import sys\n",
    "import re\n",
    "from typing import Union, List, Tuple, Dict, Any, Optional"
   ]
  },
  {
   "cell_type": "code",
   "execution_count": 12,
   "metadata": {},
   "outputs": [
    {
     "data": {
      "text/html": [
       "<div>\n",
       "<style scoped>\n",
       "    .dataframe tbody tr th:only-of-type {\n",
       "        vertical-align: middle;\n",
       "    }\n",
       "\n",
       "    .dataframe tbody tr th {\n",
       "        vertical-align: top;\n",
       "    }\n",
       "\n",
       "    .dataframe thead th {\n",
       "        text-align: right;\n",
       "    }\n",
       "</style>\n",
       "<table border=\"1\" class=\"dataframe\">\n",
       "  <thead>\n",
       "    <tr style=\"text-align: right;\">\n",
       "      <th></th>\n",
       "      <th>ID</th>\n",
       "      <th>descriptive_id</th>\n",
       "      <th>sensical</th>\n",
       "      <th>query_type</th>\n",
       "      <th>rung</th>\n",
       "      <th>phenomenon</th>\n",
       "      <th>simpson</th>\n",
       "      <th>truth</th>\n",
       "      <th>prompt</th>\n",
       "      <th>truth_norm</th>\n",
       "      <th>pred</th>\n",
       "    </tr>\n",
       "  </thead>\n",
       "  <tbody>\n",
       "    <tr>\n",
       "      <th>0</th>\n",
       "      <td>4669</td>\n",
       "      <td>confounding_a_ett_gender_pay</td>\n",
       "      <td>-1</td>\n",
       "      <td>ett</td>\n",
       "      <td>3</td>\n",
       "      <td>confounding</td>\n",
       "      <td>False</td>\n",
       "      <td>yes</td>\n",
       "      <td>Imagine a self-contained, hypothetical world w...</td>\n",
       "      <td>1</td>\n",
       "      <td>No</td>\n",
       "    </tr>\n",
       "    <tr>\n",
       "      <th>1</th>\n",
       "      <td>4046</td>\n",
       "      <td>collision_n_nie_nonsense0</td>\n",
       "      <td>0</td>\n",
       "      <td>nie</td>\n",
       "      <td>3</td>\n",
       "      <td>collision</td>\n",
       "      <td>False</td>\n",
       "      <td>no</td>\n",
       "      <td>Imagine a self-contained, hypothetical world w...</td>\n",
       "      <td>0</td>\n",
       "      <td>No</td>\n",
       "    </tr>\n",
       "    <tr>\n",
       "      <th>2</th>\n",
       "      <td>1597</td>\n",
       "      <td>arrowhead_c_ett_floor_wet</td>\n",
       "      <td>1</td>\n",
       "      <td>ett</td>\n",
       "      <td>3</td>\n",
       "      <td>arrowhead</td>\n",
       "      <td>False</td>\n",
       "      <td>yes</td>\n",
       "      <td>Imagine a self-contained, hypothetical world w...</td>\n",
       "      <td>1</td>\n",
       "      <td>Yes</td>\n",
       "    </tr>\n",
       "    <tr>\n",
       "      <th>3</th>\n",
       "      <td>2995</td>\n",
       "      <td>chain_a_nie_smoking_gene_cancer</td>\n",
       "      <td>-1</td>\n",
       "      <td>nie</td>\n",
       "      <td>3</td>\n",
       "      <td>chain</td>\n",
       "      <td>False</td>\n",
       "      <td>yes</td>\n",
       "      <td>Imagine a self-contained, hypothetical world w...</td>\n",
       "      <td>1</td>\n",
       "      <td>No</td>\n",
       "    </tr>\n",
       "    <tr>\n",
       "      <th>4</th>\n",
       "      <td>9475</td>\n",
       "      <td>nondet-diamondcut_c_nde_smoking_frontdoor</td>\n",
       "      <td>1</td>\n",
       "      <td>nde</td>\n",
       "      <td>3</td>\n",
       "      <td>nondet-diamondcut</td>\n",
       "      <td>False</td>\n",
       "      <td>yes</td>\n",
       "      <td>Imagine a self-contained, hypothetical world w...</td>\n",
       "      <td>1</td>\n",
       "      <td>Yes</td>\n",
       "    </tr>\n",
       "  </tbody>\n",
       "</table>\n",
       "</div>"
      ],
      "text/plain": [
       "     ID                             descriptive_id  sensical query_type  rung  \\\n",
       "0  4669               confounding_a_ett_gender_pay        -1        ett     3   \n",
       "1  4046                  collision_n_nie_nonsense0         0        nie     3   \n",
       "2  1597                  arrowhead_c_ett_floor_wet         1        ett     3   \n",
       "3  2995            chain_a_nie_smoking_gene_cancer        -1        nie     3   \n",
       "4  9475  nondet-diamondcut_c_nde_smoking_frontdoor         1        nde     3   \n",
       "\n",
       "          phenomenon  simpson truth  \\\n",
       "0        confounding    False   yes   \n",
       "1          collision    False    no   \n",
       "2          arrowhead    False   yes   \n",
       "3              chain    False   yes   \n",
       "4  nondet-diamondcut    False   yes   \n",
       "\n",
       "                                              prompt  truth_norm pred  \n",
       "0  Imagine a self-contained, hypothetical world w...           1   No  \n",
       "1  Imagine a self-contained, hypothetical world w...           0   No  \n",
       "2  Imagine a self-contained, hypothetical world w...           1  Yes  \n",
       "3  Imagine a self-contained, hypothetical world w...           1   No  \n",
       "4  Imagine a self-contained, hypothetical world w...           1  Yes  "
      ]
     },
     "execution_count": 12,
     "metadata": {},
     "output_type": "execute_result"
    }
   ],
   "source": [
    "# read two cvs files\n",
    "overall_result = pd.read_csv('raw_datasets/bern_cna_35_gpt4cot.csv')\n",
    "overall_result.head()\n"
   ]
  },
  {
   "cell_type": "code",
   "execution_count": 13,
   "metadata": {},
   "outputs": [
    {
     "data": {
      "text/html": [
       "<div>\n",
       "<style scoped>\n",
       "    .dataframe tbody tr th:only-of-type {\n",
       "        vertical-align: middle;\n",
       "    }\n",
       "\n",
       "    .dataframe tbody tr th {\n",
       "        vertical-align: top;\n",
       "    }\n",
       "\n",
       "    .dataframe thead th {\n",
       "        text-align: right;\n",
       "    }\n",
       "</style>\n",
       "<table border=\"1\" class=\"dataframe\">\n",
       "  <thead>\n",
       "    <tr style=\"text-align: right;\">\n",
       "      <th></th>\n",
       "      <th>ID</th>\n",
       "      <th>prompt</th>\n",
       "    </tr>\n",
       "  </thead>\n",
       "  <tbody>\n",
       "    <tr>\n",
       "      <th>0</th>\n",
       "      <td>4669</td>\n",
       "      <td>Imagine a self-contained, hypothetical world w...</td>\n",
       "    </tr>\n",
       "    <tr>\n",
       "      <th>1</th>\n",
       "      <td>4046</td>\n",
       "      <td>Imagine a self-contained, hypothetical world w...</td>\n",
       "    </tr>\n",
       "    <tr>\n",
       "      <th>2</th>\n",
       "      <td>1597</td>\n",
       "      <td>Imagine a self-contained, hypothetical world w...</td>\n",
       "    </tr>\n",
       "    <tr>\n",
       "      <th>3</th>\n",
       "      <td>2995</td>\n",
       "      <td>Imagine a self-contained, hypothetical world w...</td>\n",
       "    </tr>\n",
       "    <tr>\n",
       "      <th>4</th>\n",
       "      <td>9475</td>\n",
       "      <td>Imagine a self-contained, hypothetical world w...</td>\n",
       "    </tr>\n",
       "  </tbody>\n",
       "</table>\n",
       "</div>"
      ],
      "text/plain": [
       "     ID                                             prompt\n",
       "0  4669  Imagine a self-contained, hypothetical world w...\n",
       "1  4046  Imagine a self-contained, hypothetical world w...\n",
       "2  1597  Imagine a self-contained, hypothetical world w...\n",
       "3  2995  Imagine a self-contained, hypothetical world w...\n",
       "4  9475  Imagine a self-contained, hypothetical world w..."
      ]
     },
     "execution_count": 13,
     "metadata": {},
     "output_type": "execute_result"
    }
   ],
   "source": [
    "# keep just ID and prompt columns\n",
    "overall_result = overall_result[['ID', 'prompt']]\n",
    "overall_result.head()"
   ]
  },
  {
   "cell_type": "code",
   "execution_count": 14,
   "metadata": {},
   "outputs": [
    {
     "data": {
      "text/html": [
       "<div>\n",
       "<style scoped>\n",
       "    .dataframe tbody tr th:only-of-type {\n",
       "        vertical-align: middle;\n",
       "    }\n",
       "\n",
       "    .dataframe tbody tr th {\n",
       "        vertical-align: top;\n",
       "    }\n",
       "\n",
       "    .dataframe thead th {\n",
       "        text-align: right;\n",
       "    }\n",
       "</style>\n",
       "<table border=\"1\" class=\"dataframe\">\n",
       "  <thead>\n",
       "    <tr style=\"text-align: right;\">\n",
       "      <th></th>\n",
       "      <th>pred</th>\n",
       "      <th>query</th>\n",
       "    </tr>\n",
       "  </thead>\n",
       "  <tbody>\n",
       "    <tr>\n",
       "      <th>0</th>\n",
       "      <td>No, the prisoner being alive cannot be guarant...</td>\n",
       "      <td>We know that captain commands causes rifleman1...</td>\n",
       "    </tr>\n",
       "    <tr>\n",
       "      <th>1</th>\n",
       "      <td>pred</td>\n",
       "      <td>query</td>\n",
       "    </tr>\n",
       "    <tr>\n",
       "      <th>2</th>\n",
       "      <td>No, we cannot definitively conclude that the s...</td>\n",
       "      <td>principal's direction makes teacher1 and teach...</td>\n",
       "    </tr>\n",
       "    <tr>\n",
       "      <th>3</th>\n",
       "      <td>No, based on the information provided, we cann...</td>\n",
       "      <td>principal's anger makes teacher1 and teacher2 ...</td>\n",
       "    </tr>\n",
       "    <tr>\n",
       "      <th>4</th>\n",
       "      <td>No, the student might not necessarily be alive...</td>\n",
       "      <td>We know that captain commands causes professor...</td>\n",
       "    </tr>\n",
       "  </tbody>\n",
       "</table>\n",
       "</div>"
      ],
      "text/plain": [
       "                                                pred  \\\n",
       "0  No, the prisoner being alive cannot be guarant...   \n",
       "1                                               pred   \n",
       "2  No, we cannot definitively conclude that the s...   \n",
       "3  No, based on the information provided, we cann...   \n",
       "4  No, the student might not necessarily be alive...   \n",
       "\n",
       "                                               query  \n",
       "0  We know that captain commands causes rifleman1...  \n",
       "1                                              query  \n",
       "2  principal's direction makes teacher1 and teach...  \n",
       "3  principal's anger makes teacher1 and teacher2 ...  \n",
       "4  We know that captain commands causes professor...  "
      ]
     },
     "execution_count": 14,
     "metadata": {},
     "output_type": "execute_result"
    }
   ],
   "source": [
    "prompt2gpt_response_lookup = pd.read_csv('raw_datasets/cache_gpt4_responses.csv')\n",
    "prompt2gpt_response_lookup.head()\n"
   ]
  },
  {
   "cell_type": "code",
   "execution_count": 15,
   "metadata": {},
   "outputs": [
    {
     "name": "stdout",
     "output_type": "stream",
     "text": [
      "principal's anger makes teacher1 and teacher2 to blame the student. If either teacher1 of teacher2 blame the student, the student become emotionally damaged. We observed the principal wasn't angry. Would the student be emotionally damaged if teacher2 blame the student?  \n",
      "Start your answer with \"Yes\", or \"No\", followed by step-by-step reasoning to support your explanation.\n"
     ]
    }
   ],
   "source": [
    "# print full contennt of thrid row\n",
    "print(prompt2gpt_response_lookup.iloc[3,1])"
   ]
  },
  {
   "cell_type": "code",
   "execution_count": 16,
   "metadata": {},
   "outputs": [
    {
     "data": {
      "text/html": [
       "<div>\n",
       "<style scoped>\n",
       "    .dataframe tbody tr th:only-of-type {\n",
       "        vertical-align: middle;\n",
       "    }\n",
       "\n",
       "    .dataframe tbody tr th {\n",
       "        vertical-align: top;\n",
       "    }\n",
       "\n",
       "    .dataframe thead th {\n",
       "        text-align: right;\n",
       "    }\n",
       "</style>\n",
       "<table border=\"1\" class=\"dataframe\">\n",
       "  <thead>\n",
       "    <tr style=\"text-align: right;\">\n",
       "      <th></th>\n",
       "      <th>ID</th>\n",
       "      <th>prompt</th>\n",
       "      <th>pred</th>\n",
       "    </tr>\n",
       "  </thead>\n",
       "  <tbody>\n",
       "    <tr>\n",
       "      <th>0</th>\n",
       "      <td>4669</td>\n",
       "      <td>Imagine a self-contained, hypothetical world w...</td>\n",
       "      <td>Step 1) Extract the causal graph: The causal g...</td>\n",
       "    </tr>\n",
       "    <tr>\n",
       "      <th>1</th>\n",
       "      <td>4046</td>\n",
       "      <td>Imagine a self-contained, hypothetical world w...</td>\n",
       "      <td>Step 1) Extract the causal graph: The causal g...</td>\n",
       "    </tr>\n",
       "    <tr>\n",
       "      <th>2</th>\n",
       "      <td>1597</td>\n",
       "      <td>Imagine a self-contained, hypothetical world w...</td>\n",
       "      <td>Step 1) Extract the causal graph: The causal g...</td>\n",
       "    </tr>\n",
       "    <tr>\n",
       "      <th>3</th>\n",
       "      <td>2995</td>\n",
       "      <td>Imagine a self-contained, hypothetical world w...</td>\n",
       "      <td>Step 1) Extract the causal graph: The causal g...</td>\n",
       "    </tr>\n",
       "    <tr>\n",
       "      <th>4</th>\n",
       "      <td>9475</td>\n",
       "      <td>Imagine a self-contained, hypothetical world w...</td>\n",
       "      <td>Step 1) Extract the causal graph: The causal g...</td>\n",
       "    </tr>\n",
       "  </tbody>\n",
       "</table>\n",
       "</div>"
      ],
      "text/plain": [
       "     ID                                             prompt  \\\n",
       "0  4669  Imagine a self-contained, hypothetical world w...   \n",
       "1  4046  Imagine a self-contained, hypothetical world w...   \n",
       "2  1597  Imagine a self-contained, hypothetical world w...   \n",
       "3  2995  Imagine a self-contained, hypothetical world w...   \n",
       "4  9475  Imagine a self-contained, hypothetical world w...   \n",
       "\n",
       "                                                pred  \n",
       "0  Step 1) Extract the causal graph: The causal g...  \n",
       "1  Step 1) Extract the causal graph: The causal g...  \n",
       "2  Step 1) Extract the causal graph: The causal g...  \n",
       "3  Step 1) Extract the causal graph: The causal g...  \n",
       "4  Step 1) Extract the causal graph: The causal g...  "
      ]
     },
     "execution_count": 16,
     "metadata": {},
     "output_type": "execute_result"
    }
   ],
   "source": [
    "# Using the \"prompt\" from overall_result df, look up the GPT4’s reasoning chain in the .cache_gpt4_responses.csv file (use \"query\" to look up \"pred\").\n",
    "# If the \"pred\" is not empty, then add the \"pred\" to the overall_result df.\n",
    "\n",
    "overall_result['pred'] = overall_result['prompt'].apply(lambda x: prompt2gpt_response_lookup[prompt2gpt_response_lookup['query'] == x]['pred'].values[0] if len(prompt2gpt_response_lookup[prompt2gpt_response_lookup['query'] == x]['pred'].values) > 0 else np.nan)\n",
    "overall_result.head()"
   ]
  },
  {
   "cell_type": "code",
   "execution_count": 17,
   "metadata": {},
   "outputs": [
    {
     "name": "stdout",
     "output_type": "stream",
     "text": [
      "Imagine a self-contained, hypothetical world with only the following conditions, and without any unmentioned factors or causal relationships: Male gender has a direct effect on non-competitive department application and in-state residency. Non-competitive department application has a direct effect on admission. In-state residency has a direct effect on admission. For individuals who are not male, the probability of admission is 64.83%. For individuals who are male, the probability of admission is 43.35%. For individuals who are male, would it be more likely to see admission if the individual had not been male?\n",
      "\n",
      "Hint: You can answer the question by following the subquestions below:\n",
      "\n",
      "Step 1) Extract the causal graph: What is the causal graph expressed in the context? Use \"X\" to denote \"gender\". Use \"V2\" to denote \"department applying to\". Use \"V3\" to denote \"residency status\". Use \"Y\" to denote \"admission status\". Answer nothing else but each edge one by one, in the format of \"var1 -> var2\", and use \",\" to separate the edges.\n",
      "\n",
      "Step 2) Identify the query type: What is the query type of the above question? Choose one from \"marginal probability\", \"conditional probability\", \"explaining away effect\", \"backdoor adjustment set\", \"average treatment effect\", \"collider bias\", \"normal counterfactual question\", \"average treatment effect on treated\", \"natural direct effect\", or \"natural indirect effect\". Answer nothing else but a quoted choice from above.\n",
      "\n",
      "Step 3) Translate the query to an estimand: Based on the type of the causal query, translate the question to a formal estimand. Use the \"do(·)\" notation or counterfactual notations whenever necessary.\n",
      "\n",
      "Step 4) Collect all the available data: Extract all available data. Answer nothing else but marginal probabilities and conditional probabilities, in the form of \"P(...)=...\" or \"P(...|...)=...\", and use \";\" to separate each of them. Use \"X\" to denote \"gender\". Use \"V2\" to denote \"department applying to\". Use \"V3\" to denote \"residency status\". Use \"Y\" to denote \"admission status\".\n",
      "\n",
      "Step 5) Solve for the estimand: Given all the information above, solve for the estimand mentioned before using causal inference skills such as do-calculus, counterfactual prediction, and the basics of probabilities. Answer step by step.\n",
      "####################################################################################################\n",
      "Step 1) Extract the causal graph: The causal graph expressed in the context is \"X -> V2, X -> V3, V2 -> Y, V3 -> Y\". \n",
      "\n",
      "Step 2) Identify the query type: The query type of the above question is \"normal counterfactual question\".\n",
      "\n",
      "Step 3) Translate the query to an estimand: Based on the type of the causal query, the question can be translated to a formal estimand as \"P(Y_x=1 | X=1)\" where x=0, meaning the probability of admission for an individual who is male (X=1) if they had not been male (x=0).\n",
      "\n",
      "Step 4) Collect all the available data: The available data are \"P(Y=1 | X=0) = 0.6483\" and \"P(Y=1 | X=1) = 0.4335\".\n",
      "\n",
      "Step 5) Solve for the estimand: Given all the information above, we can't directly solve for the estimand \"P(Y_x=1 | X=1)\" using the available data and causal inference skills. We need more information about the relationships between the variables, such as the probabilities of applying to non-competitive departments and in-state residency status for both males and non-males. Without this information, we cannot determine if it would be more likely to see admission if the individual had not been male.\n"
     ]
    }
   ],
   "source": [
    "# print full contennt of first row\n",
    "print(overall_result.iloc[45,1])\n",
    "print(\"#\"*100)\n",
    "print(overall_result.iloc[45,2])"
   ]
  },
  {
   "cell_type": "code",
   "execution_count": 18,
   "metadata": {},
   "outputs": [
    {
     "name": "stdout",
     "output_type": "stream",
     "text": [
      "612\n",
      "612\n"
     ]
    }
   ],
   "source": [
    "# print len of overall_result\n",
    "print(len(overall_result))\n",
    "# new df with no null values\n",
    "overall_result_no_null = overall_result.dropna()\n",
    "# print len of new df\n",
    "print(len(overall_result_no_null))\n"
   ]
  },
  {
   "cell_type": "code",
   "execution_count": 19,
   "metadata": {},
   "outputs": [
    {
     "data": {
      "text/plain": [
       "Step 1) Extract the causal graph: The causal graph expressed in the context is as follows: \"V1 -> X, V1 -> V3, X -> Y, V3 -> Y\".\\n\\nStep 2) Identify the query type: The query type of the above question is \"natural indirect effect\".\\n\\nStep 3) Translate the query to an estimand: Based on the type of the causal query, the question can be translated to a formal estimand as \"E(Y_x | do(V1)) - E(Y_x | do(not V1))\", where Y_x represents the counterfactual outcome of Y when X is set to x.\\n\\nStep 4) Collect all the available data: Unfortunately, the problem statement does not provide any specific data in the form of marginal probabilities or conditional probabilities. Therefore, we cannot proceed with this step.\\n\\nStep 5) Solve for the estimand: Given the lack of available data, we cannot solve for the estimand using causal inference skills such as do-calculus, counterfactual prediction, and the basics of probabilities.                                                                                                                                                                                                                                                                                                                                                                                                                                                                                                                                                                                                                                                                                                                                                                                                                                                                                                                                                                                                                    2\n",
       "Step 1) Extract the causal graph: The causal graph expressed in the context is \"X -> V3, Y -> V3\".\\n\\nStep 2) Identify the query type: The query type of the above question is \"normal counterfactual question\".\\n\\nStep 3) Translate the query to an estimand: Based on the type of the causal query, the question can be translated to a formal estimand as E(Y_x) - E(Y), where Y_x denotes the counterfactual outcome of Y when X is set to x.\\n\\nStep 4) Collect all the available data: There is no available data provided in the question. We only have the causal graph \"X -> V3, Y -> V3\" and no information about marginal probabilities or conditional probabilities.\\n\\nStep 5) Solve for the estimand: Given the information above, we cannot solve for the estimand E(Y_x) - E(Y) using causal inference skills, as there is no available data on marginal probabilities or conditional probabilities. We can only conclude that there is no direct causal relationship between X (rujx) and Y (nyrp) based on the given causal graph.                                                                                                                                                                                                                                                                                                                                                                                                                                                                                                                                                                                                                                                                                                                                                                                                                                                                                                                              2\n",
       "Step 1) Extract the causal graph: The causal graph expressed in the context is \"X -> V3, Y -> V3\".\\n\\nStep 2) Identify the query type: The query type of the above question is \"conditional probability\".\\n\\nStep 3) Translate the query to an estimand: Based on the type of the causal query, the question can be translated to a formal estimand as P(Y|do(X=1)).\\n\\nStep 4) Collect all the available data: There is no available data provided in the question. We only know the causal relationships between the variables, but no specific probabilities are given.\\n\\nStep 5) Solve for the estimand: Given the information above, we cannot solve for the estimand P(Y|do(X=1)) using causal inference skills, as there is no available data provided in the question. We need more information about the probabilities and relationships between the variables to answer the question.                                                                                                                                                                                                                                                                                                                                                                                                                                                                                                                                                                                                                                                                                                                                                                                                                                                                                                                                                                                                                                                                                   2\n",
       "Step 1) Extract the causal graph: The causal graph expressed in the context is \"X -> V3, Y -> V3\". \\n\\nStep 2) Identify the query type: The query type of the above question is \"normal counterfactual question\".\\n\\nStep 3) Translate the query to an estimand: Based on the type of the causal query, the question can be translated to a formal estimand as \"P(Y_x = y | do(X = x))\".\\n\\nStep 4) Collect all the available data: We do not have any specific data provided in the question. Therefore, we cannot provide any marginal probabilities or conditional probabilities in the form of \"P(...)=...\" or \"P(...|...)=...\".\\n\\nStep 5) Solve for the estimand: Given the information above, we cannot solve for the estimand mentioned before using causal inference skills such as do-calculus, counterfactual prediction, and the basics of probabilities, as we do not have any specific data provided in the question.                                                                                                                                                                                                                                                                                                                                                                                                                                                                                                                                                                                                                                                                                                                                                                                                                                                                                                                                                                                                                                                2\n",
       "Step 1) Extract the causal graph: The causal graph expressed in the context is \"X -> V2, V2 -> Y\".\\n\\nStep 2) Identify the query type: The query type of the above question is \"natural direct effect\".\\n\\nStep 3) Translate the query to an estimand: Based on the type of the causal query, the question can be translated to a formal estimand as E(Y_x | do(V2)).\\n\\nStep 4) Collect all the available data: We do not have any specific data provided in the question. However, we know the causal relationships: P(X -> V2) and P(V2 -> Y).\\n\\nStep 5) Solve for the estimand: Given all the information above, we can solve for the estimand E(Y_x | do(V2)) using causal inference skills. Since we want to understand how the gene affects lung cancer, we need to consider the effect of the gene on smoking status and the effect of smoking status on lung cancer. Therefore, we should look at the correlation case by case according to gene, smoking status, and lung cancer. So, the answer is \"No\".                                                                                                                                                                                                                                                                                                                                                                                                                                                                                                                                                                                                                                                                                                                                                                                                                                                                                                                                                               2\n",
       "                                                                                                                                                                                                                                                                                                                                                                                                                                                                                                                                                                                                                                                                                                                                                                                                                                                                                                                                                                                                                                                                                                                                                                                                                                                                                                                                                                                                                                                                                                                                                                                                                                                                                                                                                                                                                                                                                                                                                                                  ..\n",
       "Step 1) Extract the causal graph: The causal graph expressed in the context is as follows: \"V1 -> X, V1 -> Y, V2 -> X, X -> Y\".\\n\\nStep 2) Identify the query type: The query type of the above question is \"marginal probability\".\\n\\nStep 3) Translate the query to an estimand: Based on the type of the causal query, the question can be translated to a formal estimand as \"P(X=1)\".\\n\\nStep 4) Collect all the available data: The available data is \"P(Y=1)=0.5381\".\\n\\nStep 5) Solve for the estimand: Given the information above, we cannot directly solve for the estimand P(X=1) using causal inference skills such as do-calculus, counterfactual prediction, and the basics of probabilities, because we do not have enough information about the relationships between the variables. We need more information about the conditional probabilities or the joint distribution of the variables to determine if the overall likelihood of mud eating is greater than chance.                                                                                                                                                                                                                                                                                                                                                                                                                                                                                                                                                                                                                                                                                                                                                                                                                                                                                                                                                                                         1\n",
       "Step 1) Extract the causal graph: The causal graph expressed in the context is as follows: \"X -> V2\", \"X -> V3\", \"V2 -> Y\", \"V3 -> Y\".\\n\\nStep 2) Identify the query type: The query type of the above question is \"natural direct effect\".\\n\\nStep 3) Translate the query to an estimand: Based on the type of the causal query, the question can be translated to a formal estimand as E[Y_x(1) - Y_x(0)] where Y_x(v) denotes the counterfactual outcome of lip thickness Y under the intervention of setting supply X to x, while keeping the mediator (yield per acre) at its original value v.\\n\\nStep 4) Collect all the available data: Unfortunately, we do not have any specific data provided in the problem statement. We only have the causal relationships between the variables.\\n\\nStep 5) Solve for the estimand: Given the lack of specific data, we cannot compute the exact value of the natural direct effect. However, we can still reason about the direction of the effect. Since increased supply has a direct effect on increased demand, and increased demand has a direct effect on thick lips, we can infer that increased supply would still positively affect thick lips even when disregarding the mediation effect through yield per acre.                                                                                                                                                                                                                                                                                                                                                                                                                                                                                                                                                                                                                                                                                                        1\n",
       "Step 1) Extract the causal graph: The causal graph expressed in the context is \"X -> V3, X -> Y, V2 -> V3, V2 -> Y, V3 -> Y\". \\n\\nStep 2) Identify the query type: The query type of the above question is \"average treatment effect\".\\n\\nStep 3) Translate the query to an estimand: Based on the type of the causal query, the question can be translated to a formal estimand as E[Y|do(X=1)] - E[Y|do(X=0)].\\n\\nStep 4) Collect all the available data: The available data are \"P(Y=1|X=1)=0.5095\" and \"P(Y=1|X=0)=0.4605\".\\n\\nStep 5) Solve for the estimand: Given all the information above, we can solve for the estimand as follows:\\n\\nE[Y|do(X=1)] - E[Y|do(X=0)] = P(Y=1|X=1) - P(Y=1|X=0) = 0.5095 - 0.4605 = 0.049.\\n\\nSo, hupx will increase the chance of tijw by 4.9%.                                                                                                                                                                                                                                                                                                                                                                                                                                                                                                                                                                                                                                                                                                                                                                                                                                                                                                                                                                                                                                                                                                                                                                                            1\n",
       "Step 1) Extract the causal graph: The causal graph expressed in the context is as follows: \"X -> V2\", \"X -> V3\", \"V2 -> Y\", \"V3 -> Y\".\\n\\nStep 2) Identify the query type: The query type of the above question is \"normal counterfactual question\".\\n\\nStep 3) Translate the query to an estimand: Based on the type of the causal query, the question can be translated to a formal estimand as P(Y_x=1 | X=1), where x=0.\\n\\nStep 4) Collect all the available data: The available data are as follows: \"P(Y=1|X=0)=0.1816\"; \"P(Y=1|X=1)=0.2543\".\\n\\nStep 5) Solve for the estimand: Given all the information above, we can solve for the estimand using the basics of probabilities. Since we are interested in the counterfactual probability P(Y_x=1 | X=1), where x=0, we can use the available data to calculate this probability:\\n\\nP(Y_x=1 | X=1) = P(Y=1 | X=0) = 0.1816\\n\\nSo, for people who are singing We Wish You A Merry Christmas, it would be more likely to see infant mortality if the person had not been singing We Wish You A Merry Christmas, as the probability of infant mortality in that case is 18.16%, which is lower than the 25.43% probability when they are singing.                                                                                                                                                                                                                                                                                                                                                                                                                                                                                                                                                                                                                                                                                                                                                                          1\n",
       "Step 1) Extract the causal graph: The causal graph expressed in the context is \"V1 -> X, V3 -> Y, X -> Y\".\\n\\nStep 2) Identify the query type: The query type of the above question is \"average treatment effect\".\\n\\nStep 3) Translate the query to an estimand: Based on the type of the causal query, the question can be translated to a formal estimand as E[Y|do(X=1)] - E[Y|do(X=0)].\\n\\nStep 4) Collect all the available data: The available data are P(Y=1|V1=0, X=0)=0.3195; P(Y=1|V1=0, X=1)=0.3141; P(Y=1|V1=1, X=0)=0.3525; P(Y=1|V1=1, X=1)=0.2559; P(V1=1)=0.2.\\n\\nStep 5) Solve for the estimand: \\n\\nFirst, we need to find the probabilities of X=0 and X=1. We know that P(V1=1)=0.2, so P(V1=0)=0.8. Since V1 directly affects X, we can calculate the probabilities as follows:\\n\\nP(X=0|V1=0) = P(Y=1|V1=0, X=0) / (P(Y=1|V1=0, X=0) + P(Y=1|V1=0, X=1)) = 0.3195 / (0.3195 + 0.3141) ≈ 0.504\\nP(X=1|V1=0) = 1 - P(X=0|V1=0) ≈ 0.496\\n\\nP(X=0|V1=1) = P(Y=1|V1=1, X=0) / (P(Y=1|V1=1, X=0) + P(Y=1|V1=1, X=1)) = 0.3525 / (0.3525 + 0.2559) ≈ 0.579\\nP(X=1|V1=1) = 1 - P(X=0|V1=1) ≈ 0.421\\n\\nNow, we can find the marginal probabilities of X=0 and X=1:\\n\\nP(X=0) = P(X=0|V1=0) * P(V1=0) + P(X=0|V1=1) * P(V1=1) ≈ 0.504 * 0.8 + 0.579 * 0.2 ≈ 0.517\\nP(X=1) = 1 - P(X=0) ≈ 0.483\\n\\nNext, we can find the probabilities of Y=1 given X=0 and X=1:\\n\\nP(Y=1|X=0) = P(Y=1|V1=0, X=0) * P(V1=0|X=0) + P(Y=1|V1=1, X=0) * P(V1=1|X=0)\\nP(Y=1|X=1) = P(Y=1|V1=0, X=1) * P(V1=0|X=1) + P(Y=1|V1=1, X=1) * P(V1=1|X=1)\\n\\nUsing Bayes' theorem, we can find P(V1=0|X=0), P(V1=1|X=0), P(V1=0|X=1), and P(V1=1|X=1):\\n\\nP(V1=0|X=0) = P(X=0|V1=0) * P(V1=0) / P(X=0) ≈ 0.504 * 0.8 / 0.517 ≈ 0.780\\nP(V1=1|X=0) = 1 - P(V1=0|X=0) ≈ 0.220\\n\\nP(V1=0|X=1) = P(X=1|V1=0) * P(V1=0) / P(X=1) ≈ 0.496 * 0.8 / 0.483 ≈ 0.820\\nP(V1=1|X=1) = 1 - P(V1=0|X=1) ≈ 0.180\\n\\nNow, we can calculate P(Y=1|X=0) and P(Y=1|X=1):\\n\\nP(Y=1|X=0) ≈ 0.3195 * 0.780 + 0.3525 *    1\n",
       "Name: pred, Length: 606, dtype: int64"
      ]
     },
     "execution_count": 19,
     "metadata": {},
     "output_type": "execute_result"
    }
   ],
   "source": [
    "# Check if there are two identical entries in pred column\n",
    "overall_result_no_null['pred'].value_counts()"
   ]
  },
  {
   "cell_type": "code",
   "execution_count": 20,
   "metadata": {},
   "outputs": [
    {
     "data": {
      "text/plain": [
       "Imagine a self-contained, hypothetical world with only the following conditions, and without any unmentioned factors or causal relationships: Rujx has a direct effect on snov. Nyrp has a direct effect on snov.  If we disregard the mediation effect through snov, would rujx still positively affect nyrp?\\n\\nHint: You can answer the question by following the subquestions below:\\n\\nStep 1) Extract the causal graph: What is the causal graph expressed in the context? Use \"X\" to denote \"rujx\". Use \"Y\" to denote \"nyrp\". Use \"V3\" to denote \"snov\". Answer nothing else but each edge one by one, in the format of \"var1 -> var2\", and use \",\" to separate the edges.\\n\\nStep 2) Identify the query type: What is the query type of the above question? Choose one from \"marginal probability\", \"conditional probability\", \"explaining away effect\", \"backdoor adjustment set\", \"average treatment effect\", \"collider bias\", \"normal counterfactual question\", \"average treatment effect on treated\", \"natural direct effect\", or \"natural indirect effect\". Answer nothing else but a quoted choice from above.\\n\\nStep 3) Translate the query to an estimand: Based on the type of the causal query, translate the question to a formal estimand. Use the \"do(·)\" notation or counterfactual notations whenever necessary.\\n\\nStep 4) Collect all the available data: Extract all available data. Answer nothing else but marginal probabilities and conditional probabilities, in the form of \"P(...)=...\" or \"P(...|...)=...\", and use \";\" to separate each of them. Use \"X\" to denote \"rujx\". Use \"Y\" to denote \"nyrp\". Use \"V3\" to denote \"snov\".\\n\\nStep 5) Solve for the estimand: Given all the information above, solve for the estimand mentioned before using causal inference skills such as do-calculus, counterfactual prediction, and the basics of probabilities. Answer step by step.                                                                                                                                                                                                                                                                                                                                                                                                                                                                                                                                                                                                                                                                                                                                                                                                                                                                                                                                                            2\n",
       "Imagine a self-contained, hypothetical world with only the following conditions, and without any unmentioned factors or causal relationships: Vyta has a direct effect on jyke and fyqi. Jyke has a direct effect on ovka. Fyqi has a direct effect on ovka.  Does jyke affect ovka through either of vyta, or fyqi?\\n\\nHint: You can answer the question by following the subquestions below:\\n\\nStep 1) Extract the causal graph: What is the causal graph expressed in the context? Use \"V1\" to denote \"vyta\". Use \"V3\" to denote \"fyqi\". Use \"X\" to denote \"jyke\". Use \"Y\" to denote \"ovka\". Answer nothing else but each edge one by one, in the format of \"var1 -> var2\", and use \",\" to separate the edges.\\n\\nStep 2) Identify the query type: What is the query type of the above question? Choose one from \"marginal probability\", \"conditional probability\", \"explaining away effect\", \"backdoor adjustment set\", \"average treatment effect\", \"collider bias\", \"normal counterfactual question\", \"average treatment effect on treated\", \"natural direct effect\", or \"natural indirect effect\". Answer nothing else but a quoted choice from above.\\n\\nStep 3) Translate the query to an estimand: Based on the type of the causal query, translate the question to a formal estimand. Use the \"do(·)\" notation or counterfactual notations whenever necessary.\\n\\nStep 4) Collect all the available data: Extract all available data. Answer nothing else but marginal probabilities and conditional probabilities, in the form of \"P(...)=...\" or \"P(...|...)=...\", and use \";\" to separate each of them. Use \"V1\" to denote \"vyta\". Use \"V3\" to denote \"fyqi\". Use \"X\" to denote \"jyke\". Use \"Y\" to denote \"ovka\".\\n\\nStep 5) Solve for the estimand: Given all the information above, solve for the estimand mentioned before using causal inference skills such as do-calculus, counterfactual prediction, and the basics of probabilities. Answer step by step.                                                                                                                                                                                                                                                                                                                                                                                                                                                                                                                                                                                                                                                                                                                                                                                                                                                                                                2\n",
       "Imagine a self-contained, hypothetical world with only the following conditions, and without any unmentioned factors or causal relationships: Smoking gene has a direct effect on smoker status. Smoker status has a direct effect on lung cancer.  To understand how gene affects lung, should we look directly at how gene correlates with lung in general, or this correlation case by case according to gene, smoking status, lung? Use \"Yes\" to indicate the former, and \"No\" to indicate the latter.\\n\\nHint: You can answer the question by following the subquestions below:\\n\\nStep 1) Extract the causal graph: What is the causal graph expressed in the context? Use \"X\" to denote \"gene\". Use \"V2\" to denote \"smoking status\". Use \"Y\" to denote \"lung\". Answer nothing else but each edge one by one, in the format of \"var1 -> var2\", and use \",\" to separate the edges.\\n\\nStep 2) Identify the query type: What is the query type of the above question? Choose one from \"marginal probability\", \"conditional probability\", \"explaining away effect\", \"backdoor adjustment set\", \"average treatment effect\", \"collider bias\", \"normal counterfactual question\", \"average treatment effect on treated\", \"natural direct effect\", or \"natural indirect effect\". Answer nothing else but a quoted choice from above.\\n\\nStep 3) Translate the query to an estimand: Based on the type of the causal query, translate the question to a formal estimand. Use the \"do(·)\" notation or counterfactual notations whenever necessary.\\n\\nStep 4) Collect all the available data: Extract all available data. Answer nothing else but marginal probabilities and conditional probabilities, in the form of \"P(...)=...\" or \"P(...|...)=...\", and use \";\" to separate each of them. Use \"X\" to denote \"gene\". Use \"V2\" to denote \"smoking status\". Use \"Y\" to denote \"lung\".\\n\\nStep 5) Solve for the estimand: Given all the information above, solve for the estimand mentioned before using causal inference skills such as do-calculus, counterfactual prediction, and the basics of probabilities. Answer step by step.                                                                                                                                                                                                                                                                                                                                                                                                                                                                                                                                                                                                                                                                                                                                            2\n",
       "Imagine a self-contained, hypothetical world with only the following conditions, and without any unmentioned factors or causal relationships: Rujz has a direct effect on kwox. Qwiu has a direct effect on kwox.  Will rujz increase the chance of qwiu?\\n\\nHint: You can answer the question by following the subquestions below:\\n\\nStep 1) Extract the causal graph: What is the causal graph expressed in the context? Use \"X\" to denote \"rujz\". Use \"Y\" to denote \"qwiu\". Use \"V3\" to denote \"kwox\". Answer nothing else but each edge one by one, in the format of \"var1 -> var2\", and use \",\" to separate the edges.\\n\\nStep 2) Identify the query type: What is the query type of the above question? Choose one from \"marginal probability\", \"conditional probability\", \"explaining away effect\", \"backdoor adjustment set\", \"average treatment effect\", \"collider bias\", \"normal counterfactual question\", \"average treatment effect on treated\", \"natural direct effect\", or \"natural indirect effect\". Answer nothing else but a quoted choice from above.\\n\\nStep 3) Translate the query to an estimand: Based on the type of the causal query, translate the question to a formal estimand. Use the \"do(·)\" notation or counterfactual notations whenever necessary.\\n\\nStep 4) Collect all the available data: Extract all available data. Answer nothing else but marginal probabilities and conditional probabilities, in the form of \"P(...)=...\" or \"P(...|...)=...\", and use \";\" to separate each of them. Use \"X\" to denote \"rujz\". Use \"Y\" to denote \"qwiu\". Use \"V3\" to denote \"kwox\".\\n\\nStep 5) Solve for the estimand: Given all the information above, solve for the estimand mentioned before using causal inference skills such as do-calculus, counterfactual prediction, and the basics of probabilities. Answer step by step.                                                                                                                                                                                                                                                                                                                                                                                                                                                                                                                                                                                                                                                                                                                                                                                                                                                                                                                                                                                                                 2\n",
       "Imagine a self-contained, hypothetical world with only the following conditions, and without any unmentioned factors or causal relationships: Male gender has a direct effect on non-competitive department application. No freckles has a direct effect on non-competitive department application.  Does gender affect presence of freckles through department applying to?\\n\\nHint: You can answer the question by following the subquestions below:\\n\\nStep 1) Extract the causal graph: What is the causal graph expressed in the context? Use \"X\" to denote \"gender\". Use \"Y\" to denote \"presence of freckles\". Use \"V3\" to denote \"department applying to\". Answer nothing else but each edge one by one, in the format of \"var1 -> var2\", and use \",\" to separate the edges.\\n\\nStep 2) Identify the query type: What is the query type of the above question? Choose one from \"marginal probability\", \"conditional probability\", \"explaining away effect\", \"backdoor adjustment set\", \"average treatment effect\", \"collider bias\", \"normal counterfactual question\", \"average treatment effect on treated\", \"natural direct effect\", or \"natural indirect effect\". Answer nothing else but a quoted choice from above.\\n\\nStep 3) Translate the query to an estimand: Based on the type of the causal query, translate the question to a formal estimand. Use the \"do(·)\" notation or counterfactual notations whenever necessary.\\n\\nStep 4) Collect all the available data: Extract all available data. Answer nothing else but marginal probabilities and conditional probabilities, in the form of \"P(...)=...\" or \"P(...|...)=...\", and use \";\" to separate each of them. Use \"X\" to denote \"gender\". Use \"Y\" to denote \"presence of freckles\". Use \"V3\" to denote \"department applying to\".\\n\\nStep 5) Solve for the estimand: Given all the information above, solve for the estimand mentioned before using causal inference skills such as do-calculus, counterfactual prediction, and the basics of probabilities. Answer step by step.                                                                                                                                                                                                                                                                                                                                                                                                                                                                                                                                                                                                                                                                                                                                                                                                                      2\n",
       "                                                                                                                                                                                                                                                                                                                                                                                                                                                                                                                                                                                                                                                                                                                                                                                                                                                                                                                                                                                                                                                                                                                                                                                                                                                                                                                                                                                                                                                                                                                                                                                                                                                                                                                                                                                                                                                                                                                                                                                                                                                                                                                                                                                                                                                                                                                                                                                                                                                                                                                                                                                                                                                                                                                                                                                                                                                                              ..\n",
       "Imagine a self-contained, hypothetical world with only the following conditions, and without any unmentioned factors or causal relationships: Czir has a direct effect on swoy and xevi. Zeku has a direct effect on swoy and xevi. Swoy has a direct effect on xevi. For those who are not czir, the probability of xevi is 44.49%. For those who are czir, the probability of xevi is 67.31%. For those who are czir, would it be more likely to see xevi if it had been czir?\\n\\nHint: You can answer the question by following the subquestions below:\\n\\nStep 1) Extract the causal graph: What is the causal graph expressed in the context? Use \"X\" to denote \"czir\". Use \"V3\" to denote \"swoy\". Use \"V2\" to denote \"zeku\". Use \"Y\" to denote \"xevi\". Answer nothing else but each edge one by one, in the format of \"var1 -> var2\", and use \",\" to separate the edges.\\n\\nStep 2) Identify the query type: What is the query type of the above question? Choose one from \"marginal probability\", \"conditional probability\", \"explaining away effect\", \"backdoor adjustment set\", \"average treatment effect\", \"collider bias\", \"normal counterfactual question\", \"average treatment effect on treated\", \"natural direct effect\", or \"natural indirect effect\". Answer nothing else but a quoted choice from above.\\n\\nStep 3) Translate the query to an estimand: Based on the type of the causal query, translate the question to a formal estimand. Use the \"do(·)\" notation or counterfactual notations whenever necessary.\\n\\nStep 4) Collect all the available data: Extract all available data. Answer nothing else but marginal probabilities and conditional probabilities, in the form of \"P(...)=...\" or \"P(...|...)=...\", and use \";\" to separate each of them. Use \"X\" to denote \"czir\". Use \"V3\" to denote \"swoy\". Use \"V2\" to denote \"zeku\". Use \"Y\" to denote \"xevi\".\\n\\nStep 5) Solve for the estimand: Given all the information above, solve for the estimand mentioned before using causal inference skills such as do-calculus, counterfactual prediction, and the basics of probabilities. Answer step by step.                                                                                                                                                                                                                                                                                                                                                                                                                                                                                                                                                                                                                                                                                                                                    1\n",
       "Imagine a self-contained, hypothetical world with only the following conditions, and without any unmentioned factors or causal relationships: Pure water has a direct effect on water company B. Water company B has a direct effect on cholera prevention. The overall probability of cholera prevention is 10.31%. Is the overall likelihood of pure water greater than chance?\\n\\nHint: You can answer the question by following the subquestions below:\\n\\nStep 1) Extract the causal graph: What is the causal graph expressed in the context? Use \"X\" to denote \"water\". Use \"V2\" to denote \"water company\". Use \"Y\" to denote \"cholera status\". Answer nothing else but each edge one by one, in the format of \"var1 -> var2\", and use \",\" to separate the edges.\\n\\nStep 2) Identify the query type: What is the query type of the above question? Choose one from \"marginal probability\", \"conditional probability\", \"explaining away effect\", \"backdoor adjustment set\", \"average treatment effect\", \"collider bias\", \"normal counterfactual question\", \"average treatment effect on treated\", \"natural direct effect\", or \"natural indirect effect\". Answer nothing else but a quoted choice from above.\\n\\nStep 3) Translate the query to an estimand: Based on the type of the causal query, translate the question to a formal estimand. Use the \"do(·)\" notation or counterfactual notations whenever necessary.\\n\\nStep 4) Collect all the available data: Extract all available data. Answer nothing else but marginal probabilities and conditional probabilities, in the form of \"P(...)=...\" or \"P(...|...)=...\", and use \";\" to separate each of them. Use \"X\" to denote \"water\". Use \"V2\" to denote \"water company\". Use \"Y\" to denote \"cholera status\".\\n\\nStep 5) Solve for the estimand: Given all the information above, solve for the estimand mentioned before using causal inference skills such as do-calculus, counterfactual prediction, and the basics of probabilities. Answer step by step.                                                                                                                                                                                                                                                                                                                                                                                                                                                                                                                                                                                                                                                                                                                                                                                                                                                 1\n",
       "Imagine a self-contained, hypothetical world with only the following conditions, and without any unmentioned factors or causal relationships: Quzy has a direct effect on fyze and rukz. Kwoz has a direct effect on fyze. Fyze has a direct effect on rukz. Quzy is unobserved.  To understand how fyze affects rukz, should we look directly at how fyze correlates with rukz in general, or this correlation case by case according to quzy, kwoz? Use \"Yes\" to indicate the former, and \"No\" to indicate the latter.\\n\\nHint: You can answer the question by following the subquestions below:\\n\\nStep 1) Extract the causal graph: What is the causal graph expressed in the context? Use \"V2\" to denote \"kwoz\". Use \"V1\" to denote \"quzy\". Use \"X\" to denote \"fyze\". Use \"Y\" to denote \"rukz\". Answer nothing else but each edge one by one, in the format of \"var1 -> var2\", and use \",\" to separate the edges.\\n\\nStep 2) Identify the query type: What is the query type of the above question? Choose one from \"marginal probability\", \"conditional probability\", \"explaining away effect\", \"backdoor adjustment set\", \"average treatment effect\", \"collider bias\", \"normal counterfactual question\", \"average treatment effect on treated\", \"natural direct effect\", or \"natural indirect effect\". Answer nothing else but a quoted choice from above.\\n\\nStep 3) Translate the query to an estimand: Based on the type of the causal query, translate the question to a formal estimand. Use the \"do(·)\" notation or counterfactual notations whenever necessary.\\n\\nStep 4) Collect all the available data: Extract all available data. Answer nothing else but marginal probabilities and conditional probabilities, in the form of \"P(...)=...\" or \"P(...|...)=...\", and use \";\" to separate each of them. Use \"V2\" to denote \"kwoz\". Use \"V1\" to denote \"quzy\". Use \"X\" to denote \"fyze\". Use \"Y\" to denote \"rukz\".\\n\\nStep 5) Solve for the estimand: Given all the information above, solve for the estimand mentioned before using causal inference skills such as do-calculus, counterfactual prediction, and the basics of probabilities. Answer step by step.                                                                                                                                                                                                                                                                                                                                                                                                                                                                                                                                                                                                                                                                                            1\n",
       "Imagine a self-contained, hypothetical world with only the following conditions, and without any unmentioned factors or causal relationships: Smoking mother has a direct effect on low infant birth weight. Lactose tolerant has a direct effect on low infant birth weight. For children with nonsmoking mothers and infants with normal birth weight, the probability of lactose tolerant is 20.00%. For children with nonsmoking mothers and infants with low birth weight, the probability of lactose tolerant is 20.00%. For children with smoking mothers and infants with normal birth weight, the probability of lactose tolerant is 20.00%. For children with smoking mothers and infants with low birth weight, the probability of lactose tolerant is 20.00%. If we look at infants with low birth weight, does nonsmoking mother often correlates with lactose tolerant?\\n\\nHint: You can answer the question by following the subquestions below:\\n\\nStep 1) Extract the causal graph: What is the causal graph expressed in the context? Use \"X\" to denote \"maternal smoking status\". Use \"Y\" to denote \"lactose intolerance\". Use \"V3\" to denote \"infant's birth weight\". Answer nothing else but each edge one by one, in the format of \"var1 -> var2\", and use \",\" to separate the edges.\\n\\nStep 2) Identify the query type: What is the query type of the above question? Choose one from \"marginal probability\", \"conditional probability\", \"explaining away effect\", \"backdoor adjustment set\", \"average treatment effect\", \"collider bias\", \"normal counterfactual question\", \"average treatment effect on treated\", \"natural direct effect\", or \"natural indirect effect\". Answer nothing else but a quoted choice from above.\\n\\nStep 3) Translate the query to an estimand: Based on the type of the causal query, translate the question to a formal estimand. Use the \"do(·)\" notation or counterfactual notations whenever necessary.\\n\\nStep 4) Collect all the available data: Extract all available data. Answer nothing else but marginal probabilities and conditional probabilities, in the form of \"P(...)=...\" or \"P(...|...)=...\", and use \";\" to separate each of them. Use \"X\" to denote \"maternal smoking status\". Use \"Y\" to denote \"lactose intolerance\". Use \"V3\" to denote \"infant's birth weight\".\\n\\nStep 5) Solve for the estimand: Given all the information above, solve for the estimand mentioned before using causal inference skills such as do-calculus, counterfactual prediction, and the basics of probabilities. Answer step by step.                                                                                                                                                                                                                                                                               1\n",
       "Imagine a self-contained, hypothetical world with only the following conditions, and without any unmentioned factors or causal relationships: Severe vaccination reaction has a direct effect on the habit of using chopsticks instead of forks and smallpox survival. Absence of smallpox has a direct effect on the habit of using chopsticks instead of forks. The habit of using chopsticks instead of forks has a direct effect on smallpox survival. Vaccination reaction is unobserved. For individuals with smallpox, the probability of smallpox survival is 60.72%. For individuals without smallpox, the probability of smallpox survival is 74.46%. For individuals with smallpox, the probability of the habit of using chopsticks instead of forks is 40.00%. For individuals without smallpox, the probability of the habit of using chopsticks instead of forks is 84.00%. If we disregard the mediation effect through smallpox condtion, would the habit of using chopsticks instead of forks still positively affect smallpox survival?\\n\\nHint: You can answer the question by following the subquestions below:\\n\\nStep 1) Extract the causal graph: What is the causal graph expressed in the context? Use \"V2\" to denote \"smallpox condtion\". Use \"V1\" to denote \"vaccination reaction\". Use \"X\" to denote \"the habit of using chopsticks instead of forks\". Use \"Y\" to denote \"a person\". Answer nothing else but each edge one by one, in the format of \"var1 -> var2\", and use \",\" to separate the edges.\\n\\nStep 2) Identify the query type: What is the query type of the above question? Choose one from \"marginal probability\", \"conditional probability\", \"explaining away effect\", \"backdoor adjustment set\", \"average treatment effect\", \"collider bias\", \"normal counterfactual question\", \"average treatment effect on treated\", \"natural direct effect\", or \"natural indirect effect\". Answer nothing else but a quoted choice from above.\\n\\nStep 3) Translate the query to an estimand: Based on the type of the causal query, translate the question to a formal estimand. Use the \"do(·)\" notation or counterfactual notations whenever necessary.\\n\\nStep 4) Collect all the available data: Extract all available data. Answer nothing else but marginal probabilities and conditional probabilities, in the form of \"P(...)=...\" or \"P(...|...)=...\", and use \";\" to separate each of them. Use \"V2\" to denote \"smallpox condtion\". Use \"V1\" to denote \"vaccination reaction\". Use \"X\" to denote \"the habit of using chopsticks instead of forks\". Use \"Y\" to denote \"a person\".\\n\\nStep 5) Solve for the estimand: Given all the information above, solve for the estimand mentioned before using causal inference skills such as do-calculus, counterfactual prediction, and the basics of probabilities. Answer step by step.    1\n",
       "Name: prompt, Length: 606, dtype: int64"
      ]
     },
     "execution_count": 20,
     "metadata": {},
     "output_type": "execute_result"
    }
   ],
   "source": [
    "# Check if there are two identical entries in prompt column\n",
    "overall_result_no_null['prompt'].value_counts()"
   ]
  },
  {
   "cell_type": "code",
   "execution_count": 21,
   "metadata": {},
   "outputs": [
    {
     "data": {
      "text/plain": [
       "9527    1\n",
       "690     1\n",
       "683     1\n",
       "3756    1\n",
       "5805    1\n",
       "       ..\n",
       "5468    1\n",
       "7517    1\n",
       "5471    1\n",
       "3424    1\n",
       "9214    1\n",
       "Name: ID, Length: 612, dtype: int64"
      ]
     },
     "execution_count": 21,
     "metadata": {},
     "output_type": "execute_result"
    }
   ],
   "source": [
    "# Check if there are two identical entries in ID column\n",
    "overall_result_no_null['ID'].value_counts()"
   ]
  },
  {
   "attachments": {},
   "cell_type": "markdown",
   "metadata": {},
   "source": [
    "## Formatting for ROSCOE"
   ]
  },
  {
   "cell_type": "code",
   "execution_count": 24,
   "metadata": {},
   "outputs": [],
   "source": [
    "def prepare_json_for_roscoe(df: pd.DataFrame, prompt_column: str, gpt_column: str, out_name:str, gt_column: Union[str, None] = None, id_column: Union[str, None] = None) -> None:\n",
    "    df_out = df[[prompt_column, gpt_column]]\n",
    "    df_out.rename(columns={gpt_column: 'gpt-3', prompt_column : 'premise'}, inplace=True)\n",
    "    # As strange as it sounds, hypotesis column is used for ground truth, left empty otherwise\n",
    "    if gt_column is not None:\n",
    "        df_out['hypothesis'] = \"IGNORE THIS. Ground truth here for reference. \" + df[gt_column]\n",
    "    else:\n",
    "        df_out['hypothesis'] = \" \"\n",
    "    if id_column is not None:\n",
    "        df_out['ID'] = df[id_column] \n",
    "    \n",
    "    df_out.to_json(\"datasets/\" + out_name + '.jsonl', orient='records', lines=True)\n",
    "    return None"
   ]
  },
  {
   "cell_type": "code",
   "execution_count": 25,
   "metadata": {},
   "outputs": [],
   "source": [
    "prepare_json_for_roscoe(overall_result_no_null, 'prompt', 'pred', 'cb1', gt_column=None, id_column='ID')"
   ]
  },
  {
   "attachments": {},
   "cell_type": "markdown",
   "metadata": {},
   "source": [
    "## Run ROSCOE"
   ]
  },
  {
   "attachments": {},
   "cell_type": "markdown",
   "metadata": {},
   "source": [
    "```python\n",
    "python projects/roscoe/roscoe.py -t sim_sce -m facebook/roscoe-512-roberta-base --dataset-path ../CausalLLMs/roscoe_exp/datasets --datasets cb1\n",
    "```"
   ]
  }
 ],
 "metadata": {
  "kernelspec": {
   "display_name": "roscoe",
   "language": "python",
   "name": "python3"
  },
  "language_info": {
   "codemirror_mode": {
    "name": "ipython",
    "version": 3
   },
   "file_extension": ".py",
   "mimetype": "text/x-python",
   "name": "python",
   "nbconvert_exporter": "python",
   "pygments_lexer": "ipython3",
   "version": "3.8.8"
  },
  "orig_nbformat": 4
 },
 "nbformat": 4,
 "nbformat_minor": 2
}
