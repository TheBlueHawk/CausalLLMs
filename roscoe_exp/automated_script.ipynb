{
 "cells": [
  {
   "cell_type": "code",
   "execution_count": null,
   "metadata": {},
   "outputs": [],
   "source": [
    "import time\n",
    "\n",
    "while True:\n",
    "    if not os.path.exists(\"./delete_me_to_stop_script.txt\"):\n",
    "        break\n",
    "\n",
    "    try:\n",
    "        print(\"Running...\")\n",
    "    except Exception as e:\n",
    "        print(f\"An error occurred: {e}\")\n",
    "    # Wait for 1 hour for next update\n",
    "    time.sleep(5)"
   ]
  },
  {
   "cell_type": "code",
   "execution_count": null,
   "metadata": {},
   "outputs": [],
   "source": [
    "import requests\n",
    "\n",
    "file_id = \"1mIOdGwwhZyGTNOBgc5lyWeU3E_ve5xAB\"\n",
    "download_url = f\"https://drive.google.com/uc?export=download&id={file_id}\"\n",
    "\n",
    "response = requests.get(download_url)\n",
    "\n",
    "with open(\"bern_cna_35_gpt4cot.csv\", \"wb\") as ofile:\n",
    "    ofile.write(response.content)"
   ]
  }
 ],
 "metadata": {
  "language_info": {
   "name": "python"
  },
  "orig_nbformat": 4
 },
 "nbformat": 4,
 "nbformat_minor": 2
}
