{
 "cells": [
  {
   "cell_type": "code",
   "execution_count": 13,
   "metadata": {},
   "outputs": [],
   "source": [
    "# standar imports\n",
    "import json\n",
    "import pandas as pd\n",
    "import re\n",
    "import tqdm\n",
    "import pprint as pp"
   ]
  },
  {
   "cell_type": "code",
   "execution_count": 14,
   "metadata": {},
   "outputs": [],
   "source": [
    "# load the dataset from causalbenchmark/data/cladder-v1-questions.json\n",
    "with open('../../data/cladder-v1-questions.json') as f:\n",
    "    data = json.load(f)"
   ]
  },
  {
   "cell_type": "code",
   "execution_count": 24,
   "metadata": {},
   "outputs": [
    {
     "data": {
      "text/html": [
       "<div>\n",
       "<style scoped>\n",
       "    .dataframe tbody tr th:only-of-type {\n",
       "        vertical-align: middle;\n",
       "    }\n",
       "\n",
       "    .dataframe tbody tr th {\n",
       "        vertical-align: top;\n",
       "    }\n",
       "\n",
       "    .dataframe thead th {\n",
       "        text-align: right;\n",
       "    }\n",
       "</style>\n",
       "<table border=\"1\" class=\"dataframe\">\n",
       "  <thead>\n",
       "    <tr style=\"text-align: right;\">\n",
       "      <th></th>\n",
       "      <th>question_id</th>\n",
       "      <th>desc_id</th>\n",
       "      <th>given_info</th>\n",
       "      <th>question</th>\n",
       "      <th>answer</th>\n",
       "      <th>meta</th>\n",
       "      <th>reasoning</th>\n",
       "    </tr>\n",
       "  </thead>\n",
       "  <tbody>\n",
       "    <tr>\n",
       "      <th>0</th>\n",
       "      <td>19</td>\n",
       "      <td>alarm-mediation-nie-model1-spec1-q1</td>\n",
       "      <td>For husbands that don't set the alarm and wive...</td>\n",
       "      <td>Does husband negatively affect alarm clock thr...</td>\n",
       "      <td>no</td>\n",
       "      <td>{'story_id': 'alarm', 'graph_id': 'mediation',...</td>\n",
       "      <td>{'step0': 'Let X = husband; V2 = wife; Y = ala...</td>\n",
       "    </tr>\n",
       "    <tr>\n",
       "      <th>1</th>\n",
       "      <td>23</td>\n",
       "      <td>alarm-mediation-marginal-model1-spec1-q1</td>\n",
       "      <td>The overall probability of alarm set by husban...</td>\n",
       "      <td>Is ringing alarm less likely than silent alarm...</td>\n",
       "      <td>no</td>\n",
       "      <td>{'story_id': 'alarm', 'graph_id': 'mediation',...</td>\n",
       "      <td>{'step0': 'Let X = husband; V2 = wife; Y = ala...</td>\n",
       "    </tr>\n",
       "    <tr>\n",
       "      <th>2</th>\n",
       "      <td>35</td>\n",
       "      <td>alarm-mediation-nde-model2-spec2-q1</td>\n",
       "      <td>For husbands that don't set the alarm and wive...</td>\n",
       "      <td>If we disregard the mediation effect through w...</td>\n",
       "      <td>no</td>\n",
       "      <td>{'story_id': 'alarm', 'graph_id': 'mediation',...</td>\n",
       "      <td>{'step0': 'Let X = husband; V2 = wife; Y = ala...</td>\n",
       "    </tr>\n",
       "    <tr>\n",
       "      <th>3</th>\n",
       "      <td>51</td>\n",
       "      <td>alarm-mediation-marginal-model3-spec3-q1</td>\n",
       "      <td>The overall probability of alarm set by husban...</td>\n",
       "      <td>Is ringing alarm less likely than silent alarm...</td>\n",
       "      <td>no</td>\n",
       "      <td>{'story_id': 'alarm', 'graph_id': 'mediation',...</td>\n",
       "      <td>{'step0': 'Let X = husband; V2 = wife; Y = ala...</td>\n",
       "    </tr>\n",
       "    <tr>\n",
       "      <th>4</th>\n",
       "      <td>54</td>\n",
       "      <td>alarm-mediation-backadj-model3-spec3-q0</td>\n",
       "      <td>Method 1: We look at how husband correlates wi...</td>\n",
       "      <td>To understand how husband affects alarm clock,...</td>\n",
       "      <td>no</td>\n",
       "      <td>{'story_id': 'alarm', 'graph_id': 'mediation',...</td>\n",
       "      <td>None</td>\n",
       "    </tr>\n",
       "  </tbody>\n",
       "</table>\n",
       "</div>"
      ],
      "text/plain": [
       "   question_id                                   desc_id  \\\n",
       "0           19       alarm-mediation-nie-model1-spec1-q1   \n",
       "1           23  alarm-mediation-marginal-model1-spec1-q1   \n",
       "2           35       alarm-mediation-nde-model2-spec2-q1   \n",
       "3           51  alarm-mediation-marginal-model3-spec3-q1   \n",
       "4           54   alarm-mediation-backadj-model3-spec3-q0   \n",
       "\n",
       "                                          given_info  \\\n",
       "0  For husbands that don't set the alarm and wive...   \n",
       "1  The overall probability of alarm set by husban...   \n",
       "2  For husbands that don't set the alarm and wive...   \n",
       "3  The overall probability of alarm set by husban...   \n",
       "4  Method 1: We look at how husband correlates wi...   \n",
       "\n",
       "                                            question answer  \\\n",
       "0  Does husband negatively affect alarm clock thr...     no   \n",
       "1  Is ringing alarm less likely than silent alarm...     no   \n",
       "2  If we disregard the mediation effect through w...     no   \n",
       "3  Is ringing alarm less likely than silent alarm...     no   \n",
       "4  To understand how husband affects alarm clock,...     no   \n",
       "\n",
       "                                                meta  \\\n",
       "0  {'story_id': 'alarm', 'graph_id': 'mediation',...   \n",
       "1  {'story_id': 'alarm', 'graph_id': 'mediation',...   \n",
       "2  {'story_id': 'alarm', 'graph_id': 'mediation',...   \n",
       "3  {'story_id': 'alarm', 'graph_id': 'mediation',...   \n",
       "4  {'story_id': 'alarm', 'graph_id': 'mediation',...   \n",
       "\n",
       "                                           reasoning  \n",
       "0  {'step0': 'Let X = husband; V2 = wife; Y = ala...  \n",
       "1  {'step0': 'Let X = husband; V2 = wife; Y = ala...  \n",
       "2  {'step0': 'Let X = husband; V2 = wife; Y = ala...  \n",
       "3  {'step0': 'Let X = husband; V2 = wife; Y = ala...  \n",
       "4                                               None  "
      ]
     },
     "execution_count": 24,
     "metadata": {},
     "output_type": "execute_result"
    }
   ],
   "source": [
    "# read the dataset as a pandas dataframe\n",
    "df = pd.DataFrame(data)\n",
    "df.head()   "
   ]
  },
  {
   "cell_type": "code",
   "execution_count": 37,
   "metadata": {},
   "outputs": [
    {
     "data": {
      "text/plain": [
       "'step0: Let X = husband; V2 = wife; Y = alarm clock. step1: X->V2,X->Y,V2->Y step2: E[Y_{X=0, V2=1} - Y_{X=0, V2=0}] step3: \\\\sum_{V2 = v} P(Y=1|X =0,V2 = v)*[P(V2 = v | X = 1) − P(V2 = v | X = 0)] step4: P(Y=1 | X=0, V2=0) = 0.06, P(Y=1 | X=0, V2=1) = 0.51, P(Y=1 | X=1, V2=0) = 0.47, P(Y=1 | X=1, V2=1) = 0.92, P(V2=1 | X=0) = 0.45, P(V2=1 | X=1) = 0.63 step5: 0.63 * (0.51 - 0.06)+ 0.45 * (0.92 - 0.47)= 0.08 end: 0.08 > 0'"
      ]
     },
     "execution_count": 37,
     "metadata": {},
     "output_type": "execute_result"
    }
   ],
   "source": [
    "df_reasoning = df['reasoning']\n",
    "d = df_reasoning.head()[0]\n",
    "reasoning = ' '.join([str(k) + \": \" +  str(v) for k, v in d.items()])\n",
    "# replace the new line characters with spaces\n",
    "reasoning = re.sub('\\n', ', ', reasoning)\n",
    "reasoning"
   ]
  },
  {
   "cell_type": "code",
   "execution_count": 38,
   "metadata": {},
   "outputs": [
    {
     "name": "stderr",
     "output_type": "stream",
     "text": [
      "10560it [00:00, 49871.75it/s]\n"
     ]
    }
   ],
   "source": [
    "# write each row of the dataframe to a file \n",
    "with open('../../data/cladder-v1-reasoning.txt', 'w') as f:\n",
    "    for index, row in tqdm.tqdm(df.iterrows()):\n",
    "        \n",
    "        d: dict = row['reasoning']\n",
    "        if d is not None:\n",
    "            # concat the reasoning dict entries into a single string\n",
    "            reasoning = ' '.join([str(k) + \": \" +  str(v) for k, v in d.items()])\n",
    "            reasoning = re.sub('\\n', ', ', reasoning)\n",
    "            f.write(reasoning + '\\n')"
   ]
  },
  {
   "cell_type": "code",
   "execution_count": 39,
   "metadata": {},
   "outputs": [
    {
     "name": "stderr",
     "output_type": "stream",
     "text": [
      "10560it [00:00, 39950.54it/s]\n"
     ]
    }
   ],
   "source": [
    "# write each row of the dataframe to a file \n",
    "with open('../../data/cladder-v1-question_reasoning.txt', 'w') as f:\n",
    "    for index, row in tqdm.tqdm(df.iterrows()):\n",
    "        d: dict = row['reasoning']\n",
    "        if d is not None:\n",
    "            # concat the reasoning dict entries into a single string\n",
    "            reasoning = ' '.join([str(k) + \": \" +  str(v) for k, v in d.items()])\n",
    "            reasoning = re.sub('\\n', ', ', reasoning)\n",
    "            f.write(row['given_info'] + ' ' + row['question'] + ' '+ reasoning + '\\n')\n",
    "        else:\n",
    "            f.write(row['given_info'] + ' ' + row['question'] + '\\n')"
   ]
  },
  {
   "cell_type": "code",
   "execution_count": 5,
   "metadata": {},
   "outputs": [
    {
     "data": {
      "text/html": [
       "<div>\n",
       "<style scoped>\n",
       "    .dataframe tbody tr th:only-of-type {\n",
       "        vertical-align: middle;\n",
       "    }\n",
       "\n",
       "    .dataframe tbody tr th {\n",
       "        vertical-align: top;\n",
       "    }\n",
       "\n",
       "    .dataframe thead th {\n",
       "        text-align: right;\n",
       "    }\n",
       "</style>\n",
       "<table border=\"1\" class=\"dataframe\">\n",
       "  <thead>\n",
       "    <tr style=\"text-align: right;\">\n",
       "      <th></th>\n",
       "      <th>given_info</th>\n",
       "      <th>question</th>\n",
       "    </tr>\n",
       "  </thead>\n",
       "  <tbody>\n",
       "    <tr>\n",
       "      <th>0</th>\n",
       "      <td>For husbands that don't set the alarm and wive...</td>\n",
       "      <td>Does husband negatively affect alarm clock thr...</td>\n",
       "    </tr>\n",
       "    <tr>\n",
       "      <th>1</th>\n",
       "      <td>The overall probability of alarm set by husban...</td>\n",
       "      <td>Is ringing alarm less likely than silent alarm...</td>\n",
       "    </tr>\n",
       "    <tr>\n",
       "      <th>2</th>\n",
       "      <td>For husbands that don't set the alarm and wive...</td>\n",
       "      <td>If we disregard the mediation effect through w...</td>\n",
       "    </tr>\n",
       "    <tr>\n",
       "      <th>3</th>\n",
       "      <td>The overall probability of alarm set by husban...</td>\n",
       "      <td>Is ringing alarm less likely than silent alarm...</td>\n",
       "    </tr>\n",
       "    <tr>\n",
       "      <th>4</th>\n",
       "      <td>Method 1: We look at how husband correlates wi...</td>\n",
       "      <td>To understand how husband affects alarm clock,...</td>\n",
       "    </tr>\n",
       "  </tbody>\n",
       "</table>\n",
       "</div>"
      ],
      "text/plain": [
       "                                          given_info  \\\n",
       "0  For husbands that don't set the alarm and wive...   \n",
       "1  The overall probability of alarm set by husban...   \n",
       "2  For husbands that don't set the alarm and wive...   \n",
       "3  The overall probability of alarm set by husban...   \n",
       "4  Method 1: We look at how husband correlates wi...   \n",
       "\n",
       "                                            question  \n",
       "0  Does husband negatively affect alarm clock thr...  \n",
       "1  Is ringing alarm less likely than silent alarm...  \n",
       "2  If we disregard the mediation effect through w...  \n",
       "3  Is ringing alarm less likely than silent alarm...  \n",
       "4  To understand how husband affects alarm clock,...  "
      ]
     },
     "execution_count": 5,
     "metadata": {},
     "output_type": "execute_result"
    }
   ],
   "source": [
    "# keep the given_info and question columns\n",
    "df = df[['given_info', 'question']]\n",
    "df.head()"
   ]
  },
  {
   "cell_type": "code",
   "execution_count": 19,
   "metadata": {},
   "outputs": [
    {
     "name": "stderr",
     "output_type": "stream",
     "text": [
      "10560it [00:00, 54765.81it/s]\n"
     ]
    }
   ],
   "source": [
    "# write each row of the dataframe to a file \n",
    "with open('../../data/cladder-v1-questions.txt', 'w') as f:\n",
    "    for index, row in tqdm.tqdm(df.iterrows()):\n",
    "        f.write(row['given_info'] + ' ' + row['question'] + '\\n')\n"
   ]
  },
  {
   "cell_type": "code",
   "execution_count": null,
   "metadata": {},
   "outputs": [],
   "source": [
    "\n"
   ]
  },
  {
   "cell_type": "code",
   "execution_count": null,
   "metadata": {},
   "outputs": [],
   "source": []
  },
  {
   "cell_type": "code",
   "execution_count": null,
   "metadata": {},
   "outputs": [],
   "source": []
  },
  {
   "cell_type": "code",
   "execution_count": null,
   "metadata": {},
   "outputs": [],
   "source": [
    "#@title define functions\n",
    "params = {\n",
    "    'max_length':1024,\n",
    "    'repetition_penalty':1.05,\n",
    "    'num_beams':4\n",
    "}\n",
    "def split_text(text: str) -> list:\n",
    "    # Split the text into sentences using regex\n",
    "    sentences = re.split(r\"(?<=[^A-Z].[.?]) +(?=[A-Z])\", text)\n",
    "    sentence_batches = []\n",
    "    temp_batch = []\n",
    "    for sentence in sentences:\n",
    "        temp_batch.append(sentence)\n",
    "        \"\"\"If the length of the temporary batch is between 2 \n",
    "        and 3 sentences, or if it is the last batch, add \n",
    "        it to the list of sentence batches \"\"\"\n",
    "        if len(temp_batch) >= 2 and len(temp_batch) <= 3 or sentence == sentences[-1]:\n",
    "            sentence_batches.append(temp_batch)\n",
    "            temp_batch = []\n",
    "    return sentence_batches"
   ]
  },
  {
   "cell_type": "code",
   "execution_count": null,
   "metadata": {},
   "outputs": [],
   "source": [
    "def correct_text(text: str, checker, corrector, separator: str = \" \") -> str:\n",
    "    sentence_batches = split_text(text)\n",
    "    corrected_text = []\n",
    "    for batch in tqdm(\n",
    "        sentence_batches, total=len(sentence_batches), desc=\"correcting text..\"\n",
    "    ):\n",
    "        raw_text = \" \".join(batch)\n",
    "        results = checker(raw_text)\n",
    "        if results[0][\"label\"] != \"LABEL_1\" or (\n",
    "            results[0][\"label\"] == \"LABEL_1\" and results[0][\"score\"] < 0.9\n",
    "        ):\n",
    "            # Correct the text using the text-generation pipeline\n",
    "            corrected_batch = corrector(raw_text, **params)\n",
    "            corrected_text.append(corrected_batch[0][\"generated_text\"])\n",
    "            print(\"-----------------------------\")\n",
    "        else:\n",
    "            corrected_text.append(raw_text)\n",
    "    corrected_text = separator.join(corrected_text)\n",
    "    return corrected_text"
   ]
  },
  {
   "cell_type": "code",
   "execution_count": null,
   "metadata": {},
   "outputs": [],
   "source": [
    "# Initialize the text-classification pipeline\n",
    "from transformers import pipeline\n",
    "checker = pipeline(\"text-classification\", \"textattack/roberta-base-CoLA\")\n",
    "\n",
    "# Initialize the text-generation pipeline\n",
    "from transformers import pipeline\n",
    "corrector = pipeline(\n",
    "        \"text2text-generation\",\n",
    "        \"pszemraj/flan-t5-large-grammar-synthesis\",\n",
    "         device=0\n",
    "    )"
   ]
  },
  {
   "cell_type": "code",
   "execution_count": null,
   "metadata": {},
   "outputs": [],
   "source": [
    "raw_text = \"my helth is not well, I hv to tak 2 day leave.\"\n",
    "# pp.pprint(raw_text)\n",
    "corrected_text = correct_text(raw_text, checker, corrector)\n",
    "pp.pprint(corrected_text)\n",
    "\n",
    "# output:\n",
    "#'my health is not well, I have to take 2 days leave.'"
   ]
  }
 ],
 "metadata": {
  "kernelspec": {
   "display_name": "causalLLM",
   "language": "python",
   "name": "python3"
  },
  "language_info": {
   "codemirror_mode": {
    "name": "ipython",
    "version": 3
   },
   "file_extension": ".py",
   "mimetype": "text/x-python",
   "name": "python",
   "nbconvert_exporter": "python",
   "pygments_lexer": "ipython3",
   "version": "3.9.16"
  },
  "orig_nbformat": 4
 },
 "nbformat": 4,
 "nbformat_minor": 2
}
