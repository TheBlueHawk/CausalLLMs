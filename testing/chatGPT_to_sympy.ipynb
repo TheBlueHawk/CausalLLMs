{
 "cells": [
  {
   "attachments": {},
   "cell_type": "markdown",
   "metadata": {},
   "source": [
    "# ChatGPT to SymPy\n",
    "\n",
    "## Firing squad"
   ]
  },
  {
   "attachments": {},
   "cell_type": "markdown",
   "metadata": {},
   "source": [
    "**Prompt**: We are going to convert some sentences in symbolic format that can be processed by SymPy\n",
    "\n",
    "**Out**: Sure, I can help you with that. Please provide me with the sentences that you want to convert to symbolic format.\n",
    "\n",
    "**Prompt**: Context/Scenario: There are two rifleman (R1 and R2) in a firing squad. On their captain’s order, they both shoot simultaneously and accurately. The prisoner dies.\n",
    "\n",
    "**Out**: Okay, here are the sentences converted to symbolic format using SymPy notation:\n",
    "- Let R1 and R2 be the two rifleman in the firing squad.\n",
    "- Let S be the event that the rifleman shoot simultaneously and accurately.\n",
    "- Let D be the event that the prisoner dies.\n",
    "- The captain's order implies that P(S) = 1.\n",
    "- Therefore, the probability of the prisoner dying can be expressed as P(D) = P(S and D) + P(not S and D).\n",
    "- Since the rifleman shoot simultaneously and accurately, P(S and D) = P(S) * P(D|R1 and R2).\n",
    "- Assuming that the actions of R1 and R2 are independent, P(D|R1 and R2) = P(D|R1) * P(D|R2).\n",
    "- Therefore, P(D) = P(S) * P(D|R1) * P(D|R2).\n",
    "\n",
    "The output will be: 1/4"
   ]
  },
  {
   "cell_type": "code",
   "execution_count": 3,
   "metadata": {},
   "outputs": [
    {
     "data": {
      "text/latex": [
       "$\\displaystyle \\frac{1}{4}$"
      ],
      "text/plain": [
       "1/4"
      ]
     },
     "metadata": {},
     "output_type": "display_data"
    }
   ],
   "source": [
    "import sympy as sp\n",
    "\n",
    "# Define symbols\n",
    "R1 = sp.Symbol('R1')\n",
    "R2 = sp.Symbol('R2')\n",
    "S = sp.Symbol('S')\n",
    "D = sp.Symbol('D')\n",
    "\n",
    "# Define probability of simultaneous and accurate shooting\n",
    "P_S = 1\n",
    "\n",
    "# Define conditional probabilities\n",
    "P_D_given_R1 = sp.Rational(1, 2)  # Assuming R1's shot is equally likely to hit or miss the target\n",
    "P_D_given_R2 = sp.Rational(1, 2)  # Assuming R2's shot is equally likely to hit or miss the target\n",
    "\n",
    "# Define probability of prisoner dying\n",
    "P_D = P_S * P_D_given_R1 * P_D_given_R2\n",
    "\n",
    "# Display the result\n",
    "display(P_D)"
   ]
  },
  {
   "attachments": {},
   "cell_type": "markdown",
   "metadata": {},
   "source": [
    "**Prompt**: did R1’s shot cause the prisoner’s death?\n",
    "\n",
    "**Out**: Based on the given information, we cannot determine with certainty whether R1's shot caused the prisoner's death. The probability of the prisoner dying is solely determined by the probabilities of each rifleman hitting or missing the target. We can say that both R1 and R2 contributed to the prisoner's death equally by shooting simultaneously and accurately, but we cannot attribute the causality of the death to a specific rifleman without additional information.\n",
    "\n",
    "The output will be: 1/2"
   ]
  },
  {
   "cell_type": "code",
   "execution_count": 4,
   "metadata": {},
   "outputs": [
    {
     "data": {
      "text/latex": [
       "$\\displaystyle \\frac{1}{2}$"
      ],
      "text/plain": [
       "1/2"
      ]
     },
     "metadata": {},
     "output_type": "display_data"
    }
   ],
   "source": [
    "import sympy as sp\n",
    "\n",
    "# Define symbols\n",
    "R1 = sp.Symbol('R1')\n",
    "R2 = sp.Symbol('R2')\n",
    "S = sp.Symbol('S')\n",
    "D = sp.Symbol('D')\n",
    "\n",
    "# Define probability of simultaneous and accurate shooting\n",
    "P_S = 1\n",
    "\n",
    "# Define conditional probabilities\n",
    "P_D_given_R1 = sp.Rational(1, 2)  # Assuming R1's shot is equally likely to hit or miss the target\n",
    "P_D_given_R2 = sp.Rational(1, 2)  # Assuming R2's shot is equally likely to hit or miss the target\n",
    "\n",
    "# Define probability of prisoner dying\n",
    "P_D = P_S * P_D_given_R1 * P_D_given_R2\n",
    "\n",
    "# Define probability of R1's shot causing the prisoner's death\n",
    "P_R1_causes_D = P_D_given_R1\n",
    "\n",
    "# Display the result\n",
    "display(P_R1_causes_D)"
   ]
  },
  {
   "attachments": {},
   "cell_type": "markdown",
   "metadata": {},
   "source": [
    "**Prompt**: would the prisoner be dead if we make sure that R1 does not fire his gun?\n",
    "\n",
    "**Out**: To answer the question \"Would the prisoner be dead if we make sure that R1 does not fire his gun?\", we need to compute the probability of the prisoner dying given that R1 does not fire his gun. Here is the SymPy code for the query:\n",
    "\n",
    "The output will be: 0\n",
    "\n",
    "This means that if we make sure that R1 does not fire his gun, the probability of the prisoner dying is 0 or impossible. This is because in the given scenario, both R1 and R2 need to shoot simultaneously and accurately for the prisoner to die. If R1 does not fire his gun, then simultaneous shooting cannot happen, and therefore the prisoner cannot die."
   ]
  },
  {
   "cell_type": "code",
   "execution_count": null,
   "metadata": {},
   "outputs": [],
   "source": [
    "import sympy as sp\n",
    "\n",
    "# Define symbols\n",
    "R1 = sp.Symbol('R1')\n",
    "R2 = sp.Symbol('R2')\n",
    "S = sp.Symbol('S')\n",
    "D = sp.Symbol('D')\n",
    "\n",
    "# Define probability of simultaneous and accurate shooting\n",
    "P_S = 1\n",
    "\n",
    "# Define conditional probabilities\n",
    "P_D_given_R1 = sp.Rational(0, 1)  # Assuming R1 does not fire his gun\n",
    "P_D_given_R2 = sp.Rational(1, 2)  # Assuming R2's shot is equally likely to hit or miss the target\n",
    "\n",
    "# Define probability of prisoner dying\n",
    "P_D = P_S * P_D_given_R1 * P_D_given_R2\n",
    "\n",
    "# Display the result\n",
    "display(P_D)"
   ]
  },
  {
   "attachments": {},
   "cell_type": "markdown",
   "metadata": {},
   "source": [
    "**Prompt**: Analyze the correctness of your answer\n",
    "\n",
    "\n",
    "**Out**: The SymPy code I provided is correct based on the assumptions made in the scenario. We assumed that R1 and R2 shoot simultaneously and accurately, and that the probabilities of hitting or missing the target are known. Based on these assumptions, we were able to compute the probability of the prisoner dying and the probability of R1's shot causing the prisoner's death.\n",
    "\n",
    "For the second question, we found that the probability of R1's shot causing the prisoner's death is 1/2 or 50%. This means that if we assume that the probabilities of hitting or missing the target are the same for both R1 and R2, then both rifleman contributed equally to the prisoner's death, and we cannot attribute the causality of the death to a specific rifleman without additional information.\n",
    "\n",
    "For the third question, we found that if we make sure that R1 does not fire his gun, then the probability of the prisoner dying is 0 or impossible. This is because in the given scenario, both R1 and R2 need to shoot simultaneously and accurately for the prisoner to die. If R1 does not fire his gun, then simultaneous shooting cannot happen, and therefore the prisoner cannot die.\n",
    "\n",
    "However, it's worth noting that these answers are based on assumptions made in the scenario, and that these assumptions may not reflect the reality of the situation. Additionally, there may be other factors that could influence the outcomes that are not considered in our analysis."
   ]
  },
  {
   "attachments": {},
   "cell_type": "markdown",
   "metadata": {},
   "source": [
    "### Fixing assumptions\n",
    "\n",
    "Prompt: Okay let's now repeat the same scenario \"There are two rifleman (R1 and R2) in a firing squad. On their captain’s order, they both shoot simultaneously and accurately. The prisoner dies.\" assuming that either shot is enough to kill the prisoner\n",
    "\n",
    "**Out**: If we assume that either shot is enough to kill the prisoner, then we can update the conditional probabilities accordingly. Here is the SymPy code for the scenario:\n",
    "\n",
    "The output will be: 1/2\n",
    "\n",
    "Even with the updated assumption, the probability of R1's shot causing the prisoner's death remains at 1/2 or 50%. This means that the outcome is still independent of which rifleman fired the fatal shot."
   ]
  },
  {
   "cell_type": "code",
   "execution_count": 5,
   "metadata": {},
   "outputs": [
    {
     "data": {
      "text/latex": [
       "$\\displaystyle 1$"
      ],
      "text/plain": [
       "1"
      ]
     },
     "metadata": {},
     "output_type": "display_data"
    }
   ],
   "source": [
    "import sympy as sp\n",
    "\n",
    "# Define symbols\n",
    "R1 = sp.Symbol('R1')\n",
    "R2 = sp.Symbol('R2')\n",
    "S = sp.Symbol('S')\n",
    "D = sp.Symbol('D')\n",
    "\n",
    "# Define probability of simultaneous and accurate shooting\n",
    "P_S = 1\n",
    "\n",
    "# Define conditional probabilities\n",
    "P_D_given_R1 = sp.Rational(1, 1)  # Assuming R1's shot is guaranteed to kill the prisoner if it hits\n",
    "P_D_given_R2 = sp.Rational(1, 1)  # Assuming R2's shot is guaranteed to kill the prisoner if it hits\n",
    "\n",
    "# Define probability of prisoner dying\n",
    "P_D = P_S * (P_D_given_R1 + (1 - P_D_given_R1) * P_D_given_R2)\n",
    "\n",
    "# Define probability of R1's shot causing the prisoner's death\n",
    "P_R1_causes_D = P_D_given_R1 / P_D\n",
    "\n",
    "# Display the result\n",
    "display(P_R1_causes_D)\n"
   ]
  },
  {
   "attachments": {},
   "cell_type": "markdown",
   "metadata": {},
   "source": [
    "**Prompt**: And would the prisoner be dead if we make sure that R1 does not fire his gun?\n",
    "\n",
    "**Out**: If we assume that either shot is enough to kill the prisoner, and we make sure that R1 does not fire his gun, then the probability of the prisoner dying is equal to the probability of R2 hitting the target. Here is the SymPy code for the query:\n",
    "\n",
    "The output will be: 1/2\n",
    "\n",
    "This means that if we make sure that R1 does not fire his gun, the probability of the prisoner dying is 1/2 or 50%. This is because R2's shot is guaranteed to kill the prisoner if it hits, and we assumed that both rifleman shoot accurately. Therefore, the probability of R2 hitting the target is 1/2."
   ]
  },
  {
   "cell_type": "code",
   "execution_count": 6,
   "metadata": {},
   "outputs": [
    {
     "data": {
      "text/latex": [
       "$\\displaystyle 1$"
      ],
      "text/plain": [
       "1"
      ]
     },
     "metadata": {},
     "output_type": "display_data"
    }
   ],
   "source": [
    "import sympy as sp\n",
    "\n",
    "# Define symbols\n",
    "R1 = sp.Symbol('R1')\n",
    "R2 = sp.Symbol('R2')\n",
    "S = sp.Symbol('S')\n",
    "D = sp.Symbol('D')\n",
    "\n",
    "# Define probability of simultaneous and accurate shooting\n",
    "P_S = 1\n",
    "\n",
    "# Define conditional probabilities\n",
    "P_D_given_R1 = sp.Rational(0, 1)  # Assuming R1 does not fire his gun\n",
    "P_D_given_R2 = sp.Rational(1, 1)  # Assuming R2's shot is guaranteed to kill the prisoner if it hits\n",
    "\n",
    "# Define probability of prisoner dying\n",
    "P_D = P_S * ((1 - P_D_given_R1) * P_D_given_R2)\n",
    "\n",
    "# Display the result\n",
    "display(P_D)\n"
   ]
  },
  {
   "attachments": {},
   "cell_type": "markdown",
   "metadata": {},
   "source": [
    "### Analysis\n",
    "\n",
    "- The sympy translation seems to work well, code is clear, runs and outputs the correct results.\n",
    "- Howver the code generation depends on the LLM assumptions that might not correctly reflect world knowledge\n",
    "  - in the problem statemetn it's implicit that a shot is enough to kill the prisoner, but the model assumes that both shots are necessary to kill\n",
    "- LLM hallucintes the output of the sympy program and it's not reliable"
   ]
  },
  {
   "attachments": {},
   "cell_type": "markdown",
   "metadata": {},
   "source": [
    "## Candle\n",
    "\n",
    "**Prompt**: New scenario: A man blows out a candle. The candle only had 5 minutes of wax left to burn at the time.\n",
    "Question: is the man blowing out the candle the cause of darkness in the room one hour later?\n",
    "\n",
    "**Out**: Assuming that blowing out the candle is the only possible cause of the darkness in the room one hour later, and that the candle would have provided light for exactly 5 minutes if left burning, then the man blowing out the candle is not the cause of the darkness in the room one hour later. Here is the SymPy code for the query:\n",
    "\n",
    "The output will be: 0\n",
    "\n",
    "This means that the probability of the man blowing out the candle being the cause of darkness in the room one hour later is 0 or impossible. This is because the candle would have burned out after 5 minutes, and one hour is much longer than 5 minutes, so the candle would not have provided light for that entire hour regardless of whether it was blown out or not."
   ]
  },
  {
   "cell_type": "code",
   "execution_count": 7,
   "metadata": {},
   "outputs": [
    {
     "data": {
      "text/latex": [
       "$\\displaystyle 1$"
      ],
      "text/plain": [
       "1"
      ]
     },
     "metadata": {},
     "output_type": "display_data"
    }
   ],
   "source": [
    "import sympy as sp\n",
    "\n",
    "# Define symbols\n",
    "B = sp.Symbol('B')  # Blowing out the candle\n",
    "D = sp.Symbol('D')  # Darkness in the room one hour later\n",
    "\n",
    "# Define probability of the events\n",
    "P_B = 1  # Assuming that the man blew out the candle\n",
    "P_D_given_B = sp.Rational(0, 1)  # Assuming the candle would have provided light for exactly 5 minutes if left burning\n",
    "\n",
    "# Define probability of darkness in the room one hour later\n",
    "P_D = (1 - P_D_given_B) * P_B\n",
    "\n",
    "# Display the result\n",
    "display(P_D)\n"
   ]
  },
  {
   "attachments": {},
   "cell_type": "markdown",
   "metadata": {},
   "source": [
    "**Prompt**: The code is not correct\n",
    "\n",
    "**Out**: I apologize for the mistake in my previous code. You are correct, the probability of the man blowing out the candle being the cause of darkness in the room one hour later is not zero. Here is the updated SymPy code for the query:\n",
    "\n",
    "The output will be: 1\n",
    "\n",
    "This means that the probability of the man blowing out the candle being the cause of darkness in the room one hour later is 1 or certain. This is because if the man blew out the candle, then there would have been no light source in the room, and darkness would have been the result."
   ]
  },
  {
   "cell_type": "code",
   "execution_count": 8,
   "metadata": {},
   "outputs": [
    {
     "data": {
      "text/latex": [
       "$\\displaystyle 0$"
      ],
      "text/plain": [
       "0"
      ]
     },
     "metadata": {},
     "output_type": "display_data"
    }
   ],
   "source": [
    "import sympy as sp\n",
    "\n",
    "# Define symbols\n",
    "B = sp.Symbol('B')  # Blowing out the candle\n",
    "D = sp.Symbol('D')  # Darkness in the room one hour later\n",
    "\n",
    "# Define probability of the events\n",
    "P_B = 1  # Assuming that the man blew out the candle\n",
    "P_D_given_B = sp.Rational(1, 1)  # Assuming the candle would have provided light for exactly 5 minutes if left burning\n",
    "\n",
    "# Define probability of darkness in the room one hour later\n",
    "P_D = (1 - P_D_given_B) * P_B\n",
    "\n",
    "# Display the result\n",
    "display(P_D)\n"
   ]
  },
  {
   "attachments": {},
   "cell_type": "markdown",
   "metadata": {},
   "source": [
    "**Prompt**: Analyze your previous answer (to the candle problem)\n",
    "\n",
    "**Out**: I apologize for the mistake in my previous answer to the candle problem. The updated SymPy code correctly shows that the man blowing out the candle is indeed the cause of darkness in the room one hour later, given that there were no other sources of light present in the room.\n",
    "\n",
    "The analysis of the problem using probability theory assumes that the events are independent and that the probability of each event can be estimated. In this case, we assume that blowing out the candle is the only possible cause of the darkness in the room one hour later, and that the candle would have provided light for exactly 5 minutes if left burning.\n",
    "\n",
    "The probability of the man blowing out the candle is 1, as we assume that he did blow out the candle. The probability of darkness in the room one hour later given that the man blew out the candle is also 1, as the candle would have provided light for exactly 5 minutes if left burning, and one hour is much longer than 5 minutes, so the candle would not have provided light for that entire hour regardless of whether it was blown out or not.\n",
    "\n",
    "Therefore, using Bayes' theorem, we can calculate the probability of the man blowing out the candle being the cause of darkness in the room one hour later. The probability turns out to be 1 or certain, indicating that the man blowing out the candle is indeed the cause of the darkness in the room one hour later."
   ]
  },
  {
   "attachments": {},
   "cell_type": "markdown",
   "metadata": {},
   "source": [
    "### Analysis\n",
    "\n",
    "- This time the LLM reasoning is correct but not the code\n",
    "- Generated code only compute the probabilty of the room being dark after 1h and not the contrafactual reasoning of what would have happend if the man doesn't blow the candle\n",
    "- Hallucination of the program output to make it coherent with the LLM narrative (which is indeed correct)\n",
    "- Asking for fixing just worsen the result with both code and LLM explaination being wrong"
   ]
  },
  {
   "cell_type": "code",
   "execution_count": null,
   "metadata": {},
   "outputs": [],
   "source": []
  }
 ],
 "metadata": {
  "kernelspec": {
   "display_name": "causalLLM",
   "language": "python",
   "name": "python3"
  },
  "language_info": {
   "codemirror_mode": {
    "name": "ipython",
    "version": 3
   },
   "file_extension": ".py",
   "mimetype": "text/x-python",
   "name": "python",
   "nbconvert_exporter": "python",
   "pygments_lexer": "ipython3",
   "version": "3.9.16"
  },
  "orig_nbformat": 4
 },
 "nbformat": 4,
 "nbformat_minor": 2
}
